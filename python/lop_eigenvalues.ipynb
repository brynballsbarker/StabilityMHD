{
 "cells": [
  {
   "cell_type": "code",
   "execution_count": 3,
   "metadata": {},
   "outputs": [],
   "source": [
    "from sympy import *"
   ]
  },
  {
   "cell_type": "code",
   "execution_count": 12,
   "metadata": {},
   "outputs": [],
   "source": [
    "u1, R, T, h1, Rnu, alpha, lamb, xi = symbols('u1, R, T, h1, Rnu, alpha, lamb, xi')"
   ]
  },
  {
   "cell_type": "code",
   "execution_count": 7,
   "metadata": {},
   "outputs": [],
   "source": [
    "df1 = Matrix(([u1,1/u1,0,0,0,0],\n",
    "                [R*T+u1**2,2,0,-h1,0,R/u1],\n",
    "                [0,0,1,0,-h1,0],\n",
    "                [0,0,0,alpha,0,0],\n",
    "                [0,0,-h1,0,u1,0],\n",
    "                [Rnu*u1*T+u1**3/2,Rnu*T/u1+3*u1/2,0,0,0,Rnu]))\n",
    "df2 = Matrix(([0,0,1/u1,0,0,0],\n",
    "                [0,0,1,0,-h1,0],\n",
    "                [R*T,0,0,h1,0,R/u1],\n",
    "                [0,0,h1,0,alpha-u1,0],\n",
    "                [0,0,0,0,0,0],\n",
    "                [0,0,Rnu*T/u1+h1**2+u1/2,0,-h1*u1,0]))"
   ]
  },
  {
   "cell_type": "code",
   "execution_count": 14,
   "metadata": {},
   "outputs": [],
   "source": [
    "tosub = {u1:1,alpha:1}\n",
    "df1m = df1.subs(tosub)\n",
    "df2m = df2.subs(tosub)"
   ]
  },
  {
   "cell_type": "code",
   "execution_count": 15,
   "metadata": {},
   "outputs": [],
   "source": [
    "Am = lamb*eye(6)+I*xi*df2m*df1m.inv()"
   ]
  },
  {
   "cell_type": "code",
   "execution_count": 27,
   "metadata": {},
   "outputs": [
    {
     "data": {
      "text/plain": [
       "Matrix([\n",
       "[                                                                                                                                                                                lamb,                                                               0,                                                  I*xi/(-h1**2 + 1),                                                                               0,                                              I*h1*xi/(-h1**2 + 1),                                                                                                           0],\n",
       "[                                                                                                                                                                                   0,                                                            lamb,                       -I*h1**2*xi/(-h1**2 + 1) + I*xi/(-h1**2 + 1),                                                                               0,                                                                 0,                                                                                                           0],\n",
       "[I*R*T*xi*(Rnu*(-R*T - (-R*T + 1)*(-Rnu*T - 1/2) - 1) + (R - Rnu*(-R*T + 1))*(Rnu*T + 3/2))/(R - Rnu*(-R*T + 1)) + I*R*xi*(-R*T - (-R*T + 1)*(-Rnu*T - 1/2) - 1)/(R - Rnu*(-R*T + 1)), I*R*Rnu*T*xi/(R - Rnu*(-R*T + 1)) + I*R*xi/(R - Rnu*(-R*T + 1)),                                                               lamb, I*R*Rnu*T*h1*xi/(R - Rnu*(-R*T + 1)) + I*R*h1*xi/(R - Rnu*(-R*T + 1)) + I*h1*xi,                                                                 0, I*R*T*xi*(-R + Rnu*(-R*T + 1) + Rnu*(R*T - 1))/(R - Rnu*(-R*T + 1)) + I*R*xi*(R*T - 1)/(R - Rnu*(-R*T + 1))],\n",
       "[                                                                                                                                                                                   0,                                                               0,                                               I*h1*xi/(-h1**2 + 1),                                                                            lamb,                                           I*h1**2*xi/(-h1**2 + 1),                                                                                                           0],\n",
       "[                                                                                                                                                                                   0,                                                               0,                                                                  0,                                                                               0,                                                              lamb,                                                                                                           0],\n",
       "[                                                                                                                                                                                   0,                                                               0, -I*h1**2*xi/(-h1**2 + 1) + I*xi*(Rnu*T + h1**2 + 1/2)/(-h1**2 + 1),                                                                               0, I*h1*xi*(Rnu*T + h1**2 + 1/2)/(-h1**2 + 1) - I*h1*xi/(-h1**2 + 1),                                                                                                        lamb]])"
      ]
     },
     "execution_count": 27,
     "metadata": {},
     "output_type": "execute_result"
    }
   ],
   "source": [
    "Am"
   ]
  },
  {
   "cell_type": "code",
   "execution_count": 32,
   "metadata": {},
   "outputs": [
    {
     "name": "stdout",
     "output_type": "stream",
     "text": [
      "[lamb, 0, -I*xi/(h1**2 - 1), 0, -I*h1*xi/(h1**2 - 1), 0]\n",
      "[0, lamb, I*xi, 0, 0, 0]\n",
      "[-I*R*xi*(2*Rnu*T + 1)/(2*R*Rnu*T + 2*R - 2*Rnu), I*R*xi*(Rnu*T + 1)/(R + Rnu*(R*T - 1)), lamb, I*h1*xi*(2*R*Rnu*T + 2*R - Rnu)/(R*Rnu*T + R - Rnu), 0, -I*R*xi/(R + Rnu*(R*T - 1))]\n",
      "[0, 0, -I*h1*xi/(h1**2 - 1), lamb, -I*h1**2*xi/(h1**2 - 1), 0]\n",
      "[0, 0, 0, 0, lamb, 0]\n",
      "[0, 0, -I*xi*(2*Rnu*T + 1)/(2*h1**2 - 2), 0, -I*h1*xi*(2*Rnu*T + 2*h1**2 - 1)/(2*h1**2 - 2), lamb]\n"
     ]
    }
   ],
   "source": [
    "for i in range(36):\n",
    "    Am[i] = Am[i].simplify()\n",
    "\n",
    "for i in range(6):\n",
    "    print(Am[i*6:i*6+6])"
   ]
  },
  {
   "cell_type": "code",
   "execution_count": 36,
   "metadata": {},
   "outputs": [
    {
     "data": {
      "text/plain": [
       "(R*Rnu*T*h1**2*lamb**6 - R*Rnu*T*h1**2*lamb**4*xi**2 - R*Rnu*T*lamb**6 + R*Rnu*T*lamb**4*xi**2 + R*h1**2*lamb**6 - R*h1**2*lamb**4*xi**2 - R*lamb**6 - Rnu*h1**2*lamb**6 + Rnu*h1**2*lamb**4*xi**2 + Rnu*lamb**6)/(R*Rnu*T*h1**2 - R*Rnu*T + R*h1**2 - R - Rnu*h1**2 + Rnu)"
      ]
     },
     "execution_count": 36,
     "metadata": {},
     "output_type": "execute_result"
    }
   ],
   "source": [
    "Am.det()"
   ]
  },
  {
   "cell_type": "code",
   "execution_count": 37,
   "metadata": {},
   "outputs": [],
   "source": [
    "mu = symbols('mu')\n",
    "B = Am - eye(6)*mu"
   ]
  },
  {
   "cell_type": "code",
   "execution_count": 38,
   "metadata": {},
   "outputs": [
    {
     "data": {
      "text/plain": [
       "Matrix([\n",
       "[                                      lamb - mu,                                      0,                 -I*xi/(h1**2 - 1),                                                   0,                           -I*h1*xi/(h1**2 - 1),                           0],\n",
       "[                                              0,                              lamb - mu,                              I*xi,                                                   0,                                              0,                           0],\n",
       "[-I*R*xi*(2*Rnu*T + 1)/(2*R*Rnu*T + 2*R - 2*Rnu), I*R*xi*(Rnu*T + 1)/(R + Rnu*(R*T - 1)),                         lamb - mu, I*h1*xi*(2*R*Rnu*T + 2*R - Rnu)/(R*Rnu*T + R - Rnu),                                              0, -I*R*xi/(R + Rnu*(R*T - 1))],\n",
       "[                                              0,                                      0,              -I*h1*xi/(h1**2 - 1),                                           lamb - mu,                        -I*h1**2*xi/(h1**2 - 1),                           0],\n",
       "[                                              0,                                      0,                                 0,                                                   0,                                      lamb - mu,                           0],\n",
       "[                                              0,                                      0, -I*xi*(2*Rnu*T + 1)/(2*h1**2 - 2),                                                   0, -I*h1*xi*(2*Rnu*T + 2*h1**2 - 1)/(2*h1**2 - 2),                   lamb - mu]])"
      ]
     },
     "execution_count": 38,
     "metadata": {},
     "output_type": "execute_result"
    }
   ],
   "source": [
    "B"
   ]
  },
  {
   "cell_type": "code",
   "execution_count": 39,
   "metadata": {},
   "outputs": [],
   "source": [
    "char = B.det()"
   ]
  },
  {
   "cell_type": "code",
   "execution_count": 40,
   "metadata": {},
   "outputs": [
    {
     "data": {
      "text/plain": [
       "(R*Rnu*T*h1**2*lamb**6 - 6*R*Rnu*T*h1**2*lamb**5*mu + 15*R*Rnu*T*h1**2*lamb**4*mu**2 - R*Rnu*T*h1**2*lamb**4*xi**2 - 20*R*Rnu*T*h1**2*lamb**3*mu**3 + 4*R*Rnu*T*h1**2*lamb**3*mu*xi**2 + 15*R*Rnu*T*h1**2*lamb**2*mu**4 - 6*R*Rnu*T*h1**2*lamb**2*mu**2*xi**2 - 6*R*Rnu*T*h1**2*lamb*mu**5 + 4*R*Rnu*T*h1**2*lamb*mu**3*xi**2 + R*Rnu*T*h1**2*mu**6 - R*Rnu*T*h1**2*mu**4*xi**2 - R*Rnu*T*lamb**6 + 6*R*Rnu*T*lamb**5*mu - 15*R*Rnu*T*lamb**4*mu**2 + R*Rnu*T*lamb**4*xi**2 + 20*R*Rnu*T*lamb**3*mu**3 - 4*R*Rnu*T*lamb**3*mu*xi**2 - 15*R*Rnu*T*lamb**2*mu**4 + 6*R*Rnu*T*lamb**2*mu**2*xi**2 + 6*R*Rnu*T*lamb*mu**5 - 4*R*Rnu*T*lamb*mu**3*xi**2 - R*Rnu*T*mu**6 + R*Rnu*T*mu**4*xi**2 + R*h1**2*lamb**6 - 6*R*h1**2*lamb**5*mu + 15*R*h1**2*lamb**4*mu**2 - R*h1**2*lamb**4*xi**2 - 20*R*h1**2*lamb**3*mu**3 + 4*R*h1**2*lamb**3*mu*xi**2 + 15*R*h1**2*lamb**2*mu**4 - 6*R*h1**2*lamb**2*mu**2*xi**2 - 6*R*h1**2*lamb*mu**5 + 4*R*h1**2*lamb*mu**3*xi**2 + R*h1**2*mu**6 - R*h1**2*mu**4*xi**2 - R*lamb**6 + 6*R*lamb**5*mu - 15*R*lamb**4*mu**2 + 20*R*lamb**3*mu**3 - 15*R*lamb**2*mu**4 + 6*R*lamb*mu**5 - R*mu**6 - Rnu*h1**2*lamb**6 + 6*Rnu*h1**2*lamb**5*mu - 15*Rnu*h1**2*lamb**4*mu**2 + Rnu*h1**2*lamb**4*xi**2 + 20*Rnu*h1**2*lamb**3*mu**3 - 4*Rnu*h1**2*lamb**3*mu*xi**2 - 15*Rnu*h1**2*lamb**2*mu**4 + 6*Rnu*h1**2*lamb**2*mu**2*xi**2 + 6*Rnu*h1**2*lamb*mu**5 - 4*Rnu*h1**2*lamb*mu**3*xi**2 - Rnu*h1**2*mu**6 + Rnu*h1**2*mu**4*xi**2 + Rnu*lamb**6 - 6*Rnu*lamb**5*mu + 15*Rnu*lamb**4*mu**2 - 20*Rnu*lamb**3*mu**3 + 15*Rnu*lamb**2*mu**4 - 6*Rnu*lamb*mu**5 + Rnu*mu**6)/(R*Rnu*T*h1**2 - R*Rnu*T + R*h1**2 - R - Rnu*h1**2 + Rnu)"
      ]
     },
     "execution_count": 40,
     "metadata": {},
     "output_type": "execute_result"
    }
   ],
   "source": [
    "char"
   ]
  },
  {
   "cell_type": "code",
   "execution_count": 41,
   "metadata": {},
   "outputs": [
    {
     "data": {
      "text/plain": [
       "(lamb - mu)**4*(R*Rnu*T*h1**2*lamb**2 - 2*R*Rnu*T*h1**2*lamb*mu + R*Rnu*T*h1**2*mu**2 - R*Rnu*T*h1**2*xi**2 - R*Rnu*T*lamb**2 + 2*R*Rnu*T*lamb*mu - R*Rnu*T*mu**2 + R*Rnu*T*xi**2 + R*h1**2*lamb**2 - 2*R*h1**2*lamb*mu + R*h1**2*mu**2 - R*h1**2*xi**2 - R*lamb**2 + 2*R*lamb*mu - R*mu**2 - Rnu*h1**2*lamb**2 + 2*Rnu*h1**2*lamb*mu - Rnu*h1**2*mu**2 + Rnu*h1**2*xi**2 + Rnu*lamb**2 - 2*Rnu*lamb*mu + Rnu*mu**2)/((h1 - 1)*(h1 + 1)*(R*Rnu*T + R - Rnu))"
      ]
     },
     "execution_count": 41,
     "metadata": {},
     "output_type": "execute_result"
    }
   ],
   "source": [
    "factor(char)"
   ]
  },
  {
   "cell_type": "code",
   "execution_count": 42,
   "metadata": {},
   "outputs": [
    {
     "data": {
      "text/plain": [
       "(R*Rnu*T*h1**2*lamb**6 - 6*R*Rnu*T*h1**2*lamb**5*mu + 15*R*Rnu*T*h1**2*lamb**4*mu**2 - R*Rnu*T*h1**2*lamb**4*xi**2 - 20*R*Rnu*T*h1**2*lamb**3*mu**3 + 4*R*Rnu*T*h1**2*lamb**3*mu*xi**2 + 15*R*Rnu*T*h1**2*lamb**2*mu**4 - 6*R*Rnu*T*h1**2*lamb**2*mu**2*xi**2 - 6*R*Rnu*T*h1**2*lamb*mu**5 + 4*R*Rnu*T*h1**2*lamb*mu**3*xi**2 + R*Rnu*T*h1**2*mu**6 - R*Rnu*T*h1**2*mu**4*xi**2 - R*Rnu*T*lamb**6 + 6*R*Rnu*T*lamb**5*mu - 15*R*Rnu*T*lamb**4*mu**2 + R*Rnu*T*lamb**4*xi**2 + 20*R*Rnu*T*lamb**3*mu**3 - 4*R*Rnu*T*lamb**3*mu*xi**2 - 15*R*Rnu*T*lamb**2*mu**4 + 6*R*Rnu*T*lamb**2*mu**2*xi**2 + 6*R*Rnu*T*lamb*mu**5 - 4*R*Rnu*T*lamb*mu**3*xi**2 - R*Rnu*T*mu**6 + R*Rnu*T*mu**4*xi**2 + R*h1**2*lamb**6 - 6*R*h1**2*lamb**5*mu + 15*R*h1**2*lamb**4*mu**2 - R*h1**2*lamb**4*xi**2 - 20*R*h1**2*lamb**3*mu**3 + 4*R*h1**2*lamb**3*mu*xi**2 + 15*R*h1**2*lamb**2*mu**4 - 6*R*h1**2*lamb**2*mu**2*xi**2 - 6*R*h1**2*lamb*mu**5 + 4*R*h1**2*lamb*mu**3*xi**2 + R*h1**2*mu**6 - R*h1**2*mu**4*xi**2 - R*lamb**6 + 6*R*lamb**5*mu - 15*R*lamb**4*mu**2 + 20*R*lamb**3*mu**3 - 15*R*lamb**2*mu**4 + 6*R*lamb*mu**5 - R*mu**6 - Rnu*h1**2*lamb**6 + 6*Rnu*h1**2*lamb**5*mu - 15*Rnu*h1**2*lamb**4*mu**2 + Rnu*h1**2*lamb**4*xi**2 + 20*Rnu*h1**2*lamb**3*mu**3 - 4*Rnu*h1**2*lamb**3*mu*xi**2 - 15*Rnu*h1**2*lamb**2*mu**4 + 6*Rnu*h1**2*lamb**2*mu**2*xi**2 + 6*Rnu*h1**2*lamb*mu**5 - 4*Rnu*h1**2*lamb*mu**3*xi**2 - Rnu*h1**2*mu**6 + Rnu*h1**2*mu**4*xi**2 + Rnu*lamb**6 - 6*Rnu*lamb**5*mu + 15*Rnu*lamb**4*mu**2 - 20*Rnu*lamb**3*mu**3 + 15*Rnu*lamb**2*mu**4 - 6*Rnu*lamb*mu**5 + Rnu*mu**6)/(R*Rnu*T*h1**2 - R*Rnu*T + R*h1**2 - R - Rnu*h1**2 + Rnu)"
      ]
     },
     "execution_count": 42,
     "metadata": {},
     "output_type": "execute_result"
    }
   ],
   "source": [
    "char.simplify()"
   ]
  },
  {
   "cell_type": "code",
   "execution_count": 43,
   "metadata": {},
   "outputs": [
    {
     "data": {
      "text/plain": [
       "(R*Rnu*T*h1**2*lamb**6 - 6*R*Rnu*T*h1**2*lamb**5*mu + 15*R*Rnu*T*h1**2*lamb**4*mu**2 - R*Rnu*T*h1**2*lamb**4*xi**2 - 20*R*Rnu*T*h1**2*lamb**3*mu**3 + 4*R*Rnu*T*h1**2*lamb**3*mu*xi**2 + 15*R*Rnu*T*h1**2*lamb**2*mu**4 - 6*R*Rnu*T*h1**2*lamb**2*mu**2*xi**2 - 6*R*Rnu*T*h1**2*lamb*mu**5 + 4*R*Rnu*T*h1**2*lamb*mu**3*xi**2 + R*Rnu*T*h1**2*mu**6 - R*Rnu*T*h1**2*mu**4*xi**2 - R*Rnu*T*lamb**6 + 6*R*Rnu*T*lamb**5*mu - 15*R*Rnu*T*lamb**4*mu**2 + R*Rnu*T*lamb**4*xi**2 + 20*R*Rnu*T*lamb**3*mu**3 - 4*R*Rnu*T*lamb**3*mu*xi**2 - 15*R*Rnu*T*lamb**2*mu**4 + 6*R*Rnu*T*lamb**2*mu**2*xi**2 + 6*R*Rnu*T*lamb*mu**5 - 4*R*Rnu*T*lamb*mu**3*xi**2 - R*Rnu*T*mu**6 + R*Rnu*T*mu**4*xi**2 + R*h1**2*lamb**6 - 6*R*h1**2*lamb**5*mu + 15*R*h1**2*lamb**4*mu**2 - R*h1**2*lamb**4*xi**2 - 20*R*h1**2*lamb**3*mu**3 + 4*R*h1**2*lamb**3*mu*xi**2 + 15*R*h1**2*lamb**2*mu**4 - 6*R*h1**2*lamb**2*mu**2*xi**2 - 6*R*h1**2*lamb*mu**5 + 4*R*h1**2*lamb*mu**3*xi**2 + R*h1**2*mu**6 - R*h1**2*mu**4*xi**2 - R*lamb**6 + 6*R*lamb**5*mu - 15*R*lamb**4*mu**2 + 20*R*lamb**3*mu**3 - 15*R*lamb**2*mu**4 + 6*R*lamb*mu**5 - R*mu**6 - Rnu*h1**2*lamb**6 + 6*Rnu*h1**2*lamb**5*mu - 15*Rnu*h1**2*lamb**4*mu**2 + Rnu*h1**2*lamb**4*xi**2 + 20*Rnu*h1**2*lamb**3*mu**3 - 4*Rnu*h1**2*lamb**3*mu*xi**2 - 15*Rnu*h1**2*lamb**2*mu**4 + 6*Rnu*h1**2*lamb**2*mu**2*xi**2 + 6*Rnu*h1**2*lamb*mu**5 - 4*Rnu*h1**2*lamb*mu**3*xi**2 - Rnu*h1**2*mu**6 + Rnu*h1**2*mu**4*xi**2 + Rnu*lamb**6 - 6*Rnu*lamb**5*mu + 15*Rnu*lamb**4*mu**2 - 20*Rnu*lamb**3*mu**3 + 15*Rnu*lamb**2*mu**4 - 6*Rnu*lamb*mu**5 + Rnu*mu**6)/(lamb*(R*Rnu*T*h1**2 - R*Rnu*T + R*h1**2 - R - Rnu*h1**2 + Rnu))"
      ]
     },
     "execution_count": 43,
     "metadata": {},
     "output_type": "execute_result"
    }
   ],
   "source": [
    "char/lamb"
   ]
  },
  {
   "cell_type": "code",
   "execution_count": 50,
   "metadata": {},
   "outputs": [
    {
     "data": {
      "text/plain": [
       "(R*Rnu*T*h1**2*lamb**6 - R*Rnu*T*h1**2*lamb**4*xi**2 - R*Rnu*T*lamb**6 + R*Rnu*T*lamb**4*xi**2 + R*h1**2*lamb**6 - R*h1**2*lamb**4*xi**2 - R*lamb**6 - 6*Rnu**2*T**2*h1**2*lamb**5 + 4*Rnu**2*T**2*h1**2*lamb**3*xi**2 + 6*Rnu**2*T**2*lamb**5 - 4*Rnu**2*T**2*lamb**3*xi**2 - 6*Rnu*T*h1**2*lamb**5 + 4*Rnu*T*h1**2*lamb**3*xi**2 + 6*Rnu*T*lamb**5 - Rnu*h1**2*lamb**6 + Rnu*h1**2*lamb**4*xi**2 + Rnu*lamb**6 + 15*Rnu**3*T**3*h1**2*lamb**4/R - 6*Rnu**3*T**3*h1**2*lamb**2*xi**2/R - 15*Rnu**3*T**3*lamb**4/R + 6*Rnu**3*T**3*lamb**2*xi**2/R + 15*Rnu**2*T**2*h1**2*lamb**4/R - 6*Rnu**2*T**2*h1**2*lamb**2*xi**2/R - 15*Rnu**2*T**2*lamb**4/R + 6*Rnu**2*T*h1**2*lamb**5/R - 4*Rnu**2*T*h1**2*lamb**3*xi**2/R - 6*Rnu**2*T*lamb**5/R - 20*Rnu**4*T**4*h1**2*lamb**3/R**2 + 4*Rnu**4*T**4*h1**2*lamb*xi**2/R**2 + 20*Rnu**4*T**4*lamb**3/R**2 - 4*Rnu**4*T**4*lamb*xi**2/R**2 - 20*Rnu**3*T**3*h1**2*lamb**3/R**2 + 4*Rnu**3*T**3*h1**2*lamb*xi**2/R**2 + 20*Rnu**3*T**3*lamb**3/R**2 - 15*Rnu**3*T**2*h1**2*lamb**4/R**2 + 6*Rnu**3*T**2*h1**2*lamb**2*xi**2/R**2 + 15*Rnu**3*T**2*lamb**4/R**2 + 15*Rnu**5*T**5*h1**2*lamb**2/R**3 - Rnu**5*T**5*h1**2*xi**2/R**3 - 15*Rnu**5*T**5*lamb**2/R**3 + Rnu**5*T**5*xi**2/R**3 + 15*Rnu**4*T**4*h1**2*lamb**2/R**3 - Rnu**4*T**4*h1**2*xi**2/R**3 - 15*Rnu**4*T**4*lamb**2/R**3 + 20*Rnu**4*T**3*h1**2*lamb**3/R**3 - 4*Rnu**4*T**3*h1**2*lamb*xi**2/R**3 - 20*Rnu**4*T**3*lamb**3/R**3 - 6*Rnu**6*T**6*h1**2*lamb/R**4 + 6*Rnu**6*T**6*lamb/R**4 - 6*Rnu**5*T**5*h1**2*lamb/R**4 + 6*Rnu**5*T**5*lamb/R**4 - 15*Rnu**5*T**4*h1**2*lamb**2/R**4 + Rnu**5*T**4*h1**2*xi**2/R**4 + 15*Rnu**5*T**4*lamb**2/R**4 + Rnu**7*T**7*h1**2/R**5 - Rnu**7*T**7/R**5 + Rnu**6*T**6*h1**2/R**5 - Rnu**6*T**6/R**5 + 6*Rnu**6*T**5*h1**2*lamb/R**5 - 6*Rnu**6*T**5*lamb/R**5 - Rnu**7*T**6*h1**2/R**6 + Rnu**7*T**6/R**6)/(R*Rnu*T*h1**2 - R*Rnu*T + R*h1**2 - R - Rnu*h1**2 + Rnu)"
      ]
     },
     "execution_count": 50,
     "metadata": {},
     "output_type": "execute_result"
    }
   ],
   "source": [
    "char.subs(mu,T*Rnu/R)"
   ]
  },
  {
   "cell_type": "code",
   "execution_count": 51,
   "metadata": {},
   "outputs": [
    {
     "data": {
      "text/plain": [
       "(R*Rnu*T*h1**2*lamb**6 - 6*R*Rnu*T*h1**2*lamb**5*mu + 15*R*Rnu*T*h1**2*lamb**4*mu**2 - R*Rnu*T*h1**2*lamb**4*xi**2 - 20*R*Rnu*T*h1**2*lamb**3*mu**3 + 4*R*Rnu*T*h1**2*lamb**3*mu*xi**2 + 15*R*Rnu*T*h1**2*lamb**2*mu**4 - 6*R*Rnu*T*h1**2*lamb**2*mu**2*xi**2 - 6*R*Rnu*T*h1**2*lamb*mu**5 + 4*R*Rnu*T*h1**2*lamb*mu**3*xi**2 + R*Rnu*T*h1**2*mu**6 - R*Rnu*T*h1**2*mu**4*xi**2 - R*Rnu*T*lamb**6 + 6*R*Rnu*T*lamb**5*mu - 15*R*Rnu*T*lamb**4*mu**2 + R*Rnu*T*lamb**4*xi**2 + 20*R*Rnu*T*lamb**3*mu**3 - 4*R*Rnu*T*lamb**3*mu*xi**2 - 15*R*Rnu*T*lamb**2*mu**4 + 6*R*Rnu*T*lamb**2*mu**2*xi**2 + 6*R*Rnu*T*lamb*mu**5 - 4*R*Rnu*T*lamb*mu**3*xi**2 - R*Rnu*T*mu**6 + R*Rnu*T*mu**4*xi**2 + R*h1**2*lamb**6 - 6*R*h1**2*lamb**5*mu + 15*R*h1**2*lamb**4*mu**2 - R*h1**2*lamb**4*xi**2 - 20*R*h1**2*lamb**3*mu**3 + 4*R*h1**2*lamb**3*mu*xi**2 + 15*R*h1**2*lamb**2*mu**4 - 6*R*h1**2*lamb**2*mu**2*xi**2 - 6*R*h1**2*lamb*mu**5 + 4*R*h1**2*lamb*mu**3*xi**2 + R*h1**2*mu**6 - R*h1**2*mu**4*xi**2 - R*lamb**6 + 6*R*lamb**5*mu - 15*R*lamb**4*mu**2 + 20*R*lamb**3*mu**3 - 15*R*lamb**2*mu**4 + 6*R*lamb*mu**5 - R*mu**6 - Rnu*h1**2*lamb**6 + 6*Rnu*h1**2*lamb**5*mu - 15*Rnu*h1**2*lamb**4*mu**2 + Rnu*h1**2*lamb**4*xi**2 + 20*Rnu*h1**2*lamb**3*mu**3 - 4*Rnu*h1**2*lamb**3*mu*xi**2 - 15*Rnu*h1**2*lamb**2*mu**4 + 6*Rnu*h1**2*lamb**2*mu**2*xi**2 + 6*Rnu*h1**2*lamb*mu**5 - 4*Rnu*h1**2*lamb*mu**3*xi**2 - Rnu*h1**2*mu**6 + Rnu*h1**2*mu**4*xi**2 + Rnu*lamb**6 - 6*Rnu*lamb**5*mu + 15*Rnu*lamb**4*mu**2 - 20*Rnu*lamb**3*mu**3 + 15*Rnu*lamb**2*mu**4 - 6*Rnu*lamb*mu**5 + Rnu*mu**6)/((-lamb + mu)*(R*Rnu*T*h1**2 - R*Rnu*T + R*h1**2 - R - Rnu*h1**2 + Rnu))"
      ]
     },
     "execution_count": 51,
     "metadata": {},
     "output_type": "execute_result"
    }
   ],
   "source": [
    "char/(mu-lamb)"
   ]
  },
  {
   "cell_type": "code",
   "execution_count": 54,
   "metadata": {},
   "outputs": [],
   "source": [
    "powers = collect(char,mu)"
   ]
  },
  {
   "cell_type": "code",
   "execution_count": 62,
   "metadata": {},
   "outputs": [
    {
     "data": {
      "text/plain": [
       "(R*Rnu*T*h1**2*lamb**6 - R*Rnu*T*h1**2*lamb**4*xi**2 - R*Rnu*T*lamb**6 + R*Rnu*T*lamb**4*xi**2 + R*h1**2*lamb**6 - R*h1**2*lamb**4*xi**2 - R*lamb**6 - Rnu*h1**2*lamb**6 + Rnu*h1**2*lamb**4*xi**2 + Rnu*lamb**6 + mu**6*(R*Rnu*T*h1**2 - R*Rnu*T + R*h1**2 - R - Rnu*h1**2 + Rnu) + mu**5*(-6*R*Rnu*T*h1**2*lamb + 6*R*Rnu*T*lamb - 6*R*h1**2*lamb + 6*R*lamb + 6*Rnu*h1**2*lamb - 6*Rnu*lamb) + mu**4*(15*R*Rnu*T*h1**2*lamb**2 - R*Rnu*T*h1**2*xi**2 - 15*R*Rnu*T*lamb**2 + R*Rnu*T*xi**2 + 15*R*h1**2*lamb**2 - R*h1**2*xi**2 - 15*R*lamb**2 - 15*Rnu*h1**2*lamb**2 + Rnu*h1**2*xi**2 + 15*Rnu*lamb**2) + mu**3*(-20*R*Rnu*T*h1**2*lamb**3 + 4*R*Rnu*T*h1**2*lamb*xi**2 + 20*R*Rnu*T*lamb**3 - 4*R*Rnu*T*lamb*xi**2 - 20*R*h1**2*lamb**3 + 4*R*h1**2*lamb*xi**2 + 20*R*lamb**3 + 20*Rnu*h1**2*lamb**3 - 4*Rnu*h1**2*lamb*xi**2 - 20*Rnu*lamb**3) + mu**2*(15*R*Rnu*T*h1**2*lamb**4 - 6*R*Rnu*T*h1**2*lamb**2*xi**2 - 15*R*Rnu*T*lamb**4 + 6*R*Rnu*T*lamb**2*xi**2 + 15*R*h1**2*lamb**4 - 6*R*h1**2*lamb**2*xi**2 - 15*R*lamb**4 - 15*Rnu*h1**2*lamb**4 + 6*Rnu*h1**2*lamb**2*xi**2 + 15*Rnu*lamb**4) + mu*(-6*R*Rnu*T*h1**2*lamb**5 + 4*R*Rnu*T*h1**2*lamb**3*xi**2 + 6*R*Rnu*T*lamb**5 - 4*R*Rnu*T*lamb**3*xi**2 - 6*R*h1**2*lamb**5 + 4*R*h1**2*lamb**3*xi**2 + 6*R*lamb**5 + 6*Rnu*h1**2*lamb**5 - 4*Rnu*h1**2*lamb**3*xi**2 - 6*Rnu*lamb**5))/(R*Rnu*T*h1**2 - R*Rnu*T + R*h1**2 - R - Rnu*h1**2 + Rnu)"
      ]
     },
     "execution_count": 62,
     "metadata": {},
     "output_type": "execute_result"
    }
   ],
   "source": []
  },
  {
   "cell_type": "code",
   "execution_count": null,
   "metadata": {},
   "outputs": [],
   "source": []
  }
 ],
 "metadata": {
  "kernelspec": {
   "display_name": "Python 3",
   "language": "python",
   "name": "python3"
  },
  "language_info": {
   "codemirror_mode": {
    "name": "ipython",
    "version": 3
   },
   "file_extension": ".py",
   "mimetype": "text/x-python",
   "name": "python",
   "nbconvert_exporter": "python",
   "pygments_lexer": "ipython3",
   "version": "3.7.3"
  }
 },
 "nbformat": 4,
 "nbformat_minor": 2
}
