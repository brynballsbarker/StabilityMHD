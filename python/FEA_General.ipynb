{
 "cells": [
  {
   "cell_type": "markdown",
   "metadata": {},
   "source": [
    "# Next Steps\n",
    "\n",
    "1. Get general code working in 1D\n",
    "\n",
    "2. Write 1D code in matlab\n",
    "\n",
    "3. Extend code to 2D in python\n",
    "\n",
    "4. Extend to 2D in matlab\n",
    "\n",
    "5. Incorporate mesh generation\n",
    "\n",
    "6. Incorpoarte higher order shape functions"
   ]
  },
  {
   "cell_type": "code",
   "execution_count": 33,
   "metadata": {},
   "outputs": [],
   "source": [
    "import numpy as np\n",
    "import matplotlib.pyplot as plt\n",
    "from scipy.optimize import root, fsolve\n",
    "import scipy.linalg as la\n",
    "from time import time\n",
    "from tqdm import tqdm\n",
    "\n",
    "import matplotlib.animation as animation"
   ]
  },
  {
   "cell_type": "code",
   "execution_count": 34,
   "metadata": {},
   "outputs": [
    {
     "name": "stderr",
     "output_type": "stream",
     "text": [
      "Traceback (most recent call last):\n",
      "  File \"/Users/bryn/anaconda3/lib/python3.7/site-packages/matplotlib/cbook/__init__.py\", line 387, in process\n",
      "    proxy(*args, **kwargs)\n",
      "  File \"/Users/bryn/anaconda3/lib/python3.7/site-packages/matplotlib/cbook/__init__.py\", line 227, in __call__\n",
      "    return mtd(*args, **kwargs)\n",
      "  File \"/Users/bryn/anaconda3/lib/python3.7/site-packages/matplotlib/backends/backend_nbagg.py\", line 241, in <lambda>\n",
      "    canvas.mpl_connect('close_event', lambda event: Gcf.destroy(num))\n",
      "  File \"/Users/bryn/anaconda3/lib/python3.7/site-packages/matplotlib/_pylab_helpers.py\", line 58, in destroy\n",
      "    cls._activeQue.remove(manager)\n",
      "ValueError: list.remove(x): x not in list\n",
      "Traceback (most recent call last):\n",
      "  File \"/Users/bryn/anaconda3/lib/python3.7/site-packages/matplotlib/cbook/__init__.py\", line 387, in process\n",
      "    proxy(*args, **kwargs)\n",
      "  File \"/Users/bryn/anaconda3/lib/python3.7/site-packages/matplotlib/cbook/__init__.py\", line 227, in __call__\n",
      "    return mtd(*args, **kwargs)\n",
      "  File \"/Users/bryn/anaconda3/lib/python3.7/site-packages/matplotlib/backends/backend_nbagg.py\", line 241, in <lambda>\n",
      "    canvas.mpl_connect('close_event', lambda event: Gcf.destroy(num))\n",
      "  File \"/Users/bryn/anaconda3/lib/python3.7/site-packages/matplotlib/_pylab_helpers.py\", line 58, in destroy\n",
      "    cls._activeQue.remove(manager)\n",
      "ValueError: list.remove(x): x not in list\n",
      "Traceback (most recent call last):\n",
      "  File \"/Users/bryn/anaconda3/lib/python3.7/site-packages/matplotlib/cbook/__init__.py\", line 387, in process\n",
      "    proxy(*args, **kwargs)\n",
      "  File \"/Users/bryn/anaconda3/lib/python3.7/site-packages/matplotlib/cbook/__init__.py\", line 227, in __call__\n",
      "    return mtd(*args, **kwargs)\n",
      "  File \"/Users/bryn/anaconda3/lib/python3.7/site-packages/matplotlib/backends/backend_nbagg.py\", line 241, in <lambda>\n",
      "    canvas.mpl_connect('close_event', lambda event: Gcf.destroy(num))\n",
      "  File \"/Users/bryn/anaconda3/lib/python3.7/site-packages/matplotlib/_pylab_helpers.py\", line 58, in destroy\n",
      "    cls._activeQue.remove(manager)\n",
      "ValueError: list.remove(x): x not in list\n",
      "Traceback (most recent call last):\n",
      "  File \"/Users/bryn/anaconda3/lib/python3.7/site-packages/matplotlib/cbook/__init__.py\", line 387, in process\n",
      "    proxy(*args, **kwargs)\n",
      "  File \"/Users/bryn/anaconda3/lib/python3.7/site-packages/matplotlib/cbook/__init__.py\", line 227, in __call__\n",
      "    return mtd(*args, **kwargs)\n",
      "  File \"/Users/bryn/anaconda3/lib/python3.7/site-packages/matplotlib/backends/backend_nbagg.py\", line 241, in <lambda>\n",
      "    canvas.mpl_connect('close_event', lambda event: Gcf.destroy(num))\n",
      "  File \"/Users/bryn/anaconda3/lib/python3.7/site-packages/matplotlib/_pylab_helpers.py\", line 58, in destroy\n",
      "    cls._activeQue.remove(manager)\n",
      "ValueError: list.remove(x): x not in list\n",
      "Traceback (most recent call last):\n",
      "  File \"/Users/bryn/anaconda3/lib/python3.7/site-packages/matplotlib/cbook/__init__.py\", line 387, in process\n",
      "    proxy(*args, **kwargs)\n",
      "  File \"/Users/bryn/anaconda3/lib/python3.7/site-packages/matplotlib/cbook/__init__.py\", line 227, in __call__\n",
      "    return mtd(*args, **kwargs)\n",
      "  File \"/Users/bryn/anaconda3/lib/python3.7/site-packages/matplotlib/backends/backend_nbagg.py\", line 241, in <lambda>\n",
      "    canvas.mpl_connect('close_event', lambda event: Gcf.destroy(num))\n",
      "  File \"/Users/bryn/anaconda3/lib/python3.7/site-packages/matplotlib/_pylab_helpers.py\", line 58, in destroy\n",
      "    cls._activeQue.remove(manager)\n",
      "ValueError: list.remove(x): x not in list\n"
     ]
    }
   ],
   "source": [
    "%matplotlib notebook"
   ]
  },
  {
   "cell_type": "markdown",
   "metadata": {},
   "source": [
    "Consider the PDE\n",
    "\n",
    "$$ f^0(U)_t + f^1(U)_x - (B(U)U_x)_x =0$$\n",
    "\n",
    "over the domain $\\Omega$.\n",
    "\n",
    "We wish to approximate the solution to this PDE using finite difference in time and finite element in space.\n",
    "\n",
    "First we substitute in the finite difference approximation of the time derivative, letting $U^n$ correspond to the solution $U$ at time $t= t_n$.\n",
    "\n",
    "$$ \\frac{1}{\\Delta t}\\left(f^0(U^{n})-f^0(U^{n-1})\\right) + f^1(U^n)_x - (B(U^n)U_x^n)_x =0$$\n",
    "\n",
    "Now we derive the weak form of this system. Let $V = \\{v \\in C^1(\\Omega) : v|_{\\partial \\Omega} = 0\\}$. Then for all $v\\in V$ we have:\n",
    "\n",
    "$$ \\frac{1}{\\Delta t}\\int\\left(f^0(U^{n})-f^0(U^{n-1})\\right)v + \\int f^1(U^n)_x v - \\int (B(U^n)U_x^n)_xv =0$$\n",
    "\n",
    "Now we can apply integration by parts to simiplify out problem to:\n",
    "\n",
    "$$ \\frac{1}{\\Delta t}\\int f^0(U^{n})v -\\frac{1}{\\Delta t}\\int f^0(U^{n-1})v - \\int f^1(U^n) v_x + \\int B(U^n)U_x^nv_x  = 0$$\n",
    "\n",
    "Now we take a finite subspace of our solution space with basis functions $\\{\\phi_i\\}_{i=0}^N$ and we let $v = \\sum c_j\\phi_j$ and $U^n = \\sum A_i^n \\phi_i$. \n",
    "\n",
    "Plugging these approximations back into our weak form we get. \n",
    "\n",
    "$$ \\frac{1}{\\Delta t}\\int f^0(\\sum A_i^n\\phi_i)(\\sum c_j\\phi_j) -\\frac{1}{\\Delta t}\\int f^0(\\sum A_i^{n-1}\\phi_i)(\\sum c_j\\phi_j) - \\int f^1(\\sum A_i^n\\phi_i) (\\sum c_j\\phi_j') + \\int B(\\sum A_i^n\\phi_i)(\\sum A_i^n\\phi_i')(\\sum c_j\\phi_j') = 0$$\n",
    "\n",
    "Which is equivalent to:\n",
    "\n",
    "$$ \\sum c_j \\left( \\frac{1}{\\Delta t}\\int f^0(\\sum A_i^n\\phi_i)\\phi_j -\\frac{1}{\\Delta t}\\int f^0(\\sum A_i^{n-1}\\phi_i)\\phi_j - \\int f^1(\\sum A_i^n\\phi_i) \\phi_j' + \\int B(\\sum A_i^n\\phi_i)(\\sum A_i^n\\phi_i')\\phi_j'  \\right) = 0$$\n",
    "\n",
    "Now since this must be true for any set $\\{c_j\\} \\subset \\mathbb{R}$ it follows that for each j\n",
    "\n",
    "$$  \\frac{1}{\\Delta t}\\int f^0(\\sum A_i^n\\phi_i)\\phi_j -\\frac{1}{\\Delta t}\\int f^0(\\sum A_i^{n-1}\\phi_i)\\phi_j - \\int f^1(\\sum A_i^n\\phi_i) \\phi_j' + \\int B(\\sum A_i^n\\phi_i)(\\sum A_i^n\\phi_i')\\phi_j'  = 0$$\n",
    "\n",
    "Now we will define \n",
    "\n",
    "\n",
    "$$\n",
    "\\phi_j(x) = \\left\\{\n",
    "        \\begin{array}{ll}\n",
    "            (x - x_{j-1})/h & \\quad x \\in [x_{j-1},x_j] \\\\\n",
    "            (x_{j+1} - x)/h & \\quad x \\in [x_{j},x_{j+1}] \\\\\n",
    "            0 & \\quad otherwise\n",
    "        \\end{array}\n",
    "    \\right.\n",
    "$$\n",
    "\n",
    "Thus $\\phi_j$ is only nonzero on the domain $[x_{j-1},x_{j+1}]$ which corresponds to the elements $e_j$ and $e_{j+1}$. Due to the linearity of the integral we can write our equation equivalently as:\n",
    "\n",
    "$$ \\sum_{k=0}^N \\left( \\frac{1}{\\Delta t}\\int_{e_k} f^0(\\sum A_i^n\\phi_i)\\phi_j -\\frac{1}{\\Delta t}\\int_{e_k} f^0(\\sum A_i^{n-1}\\phi_i)\\phi_j - \\int_{e_k} f^1(\\sum A_i^n\\phi_i) \\phi_j' + \\int_{e_k} B(\\sum A_i^n\\phi_i)(\\sum A_i^n\\phi_i')\\phi_j'  \\right)= 0$$\n",
    "\n",
    "And then because $\\int_{e_k} \\phi_j = 0 \\quad \\forall k \\neq j,{j+1}$ this simplifies to\n",
    "$$ \\sum_{k=j}^{j+1} \\left( \\frac{1}{\\Delta t}\\int_{e_k} f^0(\\sum A_i^n\\phi_i)\\phi_j -\\frac{1}{\\Delta t}\\int_{e_k} f^0(\\sum A_i^{n-1}\\phi_i)\\phi_j - \\int_{e_k} f^1(\\sum A_i^n\\phi_i) \\phi_j' + \\int_{e_k} B(\\sum A_i^n\\phi_i)(\\sum A_i^n\\phi_i')\\phi_j'  \\right)= 0$$\n",
    "\n",
    "Since we are only looking at the local intervals over each element $e_k$ our approximation for $U$ will now be $U = A_{k-1}\\phi_{k-1}+A_k\\phi_k$\n",
    "\n",
    "Now assuming that $f^0$ and $f^1$ are polynomials with low enough order, we can exactly evaluate the intervals using gauss quadrature with the appropriate number of points. Let $q \\in \\mathbb{Z}$ be the number of gauss quadrature points. Then our equation to solve becomes. \n",
    "\n",
    "(fix this next line)\n",
    "\n",
    "$$ \\sum_{k=j}^{j+1} \\left( \\frac{1}{\\Delta t}\\int_{e_k} f^0(\\sum A_i^n\\phi_i)\\phi_j -\\frac{1}{\\Delta t}\\int_{e_k} f^0(\\sum A_i^{n-1}\\phi_i)\\phi_j - \\int_{e_k} f^1(\\sum A_i^n\\phi_i) \\phi_j' + \\int_{e_k} B(\\sum A_i^n\\phi_i)(\\sum A_i^n\\phi_i')\\phi_j'  \\right)= 0$$"
   ]
  },
  {
   "cell_type": "markdown",
   "metadata": {},
   "source": [
    "# Element Class"
   ]
  },
  {
   "cell_type": "code",
   "execution_count": 35,
   "metadata": {},
   "outputs": [],
   "source": [
    "class element():\n",
    "    def __init__( self, id, n1, n2 ):\n",
    "        self.id = id           # global element id\n",
    "        self.ind1 = id\n",
    "        self.ind2 = id+1\n",
    "        self.n1 = n1           # loc of left node\n",
    "        self.n2 = n2           # loc of right node\n",
    "        self.m = 1/(n2-n1)     # shape func slope\n",
    "        \n",
    "    def shape_vals(self, x):\n",
    "        # returns the value of \n",
    "        # each shape function at x\n",
    "        \n",
    "        v1 = self.m * (self.n1-x) + 1\n",
    "        v2 = self.m * (x-self.n2) + 1\n",
    "        return v1, v2\n",
    "    \n",
    "    def shape_d_vals(self,x):\n",
    "        # returns the derivative of \n",
    "        # each shape function at x\n",
    "        \n",
    "        v1 = -self.m * np.ones_like(x)\n",
    "        v2 = self.m * np.ones_like(x)\n",
    "        return v1, v2\n",
    "    \n",
    "    def quad_vals(self):\n",
    "        # returns the value and the\n",
    "        # derivative of each shape\n",
    "        # function at the 3 quad pts\n",
    "        \n",
    "        # quad points\n",
    "        xi =[ -np.sqrt(3/5), 0, np.sqrt(3/5) ]\n",
    "        \n",
    "        # maps local quad points to global points\n",
    "        to_glob = lambda x: (x+1)/(self.m*2)+self.n1\n",
    "        globs = np.array([to_glob(i) for i in xi])\n",
    "        \n",
    "        # get shape func vals\n",
    "        vals = self.shape_vals(globs)\n",
    "        \n",
    "        # get shape func derivs\n",
    "        derivs = self.shape_d_vals(globs)\n",
    "        \n",
    "        # return vals, derivs, and global points\n",
    "        # note row1 of vals is phi_1 at xis\n",
    "        return np.array(vals), np.array(derivs), globs"
   ]
  },
  {
   "cell_type": "markdown",
   "metadata": {},
   "source": [
    "# Mesh Class"
   ]
  },
  {
   "cell_type": "code",
   "execution_count": 36,
   "metadata": {},
   "outputs": [],
   "source": [
    "class mesh():\n",
    "    \"\"\"\n",
    "    Creates a mesh object and initializes nodes\n",
    "    and elements that make up the mesh\n",
    "    \n",
    "    Attributes:\n",
    "        geom     (geom): the geometry of the mesh\n",
    "        dim       (int): dimension of the mesh\n",
    "        n         (int): number of elements\n",
    "        nodes    (dict): dictionary mapping the dimension to an \n",
    "                         array of the nodes in that dimension\n",
    "        elements (list): list of elements in the mesh\n",
    "        \n",
    "    Functions:\n",
    "        _defineNodes: defines and stores nodes\n",
    "        _initElements: create and store elements\n",
    "    \"\"\"\n",
    "    def __init__(self,n):\n",
    "        \"\"\"\n",
    "        Initialized mesh by defining nodes and creating\n",
    "        element objects\n",
    "        \n",
    "        Arguments:\n",
    "            geom (geom): the geometry of the mesh\n",
    "            n     (int): number of elements\n",
    "        \"\"\"\n",
    "        self.n = n\n",
    "        self._defineNodes()\n",
    "        self._initElements()\n",
    "        \n",
    "    def _defineNodes(self):\n",
    "        \"\"\" Define and store nodes \"\"\"\n",
    "        self.nodes = np.linspace(0,1,self.n+1) \n",
    "        return\n",
    "        \n",
    "    def _initElements(self):\n",
    "        \"\"\" Create and store elements \"\"\"\n",
    "        self.elements = []\n",
    "        \n",
    "        # iterate over each dimension\n",
    "        for i in range(self.n):\n",
    "            n1 = self.nodes[i]\n",
    "            n2 = self.nodes[i+1]\n",
    "            self.elements.append(element(i,n1,n2))\n",
    "        return"
   ]
  },
  {
   "cell_type": "markdown",
   "metadata": {},
   "source": [
    "# Solve Class"
   ]
  },
  {
   "cell_type": "code",
   "execution_count": 67,
   "metadata": {},
   "outputs": [],
   "source": [
    "class solve():\n",
    "    def __init__(self,init,f0,f1,b,nt,nx,left,right):\n",
    "        self.init = init\n",
    "        self.f0 = f0\n",
    "        self.f1 = f1\n",
    "        self.b = b\n",
    "        self.nt = nt\n",
    "        self.nx = nx\n",
    "        self.dt = 1./nt\n",
    "        self.left = left\n",
    "        self.right=right\n",
    "        \n",
    "        # initial data\n",
    "        self._setup()\n",
    "        \n",
    "        # solve\n",
    "        self._solve()\n",
    "        \n",
    "    def _setup(self):\n",
    "        self.dom = np.linspace(0,1,self.nx+1)\n",
    "        U0 = self.init(self.dom)\n",
    "        self.numeq = int(len(U0.flatten())/(self.nx+1))\n",
    "        \n",
    "        self.mesh = mesh(nx)\n",
    "        self.elements = self.mesh.elements\n",
    "        \n",
    "        self.U = np.zeros((self.nt+1,self.numeq*(self.nx+1)))\n",
    "        self.U[0] = U0\n",
    "        \n",
    "    def _solve(self):\n",
    "        num_eqs, nx, dt = self.numeq, self.nx, self.dt\n",
    "        \n",
    "        w = [5/9, 8/9, 5/9]\n",
    "\n",
    "        # function that we want to find the root of\n",
    "        def func(D, D_):\n",
    "            res = np.zeros((num_eqs,nx+1))\n",
    "            D = D.reshape((num_eqs,nx+1))\n",
    "            D_ = D_.reshape((num_eqs,nx+1))\n",
    "            \n",
    "            for e in self.elements:\n",
    "                # get gauss quad vals on the element\n",
    "                vals, derivs, globs = e.quad_vals()\n",
    "\n",
    "                for j in range(2):\n",
    "                    approx = 0\n",
    "                    for k in range(3):\n",
    "                        # evaluate shape func at xi\n",
    "                        v = vals[j][k]\n",
    "                        dv = derivs[j][k]\n",
    "\n",
    "                        # evaluate U approx at xi\n",
    "                        U = D[:,e.ind1]*vals[0][k] + D[:,e.ind2]*vals[1][k]\n",
    "                        U_ = D_[:,e.ind1]*vals[0][k] + D_[:,e.ind2]*vals[1][k]\n",
    "                        dU = D[:,e.ind1]*derivs[0][k] + D[:,e.ind2]*derivs[1][k]\n",
    "                        \n",
    "                        # compute the integral\n",
    "                        val = f0(U)*v/dt - f0(U_)*v/dt - f1(U)*dv + (b(U)@dU)*dv\n",
    "                        approx += val*w[k]\n",
    "\n",
    "                    # add to the appropriate equation in the system\n",
    "                    res[:,e.id+j] += approx\n",
    "\n",
    "#             res[:,0] = D[:,0]\n",
    "#             res[:,-1] = D[:,-1]\n",
    "            \n",
    "            # left boundary\n",
    "            \n",
    "            res[:,0] = D[:,0] - self.left\n",
    "            \n",
    "            res[0,-1] = D[0,-1] - D[0,-2]\n",
    "            res[1:,-1] = self.right[1:]\n",
    "            \n",
    "    \n",
    "#             res[:,0] *= 0\n",
    "#             res[:,-1] *= 0\n",
    "#             print(D[:,0],D[:,-1])\n",
    "            return res.flatten()\n",
    "\n",
    "        \n",
    "        \n",
    "        for i in tqdm(range(1,self.nt+1)):\n",
    "            sol = root(func, self.U[i-1], self.U[i-1])\n",
    "            print(sol.success)\n",
    "            self.U[i] = sol.x\n"
   ]
  },
  {
   "cell_type": "code",
   "execution_count": 32,
   "metadata": {},
   "outputs": [],
   "source": [
    "#             for i in range(num_eqs):\n",
    "#                 for bcs,pos in self.bnds:\n",
    "#                     if bcs[i][0]:\n",
    "#                         res[i,pos] = D[i,pos] - bcs[i][1]\n",
    "#                     else:\n",
    "#                         res[i,pos] = res[i][3*pos+1]\n",
    "                \n",
    "                \n",
    "#             res[:,0] = left\n",
    "#             res[:,-1] = right\n",
    "#             res[1,-1] = right[1]\n",
    "#             res[3,-1] = right[3]\n",
    "#             res[0,-1] = res[0,-2]\n",
    "#             res[2,-1] = res[2,-2]\n",
    "#             res[:,0] = D[:,0] - left\n",
    "#             res[1,-1] = D[1,-1] - right[1]\n",
    "#             res[3,-1] = D[3,-1] - right[3]\n",
    "#             res[0,-1] = D[0,-1] - D[0,-2]#res[0,-2]\n",
    "#             res[2,-1] = D[2,-1] - D[2,-2]#res[2,-2]\n",
    "# #             res[:,-1] = D[:,-1]\n",
    "    \n",
    "#             res[:,0] *= 0\n",
    "#             res[:,-1] *= 0\n",
    "#             print(D[:,0],D[:,-1])"
   ]
  },
  {
   "cell_type": "markdown",
   "metadata": {},
   "source": [
    "# solving heat equation"
   ]
  },
  {
   "cell_type": "code",
   "execution_count": 39,
   "metadata": {},
   "outputs": [
    {
     "name": "stderr",
     "output_type": "stream",
     "text": [
      " 50%|█████     | 5/10 [00:00<00:00, 20.00it/s]"
     ]
    },
    {
     "name": "stdout",
     "output_type": "stream",
     "text": [
      "True\n",
      "True\n",
      "True\n",
      "True\n",
      "True\n"
     ]
    },
    {
     "name": "stderr",
     "output_type": "stream",
     "text": [
      "100%|██████████| 10/10 [00:00<00:00, 20.47it/s]"
     ]
    },
    {
     "name": "stdout",
     "output_type": "stream",
     "text": [
      "True\n",
      "True\n",
      "True\n",
      "True\n",
      "True\n"
     ]
    },
    {
     "name": "stderr",
     "output_type": "stream",
     "text": [
      "\n"
     ]
    }
   ],
   "source": [
    "k = .05\n",
    "\n",
    "# function for initial condition\n",
    "def initial(x):\n",
    "    return 6*np.sin(np.pi*x)\n",
    "    sol = []\n",
    "    for _ in x:\n",
    "        sol.append(2*np.maximum(.2-np.abs(_-.5),0))\n",
    "    return np.array(sol)\n",
    "\n",
    "# \n",
    "def f0(u):\n",
    "    return u\n",
    "\n",
    "def f1(u):\n",
    "    return np.zeros_like(u)\n",
    "    try:\n",
    "        n = len(u)\n",
    "    except:\n",
    "        n = 1\n",
    "    y = np.zeros(n)\n",
    "    return y\n",
    "\n",
    "def b(u):\n",
    "    try:\n",
    "        n = len(u)\n",
    "    except:\n",
    "        n = 1\n",
    "    y = np.eye(n)\n",
    "    return k*y\n",
    "\n",
    "left = [(True,0)]\n",
    "right = [(True,0)]\n",
    "\n",
    "\n",
    "nt = 10\n",
    "nx = 10\n",
    "\n",
    "\n",
    "sol = solve(initial,f0,f1,b,nt,nx,left,right)"
   ]
  },
  {
   "cell_type": "code",
   "execution_count": 24,
   "metadata": {},
   "outputs": [
    {
     "name": "stdout",
     "output_type": "stream",
     "text": [
      "[[ 0.     3.527  5.706  5.706  3.527  0.   ]\n",
      " [ 0.     3.2    5.178  5.178  3.2    0.   ]\n",
      " [-0.     2.904  4.699  4.699  2.904 -0.   ]\n",
      " [ 0.     2.635  4.264  4.264  2.635  0.   ]\n",
      " [ 0.     2.391  3.87   3.87   2.391  0.   ]\n",
      " [ 0.     2.17   3.511  3.511  2.17   0.   ]]\n"
     ]
    }
   ],
   "source": [
    "print(sol.U.round(3))"
   ]
  },
  {
   "cell_type": "code",
   "execution_count": 26,
   "metadata": {},
   "outputs": [
    {
     "data": {
      "text/plain": [
       "array([[0.   , 3.527, 5.706, 5.706, 3.527, 0.   ],\n",
       "       [0.   , 3.195, 5.17 , 5.17 , 3.195, 0.   ],\n",
       "       [0.   , 2.895, 4.684, 4.684, 2.895, 0.   ],\n",
       "       [0.   , 2.623, 4.244, 4.244, 2.623, 0.   ],\n",
       "       [0.   , 2.376, 3.845, 3.845, 2.376, 0.   ],\n",
       "       [0.   , 2.153, 3.484, 3.484, 2.153, 0.   ]])"
      ]
     },
     "execution_count": 26,
     "metadata": {},
     "output_type": "execute_result"
    }
   ],
   "source": [
    "true.round(3)\n"
   ]
  },
  {
   "cell_type": "code",
   "execution_count": 40,
   "metadata": {},
   "outputs": [
    {
     "name": "stdout",
     "output_type": "stream",
     "text": [
      "(11,) (11,)\n"
     ]
    },
    {
     "data": {
      "application/javascript": [
       "/* Put everything inside the global mpl namespace */\n",
       "window.mpl = {};\n",
       "\n",
       "\n",
       "mpl.get_websocket_type = function() {\n",
       "    if (typeof(WebSocket) !== 'undefined') {\n",
       "        return WebSocket;\n",
       "    } else if (typeof(MozWebSocket) !== 'undefined') {\n",
       "        return MozWebSocket;\n",
       "    } else {\n",
       "        alert('Your browser does not have WebSocket support.' +\n",
       "              'Please try Chrome, Safari or Firefox ≥ 6. ' +\n",
       "              'Firefox 4 and 5 are also supported but you ' +\n",
       "              'have to enable WebSockets in about:config.');\n",
       "    };\n",
       "}\n",
       "\n",
       "mpl.figure = function(figure_id, websocket, ondownload, parent_element) {\n",
       "    this.id = figure_id;\n",
       "\n",
       "    this.ws = websocket;\n",
       "\n",
       "    this.supports_binary = (this.ws.binaryType != undefined);\n",
       "\n",
       "    if (!this.supports_binary) {\n",
       "        var warnings = document.getElementById(\"mpl-warnings\");\n",
       "        if (warnings) {\n",
       "            warnings.style.display = 'block';\n",
       "            warnings.textContent = (\n",
       "                \"This browser does not support binary websocket messages. \" +\n",
       "                    \"Performance may be slow.\");\n",
       "        }\n",
       "    }\n",
       "\n",
       "    this.imageObj = new Image();\n",
       "\n",
       "    this.context = undefined;\n",
       "    this.message = undefined;\n",
       "    this.canvas = undefined;\n",
       "    this.rubberband_canvas = undefined;\n",
       "    this.rubberband_context = undefined;\n",
       "    this.format_dropdown = undefined;\n",
       "\n",
       "    this.image_mode = 'full';\n",
       "\n",
       "    this.root = $('<div/>');\n",
       "    this._root_extra_style(this.root)\n",
       "    this.root.attr('style', 'display: inline-block');\n",
       "\n",
       "    $(parent_element).append(this.root);\n",
       "\n",
       "    this._init_header(this);\n",
       "    this._init_canvas(this);\n",
       "    this._init_toolbar(this);\n",
       "\n",
       "    var fig = this;\n",
       "\n",
       "    this.waiting = false;\n",
       "\n",
       "    this.ws.onopen =  function () {\n",
       "            fig.send_message(\"supports_binary\", {value: fig.supports_binary});\n",
       "            fig.send_message(\"send_image_mode\", {});\n",
       "            if (mpl.ratio != 1) {\n",
       "                fig.send_message(\"set_dpi_ratio\", {'dpi_ratio': mpl.ratio});\n",
       "            }\n",
       "            fig.send_message(\"refresh\", {});\n",
       "        }\n",
       "\n",
       "    this.imageObj.onload = function() {\n",
       "            if (fig.image_mode == 'full') {\n",
       "                // Full images could contain transparency (where diff images\n",
       "                // almost always do), so we need to clear the canvas so that\n",
       "                // there is no ghosting.\n",
       "                fig.context.clearRect(0, 0, fig.canvas.width, fig.canvas.height);\n",
       "            }\n",
       "            fig.context.drawImage(fig.imageObj, 0, 0);\n",
       "        };\n",
       "\n",
       "    this.imageObj.onunload = function() {\n",
       "        fig.ws.close();\n",
       "    }\n",
       "\n",
       "    this.ws.onmessage = this._make_on_message_function(this);\n",
       "\n",
       "    this.ondownload = ondownload;\n",
       "}\n",
       "\n",
       "mpl.figure.prototype._init_header = function() {\n",
       "    var titlebar = $(\n",
       "        '<div class=\"ui-dialog-titlebar ui-widget-header ui-corner-all ' +\n",
       "        'ui-helper-clearfix\"/>');\n",
       "    var titletext = $(\n",
       "        '<div class=\"ui-dialog-title\" style=\"width: 100%; ' +\n",
       "        'text-align: center; padding: 3px;\"/>');\n",
       "    titlebar.append(titletext)\n",
       "    this.root.append(titlebar);\n",
       "    this.header = titletext[0];\n",
       "}\n",
       "\n",
       "\n",
       "\n",
       "mpl.figure.prototype._canvas_extra_style = function(canvas_div) {\n",
       "\n",
       "}\n",
       "\n",
       "\n",
       "mpl.figure.prototype._root_extra_style = function(canvas_div) {\n",
       "\n",
       "}\n",
       "\n",
       "mpl.figure.prototype._init_canvas = function() {\n",
       "    var fig = this;\n",
       "\n",
       "    var canvas_div = $('<div/>');\n",
       "\n",
       "    canvas_div.attr('style', 'position: relative; clear: both; outline: 0');\n",
       "\n",
       "    function canvas_keyboard_event(event) {\n",
       "        return fig.key_event(event, event['data']);\n",
       "    }\n",
       "\n",
       "    canvas_div.keydown('key_press', canvas_keyboard_event);\n",
       "    canvas_div.keyup('key_release', canvas_keyboard_event);\n",
       "    this.canvas_div = canvas_div\n",
       "    this._canvas_extra_style(canvas_div)\n",
       "    this.root.append(canvas_div);\n",
       "\n",
       "    var canvas = $('<canvas/>');\n",
       "    canvas.addClass('mpl-canvas');\n",
       "    canvas.attr('style', \"left: 0; top: 0; z-index: 0; outline: 0\")\n",
       "\n",
       "    this.canvas = canvas[0];\n",
       "    this.context = canvas[0].getContext(\"2d\");\n",
       "\n",
       "    var backingStore = this.context.backingStorePixelRatio ||\n",
       "\tthis.context.webkitBackingStorePixelRatio ||\n",
       "\tthis.context.mozBackingStorePixelRatio ||\n",
       "\tthis.context.msBackingStorePixelRatio ||\n",
       "\tthis.context.oBackingStorePixelRatio ||\n",
       "\tthis.context.backingStorePixelRatio || 1;\n",
       "\n",
       "    mpl.ratio = (window.devicePixelRatio || 1) / backingStore;\n",
       "\n",
       "    var rubberband = $('<canvas/>');\n",
       "    rubberband.attr('style', \"position: absolute; left: 0; top: 0; z-index: 1;\")\n",
       "\n",
       "    var pass_mouse_events = true;\n",
       "\n",
       "    canvas_div.resizable({\n",
       "        start: function(event, ui) {\n",
       "            pass_mouse_events = false;\n",
       "        },\n",
       "        resize: function(event, ui) {\n",
       "            fig.request_resize(ui.size.width, ui.size.height);\n",
       "        },\n",
       "        stop: function(event, ui) {\n",
       "            pass_mouse_events = true;\n",
       "            fig.request_resize(ui.size.width, ui.size.height);\n",
       "        },\n",
       "    });\n",
       "\n",
       "    function mouse_event_fn(event) {\n",
       "        if (pass_mouse_events)\n",
       "            return fig.mouse_event(event, event['data']);\n",
       "    }\n",
       "\n",
       "    rubberband.mousedown('button_press', mouse_event_fn);\n",
       "    rubberband.mouseup('button_release', mouse_event_fn);\n",
       "    // Throttle sequential mouse events to 1 every 20ms.\n",
       "    rubberband.mousemove('motion_notify', mouse_event_fn);\n",
       "\n",
       "    rubberband.mouseenter('figure_enter', mouse_event_fn);\n",
       "    rubberband.mouseleave('figure_leave', mouse_event_fn);\n",
       "\n",
       "    canvas_div.on(\"wheel\", function (event) {\n",
       "        event = event.originalEvent;\n",
       "        event['data'] = 'scroll'\n",
       "        if (event.deltaY < 0) {\n",
       "            event.step = 1;\n",
       "        } else {\n",
       "            event.step = -1;\n",
       "        }\n",
       "        mouse_event_fn(event);\n",
       "    });\n",
       "\n",
       "    canvas_div.append(canvas);\n",
       "    canvas_div.append(rubberband);\n",
       "\n",
       "    this.rubberband = rubberband;\n",
       "    this.rubberband_canvas = rubberband[0];\n",
       "    this.rubberband_context = rubberband[0].getContext(\"2d\");\n",
       "    this.rubberband_context.strokeStyle = \"#000000\";\n",
       "\n",
       "    this._resize_canvas = function(width, height) {\n",
       "        // Keep the size of the canvas, canvas container, and rubber band\n",
       "        // canvas in synch.\n",
       "        canvas_div.css('width', width)\n",
       "        canvas_div.css('height', height)\n",
       "\n",
       "        canvas.attr('width', width * mpl.ratio);\n",
       "        canvas.attr('height', height * mpl.ratio);\n",
       "        canvas.attr('style', 'width: ' + width + 'px; height: ' + height + 'px;');\n",
       "\n",
       "        rubberband.attr('width', width);\n",
       "        rubberband.attr('height', height);\n",
       "    }\n",
       "\n",
       "    // Set the figure to an initial 600x600px, this will subsequently be updated\n",
       "    // upon first draw.\n",
       "    this._resize_canvas(600, 600);\n",
       "\n",
       "    // Disable right mouse context menu.\n",
       "    $(this.rubberband_canvas).bind(\"contextmenu\",function(e){\n",
       "        return false;\n",
       "    });\n",
       "\n",
       "    function set_focus () {\n",
       "        canvas.focus();\n",
       "        canvas_div.focus();\n",
       "    }\n",
       "\n",
       "    window.setTimeout(set_focus, 100);\n",
       "}\n",
       "\n",
       "mpl.figure.prototype._init_toolbar = function() {\n",
       "    var fig = this;\n",
       "\n",
       "    var nav_element = $('<div/>')\n",
       "    nav_element.attr('style', 'width: 100%');\n",
       "    this.root.append(nav_element);\n",
       "\n",
       "    // Define a callback function for later on.\n",
       "    function toolbar_event(event) {\n",
       "        return fig.toolbar_button_onclick(event['data']);\n",
       "    }\n",
       "    function toolbar_mouse_event(event) {\n",
       "        return fig.toolbar_button_onmouseover(event['data']);\n",
       "    }\n",
       "\n",
       "    for(var toolbar_ind in mpl.toolbar_items) {\n",
       "        var name = mpl.toolbar_items[toolbar_ind][0];\n",
       "        var tooltip = mpl.toolbar_items[toolbar_ind][1];\n",
       "        var image = mpl.toolbar_items[toolbar_ind][2];\n",
       "        var method_name = mpl.toolbar_items[toolbar_ind][3];\n",
       "\n",
       "        if (!name) {\n",
       "            // put a spacer in here.\n",
       "            continue;\n",
       "        }\n",
       "        var button = $('<button/>');\n",
       "        button.addClass('ui-button ui-widget ui-state-default ui-corner-all ' +\n",
       "                        'ui-button-icon-only');\n",
       "        button.attr('role', 'button');\n",
       "        button.attr('aria-disabled', 'false');\n",
       "        button.click(method_name, toolbar_event);\n",
       "        button.mouseover(tooltip, toolbar_mouse_event);\n",
       "\n",
       "        var icon_img = $('<span/>');\n",
       "        icon_img.addClass('ui-button-icon-primary ui-icon');\n",
       "        icon_img.addClass(image);\n",
       "        icon_img.addClass('ui-corner-all');\n",
       "\n",
       "        var tooltip_span = $('<span/>');\n",
       "        tooltip_span.addClass('ui-button-text');\n",
       "        tooltip_span.html(tooltip);\n",
       "\n",
       "        button.append(icon_img);\n",
       "        button.append(tooltip_span);\n",
       "\n",
       "        nav_element.append(button);\n",
       "    }\n",
       "\n",
       "    var fmt_picker_span = $('<span/>');\n",
       "\n",
       "    var fmt_picker = $('<select/>');\n",
       "    fmt_picker.addClass('mpl-toolbar-option ui-widget ui-widget-content');\n",
       "    fmt_picker_span.append(fmt_picker);\n",
       "    nav_element.append(fmt_picker_span);\n",
       "    this.format_dropdown = fmt_picker[0];\n",
       "\n",
       "    for (var ind in mpl.extensions) {\n",
       "        var fmt = mpl.extensions[ind];\n",
       "        var option = $(\n",
       "            '<option/>', {selected: fmt === mpl.default_extension}).html(fmt);\n",
       "        fmt_picker.append(option)\n",
       "    }\n",
       "\n",
       "    // Add hover states to the ui-buttons\n",
       "    $( \".ui-button\" ).hover(\n",
       "        function() { $(this).addClass(\"ui-state-hover\");},\n",
       "        function() { $(this).removeClass(\"ui-state-hover\");}\n",
       "    );\n",
       "\n",
       "    var status_bar = $('<span class=\"mpl-message\"/>');\n",
       "    nav_element.append(status_bar);\n",
       "    this.message = status_bar[0];\n",
       "}\n",
       "\n",
       "mpl.figure.prototype.request_resize = function(x_pixels, y_pixels) {\n",
       "    // Request matplotlib to resize the figure. Matplotlib will then trigger a resize in the client,\n",
       "    // which will in turn request a refresh of the image.\n",
       "    this.send_message('resize', {'width': x_pixels, 'height': y_pixels});\n",
       "}\n",
       "\n",
       "mpl.figure.prototype.send_message = function(type, properties) {\n",
       "    properties['type'] = type;\n",
       "    properties['figure_id'] = this.id;\n",
       "    this.ws.send(JSON.stringify(properties));\n",
       "}\n",
       "\n",
       "mpl.figure.prototype.send_draw_message = function() {\n",
       "    if (!this.waiting) {\n",
       "        this.waiting = true;\n",
       "        this.ws.send(JSON.stringify({type: \"draw\", figure_id: this.id}));\n",
       "    }\n",
       "}\n",
       "\n",
       "\n",
       "mpl.figure.prototype.handle_save = function(fig, msg) {\n",
       "    var format_dropdown = fig.format_dropdown;\n",
       "    var format = format_dropdown.options[format_dropdown.selectedIndex].value;\n",
       "    fig.ondownload(fig, format);\n",
       "}\n",
       "\n",
       "\n",
       "mpl.figure.prototype.handle_resize = function(fig, msg) {\n",
       "    var size = msg['size'];\n",
       "    if (size[0] != fig.canvas.width || size[1] != fig.canvas.height) {\n",
       "        fig._resize_canvas(size[0], size[1]);\n",
       "        fig.send_message(\"refresh\", {});\n",
       "    };\n",
       "}\n",
       "\n",
       "mpl.figure.prototype.handle_rubberband = function(fig, msg) {\n",
       "    var x0 = msg['x0'] / mpl.ratio;\n",
       "    var y0 = (fig.canvas.height - msg['y0']) / mpl.ratio;\n",
       "    var x1 = msg['x1'] / mpl.ratio;\n",
       "    var y1 = (fig.canvas.height - msg['y1']) / mpl.ratio;\n",
       "    x0 = Math.floor(x0) + 0.5;\n",
       "    y0 = Math.floor(y0) + 0.5;\n",
       "    x1 = Math.floor(x1) + 0.5;\n",
       "    y1 = Math.floor(y1) + 0.5;\n",
       "    var min_x = Math.min(x0, x1);\n",
       "    var min_y = Math.min(y0, y1);\n",
       "    var width = Math.abs(x1 - x0);\n",
       "    var height = Math.abs(y1 - y0);\n",
       "\n",
       "    fig.rubberband_context.clearRect(\n",
       "        0, 0, fig.canvas.width, fig.canvas.height);\n",
       "\n",
       "    fig.rubberband_context.strokeRect(min_x, min_y, width, height);\n",
       "}\n",
       "\n",
       "mpl.figure.prototype.handle_figure_label = function(fig, msg) {\n",
       "    // Updates the figure title.\n",
       "    fig.header.textContent = msg['label'];\n",
       "}\n",
       "\n",
       "mpl.figure.prototype.handle_cursor = function(fig, msg) {\n",
       "    var cursor = msg['cursor'];\n",
       "    switch(cursor)\n",
       "    {\n",
       "    case 0:\n",
       "        cursor = 'pointer';\n",
       "        break;\n",
       "    case 1:\n",
       "        cursor = 'default';\n",
       "        break;\n",
       "    case 2:\n",
       "        cursor = 'crosshair';\n",
       "        break;\n",
       "    case 3:\n",
       "        cursor = 'move';\n",
       "        break;\n",
       "    }\n",
       "    fig.rubberband_canvas.style.cursor = cursor;\n",
       "}\n",
       "\n",
       "mpl.figure.prototype.handle_message = function(fig, msg) {\n",
       "    fig.message.textContent = msg['message'];\n",
       "}\n",
       "\n",
       "mpl.figure.prototype.handle_draw = function(fig, msg) {\n",
       "    // Request the server to send over a new figure.\n",
       "    fig.send_draw_message();\n",
       "}\n",
       "\n",
       "mpl.figure.prototype.handle_image_mode = function(fig, msg) {\n",
       "    fig.image_mode = msg['mode'];\n",
       "}\n",
       "\n",
       "mpl.figure.prototype.updated_canvas_event = function() {\n",
       "    // Called whenever the canvas gets updated.\n",
       "    this.send_message(\"ack\", {});\n",
       "}\n",
       "\n",
       "// A function to construct a web socket function for onmessage handling.\n",
       "// Called in the figure constructor.\n",
       "mpl.figure.prototype._make_on_message_function = function(fig) {\n",
       "    return function socket_on_message(evt) {\n",
       "        if (evt.data instanceof Blob) {\n",
       "            /* FIXME: We get \"Resource interpreted as Image but\n",
       "             * transferred with MIME type text/plain:\" errors on\n",
       "             * Chrome.  But how to set the MIME type?  It doesn't seem\n",
       "             * to be part of the websocket stream */\n",
       "            evt.data.type = \"image/png\";\n",
       "\n",
       "            /* Free the memory for the previous frames */\n",
       "            if (fig.imageObj.src) {\n",
       "                (window.URL || window.webkitURL).revokeObjectURL(\n",
       "                    fig.imageObj.src);\n",
       "            }\n",
       "\n",
       "            fig.imageObj.src = (window.URL || window.webkitURL).createObjectURL(\n",
       "                evt.data);\n",
       "            fig.updated_canvas_event();\n",
       "            fig.waiting = false;\n",
       "            return;\n",
       "        }\n",
       "        else if (typeof evt.data === 'string' && evt.data.slice(0, 21) == \"data:image/png;base64\") {\n",
       "            fig.imageObj.src = evt.data;\n",
       "            fig.updated_canvas_event();\n",
       "            fig.waiting = false;\n",
       "            return;\n",
       "        }\n",
       "\n",
       "        var msg = JSON.parse(evt.data);\n",
       "        var msg_type = msg['type'];\n",
       "\n",
       "        // Call the  \"handle_{type}\" callback, which takes\n",
       "        // the figure and JSON message as its only arguments.\n",
       "        try {\n",
       "            var callback = fig[\"handle_\" + msg_type];\n",
       "        } catch (e) {\n",
       "            console.log(\"No handler for the '\" + msg_type + \"' message type: \", msg);\n",
       "            return;\n",
       "        }\n",
       "\n",
       "        if (callback) {\n",
       "            try {\n",
       "                // console.log(\"Handling '\" + msg_type + \"' message: \", msg);\n",
       "                callback(fig, msg);\n",
       "            } catch (e) {\n",
       "                console.log(\"Exception inside the 'handler_\" + msg_type + \"' callback:\", e, e.stack, msg);\n",
       "            }\n",
       "        }\n",
       "    };\n",
       "}\n",
       "\n",
       "// from http://stackoverflow.com/questions/1114465/getting-mouse-location-in-canvas\n",
       "mpl.findpos = function(e) {\n",
       "    //this section is from http://www.quirksmode.org/js/events_properties.html\n",
       "    var targ;\n",
       "    if (!e)\n",
       "        e = window.event;\n",
       "    if (e.target)\n",
       "        targ = e.target;\n",
       "    else if (e.srcElement)\n",
       "        targ = e.srcElement;\n",
       "    if (targ.nodeType == 3) // defeat Safari bug\n",
       "        targ = targ.parentNode;\n",
       "\n",
       "    // jQuery normalizes the pageX and pageY\n",
       "    // pageX,Y are the mouse positions relative to the document\n",
       "    // offset() returns the position of the element relative to the document\n",
       "    var x = e.pageX - $(targ).offset().left;\n",
       "    var y = e.pageY - $(targ).offset().top;\n",
       "\n",
       "    return {\"x\": x, \"y\": y};\n",
       "};\n",
       "\n",
       "/*\n",
       " * return a copy of an object with only non-object keys\n",
       " * we need this to avoid circular references\n",
       " * http://stackoverflow.com/a/24161582/3208463\n",
       " */\n",
       "function simpleKeys (original) {\n",
       "  return Object.keys(original).reduce(function (obj, key) {\n",
       "    if (typeof original[key] !== 'object')\n",
       "        obj[key] = original[key]\n",
       "    return obj;\n",
       "  }, {});\n",
       "}\n",
       "\n",
       "mpl.figure.prototype.mouse_event = function(event, name) {\n",
       "    var canvas_pos = mpl.findpos(event)\n",
       "\n",
       "    if (name === 'button_press')\n",
       "    {\n",
       "        this.canvas.focus();\n",
       "        this.canvas_div.focus();\n",
       "    }\n",
       "\n",
       "    var x = canvas_pos.x * mpl.ratio;\n",
       "    var y = canvas_pos.y * mpl.ratio;\n",
       "\n",
       "    this.send_message(name, {x: x, y: y, button: event.button,\n",
       "                             step: event.step,\n",
       "                             guiEvent: simpleKeys(event)});\n",
       "\n",
       "    /* This prevents the web browser from automatically changing to\n",
       "     * the text insertion cursor when the button is pressed.  We want\n",
       "     * to control all of the cursor setting manually through the\n",
       "     * 'cursor' event from matplotlib */\n",
       "    event.preventDefault();\n",
       "    return false;\n",
       "}\n",
       "\n",
       "mpl.figure.prototype._key_event_extra = function(event, name) {\n",
       "    // Handle any extra behaviour associated with a key event\n",
       "}\n",
       "\n",
       "mpl.figure.prototype.key_event = function(event, name) {\n",
       "\n",
       "    // Prevent repeat events\n",
       "    if (name == 'key_press')\n",
       "    {\n",
       "        if (event.which === this._key)\n",
       "            return;\n",
       "        else\n",
       "            this._key = event.which;\n",
       "    }\n",
       "    if (name == 'key_release')\n",
       "        this._key = null;\n",
       "\n",
       "    var value = '';\n",
       "    if (event.ctrlKey && event.which != 17)\n",
       "        value += \"ctrl+\";\n",
       "    if (event.altKey && event.which != 18)\n",
       "        value += \"alt+\";\n",
       "    if (event.shiftKey && event.which != 16)\n",
       "        value += \"shift+\";\n",
       "\n",
       "    value += 'k';\n",
       "    value += event.which.toString();\n",
       "\n",
       "    this._key_event_extra(event, name);\n",
       "\n",
       "    this.send_message(name, {key: value,\n",
       "                             guiEvent: simpleKeys(event)});\n",
       "    return false;\n",
       "}\n",
       "\n",
       "mpl.figure.prototype.toolbar_button_onclick = function(name) {\n",
       "    if (name == 'download') {\n",
       "        this.handle_save(this, null);\n",
       "    } else {\n",
       "        this.send_message(\"toolbar_button\", {name: name});\n",
       "    }\n",
       "};\n",
       "\n",
       "mpl.figure.prototype.toolbar_button_onmouseover = function(tooltip) {\n",
       "    this.message.textContent = tooltip;\n",
       "};\n",
       "mpl.toolbar_items = [[\"Home\", \"Reset original view\", \"fa fa-home icon-home\", \"home\"], [\"Back\", \"Back to  previous view\", \"fa fa-arrow-left icon-arrow-left\", \"back\"], [\"Forward\", \"Forward to next view\", \"fa fa-arrow-right icon-arrow-right\", \"forward\"], [\"\", \"\", \"\", \"\"], [\"Pan\", \"Pan axes with left mouse, zoom with right\", \"fa fa-arrows icon-move\", \"pan\"], [\"Zoom\", \"Zoom to rectangle\", \"fa fa-square-o icon-check-empty\", \"zoom\"], [\"\", \"\", \"\", \"\"], [\"Download\", \"Download plot\", \"fa fa-floppy-o icon-save\", \"download\"]];\n",
       "\n",
       "mpl.extensions = [\"eps\", \"jpeg\", \"pdf\", \"png\", \"ps\", \"raw\", \"svg\", \"tif\"];\n",
       "\n",
       "mpl.default_extension = \"png\";var comm_websocket_adapter = function(comm) {\n",
       "    // Create a \"websocket\"-like object which calls the given IPython comm\n",
       "    // object with the appropriate methods. Currently this is a non binary\n",
       "    // socket, so there is still some room for performance tuning.\n",
       "    var ws = {};\n",
       "\n",
       "    ws.close = function() {\n",
       "        comm.close()\n",
       "    };\n",
       "    ws.send = function(m) {\n",
       "        //console.log('sending', m);\n",
       "        comm.send(m);\n",
       "    };\n",
       "    // Register the callback with on_msg.\n",
       "    comm.on_msg(function(msg) {\n",
       "        //console.log('receiving', msg['content']['data'], msg);\n",
       "        // Pass the mpl event to the overridden (by mpl) onmessage function.\n",
       "        ws.onmessage(msg['content']['data'])\n",
       "    });\n",
       "    return ws;\n",
       "}\n",
       "\n",
       "mpl.mpl_figure_comm = function(comm, msg) {\n",
       "    // This is the function which gets called when the mpl process\n",
       "    // starts-up an IPython Comm through the \"matplotlib\" channel.\n",
       "\n",
       "    var id = msg.content.data.id;\n",
       "    // Get hold of the div created by the display call when the Comm\n",
       "    // socket was opened in Python.\n",
       "    var element = $(\"#\" + id);\n",
       "    var ws_proxy = comm_websocket_adapter(comm)\n",
       "\n",
       "    function ondownload(figure, format) {\n",
       "        window.open(figure.imageObj.src);\n",
       "    }\n",
       "\n",
       "    var fig = new mpl.figure(id, ws_proxy,\n",
       "                           ondownload,\n",
       "                           element.get(0));\n",
       "\n",
       "    // Call onopen now - mpl needs it, as it is assuming we've passed it a real\n",
       "    // web socket which is closed, not our websocket->open comm proxy.\n",
       "    ws_proxy.onopen();\n",
       "\n",
       "    fig.parent_element = element.get(0);\n",
       "    fig.cell_info = mpl.find_output_cell(\"<div id='\" + id + \"'></div>\");\n",
       "    if (!fig.cell_info) {\n",
       "        console.error(\"Failed to find cell for figure\", id, fig);\n",
       "        return;\n",
       "    }\n",
       "\n",
       "    var output_index = fig.cell_info[2]\n",
       "    var cell = fig.cell_info[0];\n",
       "\n",
       "};\n",
       "\n",
       "mpl.figure.prototype.handle_close = function(fig, msg) {\n",
       "    var width = fig.canvas.width/mpl.ratio\n",
       "    fig.root.unbind('remove')\n",
       "\n",
       "    // Update the output cell to use the data from the current canvas.\n",
       "    fig.push_to_output();\n",
       "    var dataURL = fig.canvas.toDataURL();\n",
       "    // Re-enable the keyboard manager in IPython - without this line, in FF,\n",
       "    // the notebook keyboard shortcuts fail.\n",
       "    IPython.keyboard_manager.enable()\n",
       "    $(fig.parent_element).html('<img src=\"' + dataURL + '\" width=\"' + width + '\">');\n",
       "    fig.close_ws(fig, msg);\n",
       "}\n",
       "\n",
       "mpl.figure.prototype.close_ws = function(fig, msg){\n",
       "    fig.send_message('closing', msg);\n",
       "    // fig.ws.close()\n",
       "}\n",
       "\n",
       "mpl.figure.prototype.push_to_output = function(remove_interactive) {\n",
       "    // Turn the data on the canvas into data in the output cell.\n",
       "    var width = this.canvas.width/mpl.ratio\n",
       "    var dataURL = this.canvas.toDataURL();\n",
       "    this.cell_info[1]['text/html'] = '<img src=\"' + dataURL + '\" width=\"' + width + '\">';\n",
       "}\n",
       "\n",
       "mpl.figure.prototype.updated_canvas_event = function() {\n",
       "    // Tell IPython that the notebook contents must change.\n",
       "    IPython.notebook.set_dirty(true);\n",
       "    this.send_message(\"ack\", {});\n",
       "    var fig = this;\n",
       "    // Wait a second, then push the new image to the DOM so\n",
       "    // that it is saved nicely (might be nice to debounce this).\n",
       "    setTimeout(function () { fig.push_to_output() }, 1000);\n",
       "}\n",
       "\n",
       "mpl.figure.prototype._init_toolbar = function() {\n",
       "    var fig = this;\n",
       "\n",
       "    var nav_element = $('<div/>')\n",
       "    nav_element.attr('style', 'width: 100%');\n",
       "    this.root.append(nav_element);\n",
       "\n",
       "    // Define a callback function for later on.\n",
       "    function toolbar_event(event) {\n",
       "        return fig.toolbar_button_onclick(event['data']);\n",
       "    }\n",
       "    function toolbar_mouse_event(event) {\n",
       "        return fig.toolbar_button_onmouseover(event['data']);\n",
       "    }\n",
       "\n",
       "    for(var toolbar_ind in mpl.toolbar_items){\n",
       "        var name = mpl.toolbar_items[toolbar_ind][0];\n",
       "        var tooltip = mpl.toolbar_items[toolbar_ind][1];\n",
       "        var image = mpl.toolbar_items[toolbar_ind][2];\n",
       "        var method_name = mpl.toolbar_items[toolbar_ind][3];\n",
       "\n",
       "        if (!name) { continue; };\n",
       "\n",
       "        var button = $('<button class=\"btn btn-default\" href=\"#\" title=\"' + name + '\"><i class=\"fa ' + image + ' fa-lg\"></i></button>');\n",
       "        button.click(method_name, toolbar_event);\n",
       "        button.mouseover(tooltip, toolbar_mouse_event);\n",
       "        nav_element.append(button);\n",
       "    }\n",
       "\n",
       "    // Add the status bar.\n",
       "    var status_bar = $('<span class=\"mpl-message\" style=\"text-align:right; float: right;\"/>');\n",
       "    nav_element.append(status_bar);\n",
       "    this.message = status_bar[0];\n",
       "\n",
       "    // Add the close button to the window.\n",
       "    var buttongrp = $('<div class=\"btn-group inline pull-right\"></div>');\n",
       "    var button = $('<button class=\"btn btn-mini btn-primary\" href=\"#\" title=\"Stop Interaction\"><i class=\"fa fa-power-off icon-remove icon-large\"></i></button>');\n",
       "    button.click(function (evt) { fig.handle_close(fig, {}); } );\n",
       "    button.mouseover('Stop Interaction', toolbar_mouse_event);\n",
       "    buttongrp.append(button);\n",
       "    var titlebar = this.root.find($('.ui-dialog-titlebar'));\n",
       "    titlebar.prepend(buttongrp);\n",
       "}\n",
       "\n",
       "mpl.figure.prototype._root_extra_style = function(el){\n",
       "    var fig = this\n",
       "    el.on(\"remove\", function(){\n",
       "\tfig.close_ws(fig, {});\n",
       "    });\n",
       "}\n",
       "\n",
       "mpl.figure.prototype._canvas_extra_style = function(el){\n",
       "    // this is important to make the div 'focusable\n",
       "    el.attr('tabindex', 0)\n",
       "    // reach out to IPython and tell the keyboard manager to turn it's self\n",
       "    // off when our div gets focus\n",
       "\n",
       "    // location in version 3\n",
       "    if (IPython.notebook.keyboard_manager) {\n",
       "        IPython.notebook.keyboard_manager.register_events(el);\n",
       "    }\n",
       "    else {\n",
       "        // location in version 2\n",
       "        IPython.keyboard_manager.register_events(el);\n",
       "    }\n",
       "\n",
       "}\n",
       "\n",
       "mpl.figure.prototype._key_event_extra = function(event, name) {\n",
       "    var manager = IPython.notebook.keyboard_manager;\n",
       "    if (!manager)\n",
       "        manager = IPython.keyboard_manager;\n",
       "\n",
       "    // Check for shift+enter\n",
       "    if (event.shiftKey && event.which == 13) {\n",
       "        this.canvas_div.blur();\n",
       "        event.shiftKey = false;\n",
       "        // Send a \"J\" for go to next cell\n",
       "        event.which = 74;\n",
       "        event.keyCode = 74;\n",
       "        manager.command_mode();\n",
       "        manager.handle_keydown(event);\n",
       "    }\n",
       "}\n",
       "\n",
       "mpl.figure.prototype.handle_save = function(fig, msg) {\n",
       "    fig.ondownload(fig, null);\n",
       "}\n",
       "\n",
       "\n",
       "mpl.find_output_cell = function(html_output) {\n",
       "    // Return the cell and output element which can be found *uniquely* in the notebook.\n",
       "    // Note - this is a bit hacky, but it is done because the \"notebook_saving.Notebook\"\n",
       "    // IPython event is triggered only after the cells have been serialised, which for\n",
       "    // our purposes (turning an active figure into a static one), is too late.\n",
       "    var cells = IPython.notebook.get_cells();\n",
       "    var ncells = cells.length;\n",
       "    for (var i=0; i<ncells; i++) {\n",
       "        var cell = cells[i];\n",
       "        if (cell.cell_type === 'code'){\n",
       "            for (var j=0; j<cell.output_area.outputs.length; j++) {\n",
       "                var data = cell.output_area.outputs[j];\n",
       "                if (data.data) {\n",
       "                    // IPython >= 3 moved mimebundle to data attribute of output\n",
       "                    data = data.data;\n",
       "                }\n",
       "                if (data['text/html'] == html_output) {\n",
       "                    return [cell, data, j];\n",
       "                }\n",
       "            }\n",
       "        }\n",
       "    }\n",
       "}\n",
       "\n",
       "// Register the function which deals with the matplotlib target/channel.\n",
       "// The kernel may be null if the page has been refreshed.\n",
       "if (IPython.notebook.kernel != null) {\n",
       "    IPython.notebook.kernel.comm_manager.register_target('matplotlib', mpl.mpl_figure_comm);\n",
       "}\n"
      ],
      "text/plain": [
       "<IPython.core.display.Javascript object>"
      ]
     },
     "metadata": {},
     "output_type": "display_data"
    },
    {
     "data": {
      "text/html": [
       "<img src=\"data:image/png;base64,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\" width=\"639.7499809339648\">"
      ],
      "text/plain": [
       "<IPython.core.display.HTML object>"
      ]
     },
     "metadata": {},
     "output_type": "display_data"
    }
   ],
   "source": [
    "U = sol.U\n",
    "\n",
    "x = np.linspace(0,1,sol.nx+1)\n",
    "t = np.linspace(0,1,sol.nt+1)\n",
    "print(x.shape,t.shape)\n",
    "y = lambda x,t: 6*np.sin(np.pi*x)*np.exp(-k*np.pi**2*t) \n",
    "\n",
    "true = np.copy(U)\n",
    "for i in range(sol.nt+1):\n",
    "    true[i] = y(x,t[i])\n",
    "\n",
    "# Static plot of solution\n",
    "fig = plt.figure()\n",
    "\n",
    "for i in range(sol.nt+1):\n",
    "    ui = U[i,:sol.nx+1]\n",
    "    plt.plot(x,ui,'b')\n",
    "    plt.plot(x,true[i],'g')\n",
    "    \n",
    "\n",
    "    \n",
    "plt.show()"
   ]
  },
  {
   "cell_type": "code",
   "execution_count": 22,
   "metadata": {},
   "outputs": [
    {
     "name": "stdout",
     "output_type": "stream",
     "text": [
      "hi\n"
     ]
    }
   ],
   "source": [
    "if 1:\n",
    "    print('hi')"
   ]
  },
  {
   "cell_type": "code",
   "execution_count": 29,
   "metadata": {},
   "outputs": [
    {
     "data": {
      "text/plain": [
       "0.1952648942001984"
      ]
     },
     "execution_count": 29,
     "metadata": {},
     "output_type": "execute_result"
    }
   ],
   "source": [
    "np.linalg.norm(U-true)"
   ]
  },
  {
   "cell_type": "code",
   "execution_count": 30,
   "metadata": {},
   "outputs": [],
   "source": [
    "filename = 'heat_equation_fea.mp4'\n",
    "# Create our animation writer\n",
    "animation.writer = animation.writers['ffmpeg']\n",
    "\n",
    "# Define our update function that will get our solution at each time t and plot it against x\n",
    "def update(i):\n",
    "    curve1.set_data(x,U[i]) \n",
    "    curve2.set_data(x,true[i]) \n",
    "    return curve1, curve2\n",
    "\n",
    "# Create our animation base figure\n",
    "plt.ioff()\n",
    "fig = plt.figure()\n",
    "\n",
    "ax = fig.add_subplot(1,1,1)\n",
    "ax.set_ylim((-.2,6.5))\n",
    "ax.set_xlim((0,1))\n",
    "curve1, = plt.plot([],[], marker='o',color='r')\n",
    "curve2, = plt.plot([],[], color='k')\n",
    "plt.xlabel(\"x\")\n",
    "plt.title('Finite Element Solution')\n",
    "\n",
    "ani = animation.FuncAnimation(fig,update,frames=nt+1,interval=100)\n",
    "ani.save(filename)\n",
    "plt.close(fig)"
   ]
  },
  {
   "cell_type": "markdown",
   "metadata": {},
   "source": [
    "<video src=\"heat_equation_fea.mp4\" controls>"
   ]
  },
  {
   "cell_type": "markdown",
   "metadata": {},
   "source": [
    "# solving for 1D MHD\n",
    "\n",
    "nu\n",
    "\n",
    "mu https://www.engineersedge.com/physics/water__density_viscosity_specific_weight_13146.htm\n",
    "\n",
    "cnu http://hyperphysics.phy-astr.gsu.edu/hbase/thermo/spht.html\n",
    "\n",
    "kap https://en.wikipedia.org/wiki/Thermal_conductivity\n",
    "\n",
    "R https://en.wikipedia.org/wiki/Gas_constant\n",
    "\n",
    "alpha\n",
    "\n",
    "boundary conditions\n",
    "\n",
    "- Dirichlet for rho, u, h, T on left\n",
    "- Dirichlet for u and T on right"
   ]
  },
  {
   "cell_type": "code",
   "execution_count": 292,
   "metadata": {},
   "outputs": [
    {
     "name": "stdout",
     "output_type": "stream",
     "text": [
      "[1.0, 1.0, 1.0, 1.0, 1.0, 1.0, 1.0, 1.0, 1.0, 1.0, 1.0, 1.0, 1.0, 1.0, 1.0, 1.0, 1.0, 1.0, 1.0, 1.0, 1.0, 1.0, 1.0, 1.0, 1.0, 1.0, 1.0, 1.0, 1.0, 0.9999, 0.9999, 0.9999, 0.9999, 0.9999, 0.9999, 0.9999, 0.9999, 0.9999, 0.9998, 0.9998, 0.9998, 0.9998, 0.9998, 0.9997, 0.9997, 0.9996, 0.9996, 0.9996, 0.9995, 0.9994, 0.9994, 0.9993, 0.9992, 0.9991, 0.999, 0.9989, 0.9987, 0.9986, 0.9984, 0.9982, 0.998, 0.9978, 0.9975, 0.9972, 0.9968, 0.9965, 0.996, 0.9956, 0.995, 0.9944, 0.9938, 0.993, 0.9922, 0.9913, 0.9903, 0.9891, 0.9879, 0.9865, 0.985, 0.9833, 0.9815, 0.9794, 0.9772, 0.9748, 0.9721, 0.9692, 0.9661, 0.9628, 0.9592, 0.9554, 0.9513, 0.947, 0.9424, 0.9376, 0.9326, 0.9275, 0.9222, 0.9167, 0.9112, 0.9056, 0.9, 0.8944, 0.8888, 0.8833, 0.878, 0.8727, 0.8676, 0.8628, 0.8581, 0.8536, 0.8494, 0.8454, 0.8416, 0.8381, 0.8348, 0.8317, 0.8289, 0.8263, 0.8238, 0.8216, 0.8196, 0.8177, 0.816, 0.8145, 0.8131, 0.8118, 0.8106, 0.8096, 0.8086, 0.8078, 0.807, 0.8063, 0.8057, 0.8051, 0.8046, 0.8041, 0.8037, 0.8033, 0.803, 0.8027, 0.8024, 0.8021, 0.8019, 0.8017, 0.8015, 0.8014, 0.8012, 0.8011, 0.801, 0.8009, 0.8008, 0.8007, 0.8006, 0.8006, 0.8005, 0.8005, 0.8004, 0.8004, 0.8003, 0.8003, 0.8003, 0.8002, 0.8002, 0.8002, 0.8002, 0.8002, 0.8001, 0.8001, 0.8001, 0.8001, 0.8001, 0.8001, 0.8001, 0.8001, 0.8001, 0.8001, 0.8, 0.8, 0.8, 0.8, 0.8, 0.8, 0.8, 0.8, 0.8, 0.8, 0.8, 0.8, 0.8, 0.8, 0.8, 0.8, 0.8, 0.8, 0.8, 0.8, 0.8, 0.8, 0.8, 0.8, 0.8]\n"
     ]
    }
   ],
   "source": [
    "print(y1)"
   ]
  },
  {
   "cell_type": "code",
   "execution_count": 323,
   "metadata": {},
   "outputs": [],
   "source": []
  },
  {
   "cell_type": "code",
   "execution_count": 319,
   "metadata": {
    "scrolled": true
   },
   "outputs": [],
   "source": [
    "y1 = [1.0, 1.0, 1.0, 1.0, 1.0, 1.0, 1.0, 1.0, 1.0, 1.0, 1.0, 1.0, 1.0, 1.0, 1.0, 1.0, 1.0, 1.0, 1.0, 1.0, 1.0, 1.0, 1.0, 1.0, 1.0, 1.0, 1.0, 1.0, 0.9999, 0.9999, 0.9999, 0.9999, 0.9999, 0.9999, 0.9999, 0.9999, 0.9999, 0.9999, 0.9998, 0.9998, 0.9998, 0.9998, 0.9997, 0.9997, 0.9997, 0.9996, 0.9996, 0.9995, 0.9995, 0.9994, 0.9994, 0.9993, 0.9992, 0.9991, 0.999, 0.9988, 0.9987, 0.9985, 0.9984, 0.9982, 0.9979, 0.9977, 0.9974, 0.9971, 0.9967, 0.9963, 0.9959, 0.9954, 0.9948, 0.9942, 0.9935, 0.9927, 0.9919, 0.9909, 0.9899, 0.9887, 0.9874, 0.9859, 0.9843, 0.9826, 0.9807, 0.9785, 0.9762, 0.9737, 0.9709, 0.968, 0.9647, 0.9613, 0.9575, 0.9536, 0.9493, 0.9449, 0.9402, 0.9353, 0.9302, 0.925, 0.9196, 0.9141, 0.9085, 0.9028, 0.8972, 0.8916, 0.886, 0.8805, 0.8752, 0.87, 0.865, 0.8602, 0.8556, 0.8512, 0.8471, 0.8432, 0.8396, 0.8362, 0.833, 0.8301, 0.8273, 0.8248, 0.8225, 0.8204, 0.8185, 0.8167, 0.8151, 0.8136, 0.8123, 0.8111, 0.81, 0.809, 0.8081, 0.8073, 0.8065, 0.8059, 0.8053, 0.8047, 0.8042, 0.8038, 0.8034, 0.8031, 0.8028, 0.8025, 0.8022, 0.802, 0.8018, 0.8016, 0.8014, 0.8013, 0.8012, 0.801, 0.8009, 0.8008, 0.8007, 0.8007, 0.8006, 0.8005, 0.8005, 0.8004, 0.8004, 0.8003, 0.8003, 0.8003, 0.8002, 0.8002, 0.8002, 0.8002, 0.8002, 0.8001, 0.8001, 0.8001, 0.8001, 0.8001, 0.8001, 0.8001, 0.8001, 0.8001, 0.8001, 0.8, 0.8, 0.8, 0.8, 0.8, 0.8, 0.8, 0.8, 0.8, 0.8, 0.8, 0.8, 0.8, 0.8, 0.8, 0.8, 0.8, 0.8, 0.8, 0.8, 0.8, 0.8, 0.8, 0.8, 0.8]\n",
    "y2 = [0.661, 0.661, 0.661, 0.661, 0.661, 0.661, 0.661, 0.661, 0.661, 0.661, 0.661, 0.661, 0.661, 0.661, 0.661, 0.661, 0.661, 0.661, 0.661, 0.661, 0.661, 0.661, 0.661, 0.661, 0.661, 0.661, 0.661, 0.661, 0.661, 0.661, 0.661, 0.661, 0.661, 0.661, 0.661, 0.661, 0.6611, 0.6611, 0.6611, 0.6611, 0.6611, 0.6611, 0.6611, 0.6611, 0.6612, 0.6612, 0.6612, 0.6612, 0.6613, 0.6613, 0.6613, 0.6614, 0.6614, 0.6615, 0.6615, 0.6616, 0.6617, 0.6618, 0.6618, 0.662, 0.6621, 0.6622, 0.6623, 0.6625, 0.6627, 0.6629, 0.6631, 0.6634, 0.6637, 0.664, 0.6644, 0.6648, 0.6652, 0.6657, 0.6663, 0.6669, 0.6676, 0.6684, 0.6692, 0.6701, 0.6712, 0.6723, 0.6735, 0.6749, 0.6763, 0.6779, 0.6797, 0.6815, 0.6835, 0.6856, 0.6879, 0.6903, 0.6928, 0.6955, 0.6982, 0.7011, 0.704, 0.707, 0.71, 0.7131, 0.7162, 0.7193, 0.7223, 0.7253, 0.7282, 0.731, 0.7337, 0.7363, 0.7389, 0.7412, 0.7435, 0.7456, 0.7476, 0.7494, 0.7512, 0.7528, 0.7542, 0.7556, 0.7569, 0.758, 0.759, 0.76, 0.7609, 0.7617, 0.7624, 0.7631, 0.7636, 0.7642, 0.7647, 0.7651, 0.7655, 0.7659, 0.7662, 0.7665, 0.7667, 0.767, 0.7672, 0.7674, 0.7675, 0.7677, 0.7678, 0.768, 0.7681, 0.7682, 0.7683, 0.7683, 0.7684, 0.7685, 0.7685, 0.7686, 0.7686, 0.7687, 0.7687, 0.7687, 0.7688, 0.7688, 0.7688, 0.7688, 0.7689, 0.7689, 0.7689, 0.7689, 0.7689, 0.7689, 0.7689, 0.769, 0.769, 0.769, 0.769, 0.769, 0.769, 0.769, 0.769, 0.769, 0.769, 0.769, 0.769, 0.769, 0.769, 0.769, 0.769, 0.769, 0.769, 0.769, 0.769, 0.769, 0.769, 0.769, 0.769, 0.769, 0.769, 0.769, 0.769, 0.769, 0.769, 0.769, 0.769, 0.769, 0.769, 0.769]"
   ]
  },
  {
   "cell_type": "code",
   "execution_count": 61,
   "metadata": {},
   "outputs": [
    {
     "name": "stdout",
     "output_type": "stream",
     "text": [
      "0.8 0.769\n",
      "21 21 [1.0, 1.0, 1.0, 0.9999, 0.9998, 0.9994, 0.998, 0.9938, 0.9815, 0.9513, 0.9, 0.8494, 0.8196, 0.807, 0.8024, 0.8008, 0.8003, 0.8001, 0.8, 0.8, 0.8] [0.661, 0.661, 0.661, 0.661, 0.6611, 0.6613, 0.662, 0.6643, 0.6708, 0.6869, 0.7147, 0.7423, 0.7584, 0.7653, 0.7677, 0.7686, 0.7689, 0.769, 0.769, 0.769, 0.769]\n"
     ]
    }
   ],
   "source": [
    "y1 = [1.0, 1.0, 1.0, 1.0, 1.0, 1.0, 1.0, 1.0, 1.0, 1.0, 1.0, 1.0, 1.0, 1.0, 1.0, 1.0, 1.0, 1.0, 1.0, 1.0, 1.0, 1.0, 1.0, 1.0, 1.0, 1.0, 1.0, 1.0, 1.0, 0.9999, 0.9999, 0.9999, 0.9999, 0.9999, 0.9999, 0.9999, 0.9999, 0.9999, 0.9998, 0.9998, 0.9998, 0.9998, 0.9998, 0.9997, 0.9997, 0.9996, 0.9996, 0.9996, 0.9995, 0.9994, 0.9994, 0.9993, 0.9992, 0.9991, 0.999, 0.9989, 0.9987, 0.9986, 0.9984, 0.9982, 0.998, 0.9978, 0.9975, 0.9972, 0.9968, 0.9965, 0.996, 0.9956, 0.995, 0.9944, 0.9938, 0.993, 0.9922, 0.9913, 0.9903, 0.9891, 0.9879, 0.9865, 0.985, 0.9833, 0.9815, 0.9794, 0.9772, 0.9748, 0.9721, 0.9692, 0.9661, 0.9628, 0.9592, 0.9554, 0.9513, 0.947, 0.9424, 0.9376, 0.9326, 0.9275, 0.9222, 0.9167, 0.9112, 0.9056, 0.9, 0.8944, 0.8888, 0.8833, 0.878, 0.8727, 0.8676, 0.8628, 0.8581, 0.8536, 0.8494, 0.8454, 0.8416, 0.8381, 0.8348, 0.8317, 0.8289, 0.8263, 0.8238, 0.8216, 0.8196, 0.8177, 0.816, 0.8145, 0.8131, 0.8118, 0.8106, 0.8096, 0.8086, 0.8078, 0.807, 0.8063, 0.8057, 0.8051, 0.8046, 0.8041, 0.8037, 0.8033, 0.803, 0.8027, 0.8024, 0.8021, 0.8019, 0.8017, 0.8015, 0.8014, 0.8012, 0.8011, 0.801, 0.8009, 0.8008, 0.8007, 0.8006, 0.8006, 0.8005, 0.8005, 0.8004, 0.8004, 0.8003, 0.8003, 0.8003, 0.8002, 0.8002, 0.8002, 0.8002, 0.8002, 0.8001, 0.8001, 0.8001, 0.8001, 0.8001, 0.8001, 0.8001, 0.8001, 0.8001, 0.8001, 0.8, 0.8, 0.8, 0.8, 0.8, 0.8, 0.8, 0.8, 0.8, 0.8, 0.8, 0.8, 0.8, 0.8, 0.8, 0.8, 0.8, 0.8, 0.8, 0.8, 0.8, 0.8, 0.8, 0.8, 0.8]\n",
    "\n",
    "y2 = [0.661, 0.661, 0.661, 0.661, 0.661, 0.661, 0.661, 0.661, 0.661, 0.661, 0.661, 0.661, 0.661, 0.661, 0.661, 0.661, 0.661, 0.661, 0.661, 0.661, 0.661, 0.661, 0.661, 0.661, 0.661, 0.661, 0.661, 0.661, 0.661, 0.661, 0.661, 0.661, 0.661, 0.661, 0.661, 0.661, 0.6611, 0.6611, 0.6611, 0.6611, 0.6611, 0.6611, 0.6611, 0.6611, 0.6611, 0.6612, 0.6612, 0.6612, 0.6612, 0.6613, 0.6613, 0.6614, 0.6614, 0.6615, 0.6615, 0.6616, 0.6616, 0.6617, 0.6618, 0.6619, 0.662, 0.6622, 0.6623, 0.6625, 0.6626, 0.6628, 0.6631, 0.6633, 0.6636, 0.6639, 0.6643, 0.6646, 0.6651, 0.6656, 0.6661, 0.6667, 0.6673, 0.6681, 0.6689, 0.6698, 0.6708, 0.6718, 0.673, 0.6743, 0.6757, 0.6772, 0.6789, 0.6807, 0.6826, 0.6847, 0.6869, 0.6892, 0.6917, 0.6942, 0.6969, 0.6997, 0.7026, 0.7055, 0.7086, 0.7116, 0.7147, 0.7177, 0.7207, 0.7237, 0.7267, 0.7295, 0.7323, 0.735, 0.7375, 0.7399, 0.7423, 0.7444, 0.7465, 0.7484, 0.7502, 0.7519, 0.7534, 0.7548, 0.7561, 0.7573, 0.7584, 0.7594, 0.7604, 0.7612, 0.762, 0.7627, 0.7633, 0.7639, 0.7644, 0.7648, 0.7653, 0.7656, 0.766, 0.7663, 0.7666, 0.7668, 0.767, 0.7672, 0.7674, 0.7676, 0.7677, 0.7679, 0.768, 0.7681, 0.7682, 0.7683, 0.7684, 0.7684, 0.7685, 0.7685, 0.7686, 0.7686, 0.7687, 0.7687, 0.7687, 0.7688, 0.7688, 0.7688, 0.7688, 0.7689, 0.7689, 0.7689, 0.7689, 0.7689, 0.7689, 0.7689, 0.769, 0.769, 0.769, 0.769, 0.769, 0.769, 0.769, 0.769, 0.769, 0.769, 0.769, 0.769, 0.769, 0.769, 0.769, 0.769, 0.769, 0.769, 0.769, 0.769, 0.769, 0.769, 0.769, 0.769, 0.769, 0.769, 0.769, 0.769, 0.769, 0.769, 0.769, 0.769, 0.769, 0.769, 0.769]\n",
    "print(y1[-1],y2[-1])\n",
    "y1 = y1[::10]\n",
    "y2 = y2[::10]\n",
    "\n",
    "print(len(y1),len(y2),y1,y2)"
   ]
  },
  {
   "cell_type": "code",
   "execution_count": 203,
   "metadata": {},
   "outputs": [],
   "source": [
    "#y1 = [1.0, 1.0, 0.9998, 0.998, 0.9815, 0.9, 0.8196, 0.8024, 0.8003, 0.8, 0.8]\n",
    "#y2 = [0.661, 0.661, 0.6611, 0.662, 0.6708, 0.7147, 0.7584, 0.7677, 0.7689, 0.769, 0.769]"
   ]
  },
  {
   "cell_type": "code",
   "execution_count": 204,
   "metadata": {},
   "outputs": [],
   "source": [
    "#y1 = [y1[0],y1[-1]]\n",
    "#y2 = [y2[0],y2[-1]]"
   ]
  },
  {
   "cell_type": "code",
   "execution_count": 62,
   "metadata": {},
   "outputs": [],
   "source": [
    "Gamma = .666\n",
    "mu = .1\n",
    "eta = -2/3*mu\n",
    "cnu = 1\n",
    "kap = .1\n",
    "nu = .1\n",
    "\n",
    "u = y1\n",
    "rho = [1/_ for _ in u]\n",
    "T = [cnu/_ for _ in y2]\n",
    "h1 = [0 for _ in y2]\n",
    "\n",
    "start = np.array([rho,u,h1,T])"
   ]
  },
  {
   "cell_type": "code",
   "execution_count": 63,
   "metadata": {},
   "outputs": [
    {
     "data": {
      "application/javascript": [
       "/* Put everything inside the global mpl namespace */\n",
       "window.mpl = {};\n",
       "\n",
       "\n",
       "mpl.get_websocket_type = function() {\n",
       "    if (typeof(WebSocket) !== 'undefined') {\n",
       "        return WebSocket;\n",
       "    } else if (typeof(MozWebSocket) !== 'undefined') {\n",
       "        return MozWebSocket;\n",
       "    } else {\n",
       "        alert('Your browser does not have WebSocket support.' +\n",
       "              'Please try Chrome, Safari or Firefox ≥ 6. ' +\n",
       "              'Firefox 4 and 5 are also supported but you ' +\n",
       "              'have to enable WebSockets in about:config.');\n",
       "    };\n",
       "}\n",
       "\n",
       "mpl.figure = function(figure_id, websocket, ondownload, parent_element) {\n",
       "    this.id = figure_id;\n",
       "\n",
       "    this.ws = websocket;\n",
       "\n",
       "    this.supports_binary = (this.ws.binaryType != undefined);\n",
       "\n",
       "    if (!this.supports_binary) {\n",
       "        var warnings = document.getElementById(\"mpl-warnings\");\n",
       "        if (warnings) {\n",
       "            warnings.style.display = 'block';\n",
       "            warnings.textContent = (\n",
       "                \"This browser does not support binary websocket messages. \" +\n",
       "                    \"Performance may be slow.\");\n",
       "        }\n",
       "    }\n",
       "\n",
       "    this.imageObj = new Image();\n",
       "\n",
       "    this.context = undefined;\n",
       "    this.message = undefined;\n",
       "    this.canvas = undefined;\n",
       "    this.rubberband_canvas = undefined;\n",
       "    this.rubberband_context = undefined;\n",
       "    this.format_dropdown = undefined;\n",
       "\n",
       "    this.image_mode = 'full';\n",
       "\n",
       "    this.root = $('<div/>');\n",
       "    this._root_extra_style(this.root)\n",
       "    this.root.attr('style', 'display: inline-block');\n",
       "\n",
       "    $(parent_element).append(this.root);\n",
       "\n",
       "    this._init_header(this);\n",
       "    this._init_canvas(this);\n",
       "    this._init_toolbar(this);\n",
       "\n",
       "    var fig = this;\n",
       "\n",
       "    this.waiting = false;\n",
       "\n",
       "    this.ws.onopen =  function () {\n",
       "            fig.send_message(\"supports_binary\", {value: fig.supports_binary});\n",
       "            fig.send_message(\"send_image_mode\", {});\n",
       "            if (mpl.ratio != 1) {\n",
       "                fig.send_message(\"set_dpi_ratio\", {'dpi_ratio': mpl.ratio});\n",
       "            }\n",
       "            fig.send_message(\"refresh\", {});\n",
       "        }\n",
       "\n",
       "    this.imageObj.onload = function() {\n",
       "            if (fig.image_mode == 'full') {\n",
       "                // Full images could contain transparency (where diff images\n",
       "                // almost always do), so we need to clear the canvas so that\n",
       "                // there is no ghosting.\n",
       "                fig.context.clearRect(0, 0, fig.canvas.width, fig.canvas.height);\n",
       "            }\n",
       "            fig.context.drawImage(fig.imageObj, 0, 0);\n",
       "        };\n",
       "\n",
       "    this.imageObj.onunload = function() {\n",
       "        fig.ws.close();\n",
       "    }\n",
       "\n",
       "    this.ws.onmessage = this._make_on_message_function(this);\n",
       "\n",
       "    this.ondownload = ondownload;\n",
       "}\n",
       "\n",
       "mpl.figure.prototype._init_header = function() {\n",
       "    var titlebar = $(\n",
       "        '<div class=\"ui-dialog-titlebar ui-widget-header ui-corner-all ' +\n",
       "        'ui-helper-clearfix\"/>');\n",
       "    var titletext = $(\n",
       "        '<div class=\"ui-dialog-title\" style=\"width: 100%; ' +\n",
       "        'text-align: center; padding: 3px;\"/>');\n",
       "    titlebar.append(titletext)\n",
       "    this.root.append(titlebar);\n",
       "    this.header = titletext[0];\n",
       "}\n",
       "\n",
       "\n",
       "\n",
       "mpl.figure.prototype._canvas_extra_style = function(canvas_div) {\n",
       "\n",
       "}\n",
       "\n",
       "\n",
       "mpl.figure.prototype._root_extra_style = function(canvas_div) {\n",
       "\n",
       "}\n",
       "\n",
       "mpl.figure.prototype._init_canvas = function() {\n",
       "    var fig = this;\n",
       "\n",
       "    var canvas_div = $('<div/>');\n",
       "\n",
       "    canvas_div.attr('style', 'position: relative; clear: both; outline: 0');\n",
       "\n",
       "    function canvas_keyboard_event(event) {\n",
       "        return fig.key_event(event, event['data']);\n",
       "    }\n",
       "\n",
       "    canvas_div.keydown('key_press', canvas_keyboard_event);\n",
       "    canvas_div.keyup('key_release', canvas_keyboard_event);\n",
       "    this.canvas_div = canvas_div\n",
       "    this._canvas_extra_style(canvas_div)\n",
       "    this.root.append(canvas_div);\n",
       "\n",
       "    var canvas = $('<canvas/>');\n",
       "    canvas.addClass('mpl-canvas');\n",
       "    canvas.attr('style', \"left: 0; top: 0; z-index: 0; outline: 0\")\n",
       "\n",
       "    this.canvas = canvas[0];\n",
       "    this.context = canvas[0].getContext(\"2d\");\n",
       "\n",
       "    var backingStore = this.context.backingStorePixelRatio ||\n",
       "\tthis.context.webkitBackingStorePixelRatio ||\n",
       "\tthis.context.mozBackingStorePixelRatio ||\n",
       "\tthis.context.msBackingStorePixelRatio ||\n",
       "\tthis.context.oBackingStorePixelRatio ||\n",
       "\tthis.context.backingStorePixelRatio || 1;\n",
       "\n",
       "    mpl.ratio = (window.devicePixelRatio || 1) / backingStore;\n",
       "\n",
       "    var rubberband = $('<canvas/>');\n",
       "    rubberband.attr('style', \"position: absolute; left: 0; top: 0; z-index: 1;\")\n",
       "\n",
       "    var pass_mouse_events = true;\n",
       "\n",
       "    canvas_div.resizable({\n",
       "        start: function(event, ui) {\n",
       "            pass_mouse_events = false;\n",
       "        },\n",
       "        resize: function(event, ui) {\n",
       "            fig.request_resize(ui.size.width, ui.size.height);\n",
       "        },\n",
       "        stop: function(event, ui) {\n",
       "            pass_mouse_events = true;\n",
       "            fig.request_resize(ui.size.width, ui.size.height);\n",
       "        },\n",
       "    });\n",
       "\n",
       "    function mouse_event_fn(event) {\n",
       "        if (pass_mouse_events)\n",
       "            return fig.mouse_event(event, event['data']);\n",
       "    }\n",
       "\n",
       "    rubberband.mousedown('button_press', mouse_event_fn);\n",
       "    rubberband.mouseup('button_release', mouse_event_fn);\n",
       "    // Throttle sequential mouse events to 1 every 20ms.\n",
       "    rubberband.mousemove('motion_notify', mouse_event_fn);\n",
       "\n",
       "    rubberband.mouseenter('figure_enter', mouse_event_fn);\n",
       "    rubberband.mouseleave('figure_leave', mouse_event_fn);\n",
       "\n",
       "    canvas_div.on(\"wheel\", function (event) {\n",
       "        event = event.originalEvent;\n",
       "        event['data'] = 'scroll'\n",
       "        if (event.deltaY < 0) {\n",
       "            event.step = 1;\n",
       "        } else {\n",
       "            event.step = -1;\n",
       "        }\n",
       "        mouse_event_fn(event);\n",
       "    });\n",
       "\n",
       "    canvas_div.append(canvas);\n",
       "    canvas_div.append(rubberband);\n",
       "\n",
       "    this.rubberband = rubberband;\n",
       "    this.rubberband_canvas = rubberband[0];\n",
       "    this.rubberband_context = rubberband[0].getContext(\"2d\");\n",
       "    this.rubberband_context.strokeStyle = \"#000000\";\n",
       "\n",
       "    this._resize_canvas = function(width, height) {\n",
       "        // Keep the size of the canvas, canvas container, and rubber band\n",
       "        // canvas in synch.\n",
       "        canvas_div.css('width', width)\n",
       "        canvas_div.css('height', height)\n",
       "\n",
       "        canvas.attr('width', width * mpl.ratio);\n",
       "        canvas.attr('height', height * mpl.ratio);\n",
       "        canvas.attr('style', 'width: ' + width + 'px; height: ' + height + 'px;');\n",
       "\n",
       "        rubberband.attr('width', width);\n",
       "        rubberband.attr('height', height);\n",
       "    }\n",
       "\n",
       "    // Set the figure to an initial 600x600px, this will subsequently be updated\n",
       "    // upon first draw.\n",
       "    this._resize_canvas(600, 600);\n",
       "\n",
       "    // Disable right mouse context menu.\n",
       "    $(this.rubberband_canvas).bind(\"contextmenu\",function(e){\n",
       "        return false;\n",
       "    });\n",
       "\n",
       "    function set_focus () {\n",
       "        canvas.focus();\n",
       "        canvas_div.focus();\n",
       "    }\n",
       "\n",
       "    window.setTimeout(set_focus, 100);\n",
       "}\n",
       "\n",
       "mpl.figure.prototype._init_toolbar = function() {\n",
       "    var fig = this;\n",
       "\n",
       "    var nav_element = $('<div/>')\n",
       "    nav_element.attr('style', 'width: 100%');\n",
       "    this.root.append(nav_element);\n",
       "\n",
       "    // Define a callback function for later on.\n",
       "    function toolbar_event(event) {\n",
       "        return fig.toolbar_button_onclick(event['data']);\n",
       "    }\n",
       "    function toolbar_mouse_event(event) {\n",
       "        return fig.toolbar_button_onmouseover(event['data']);\n",
       "    }\n",
       "\n",
       "    for(var toolbar_ind in mpl.toolbar_items) {\n",
       "        var name = mpl.toolbar_items[toolbar_ind][0];\n",
       "        var tooltip = mpl.toolbar_items[toolbar_ind][1];\n",
       "        var image = mpl.toolbar_items[toolbar_ind][2];\n",
       "        var method_name = mpl.toolbar_items[toolbar_ind][3];\n",
       "\n",
       "        if (!name) {\n",
       "            // put a spacer in here.\n",
       "            continue;\n",
       "        }\n",
       "        var button = $('<button/>');\n",
       "        button.addClass('ui-button ui-widget ui-state-default ui-corner-all ' +\n",
       "                        'ui-button-icon-only');\n",
       "        button.attr('role', 'button');\n",
       "        button.attr('aria-disabled', 'false');\n",
       "        button.click(method_name, toolbar_event);\n",
       "        button.mouseover(tooltip, toolbar_mouse_event);\n",
       "\n",
       "        var icon_img = $('<span/>');\n",
       "        icon_img.addClass('ui-button-icon-primary ui-icon');\n",
       "        icon_img.addClass(image);\n",
       "        icon_img.addClass('ui-corner-all');\n",
       "\n",
       "        var tooltip_span = $('<span/>');\n",
       "        tooltip_span.addClass('ui-button-text');\n",
       "        tooltip_span.html(tooltip);\n",
       "\n",
       "        button.append(icon_img);\n",
       "        button.append(tooltip_span);\n",
       "\n",
       "        nav_element.append(button);\n",
       "    }\n",
       "\n",
       "    var fmt_picker_span = $('<span/>');\n",
       "\n",
       "    var fmt_picker = $('<select/>');\n",
       "    fmt_picker.addClass('mpl-toolbar-option ui-widget ui-widget-content');\n",
       "    fmt_picker_span.append(fmt_picker);\n",
       "    nav_element.append(fmt_picker_span);\n",
       "    this.format_dropdown = fmt_picker[0];\n",
       "\n",
       "    for (var ind in mpl.extensions) {\n",
       "        var fmt = mpl.extensions[ind];\n",
       "        var option = $(\n",
       "            '<option/>', {selected: fmt === mpl.default_extension}).html(fmt);\n",
       "        fmt_picker.append(option)\n",
       "    }\n",
       "\n",
       "    // Add hover states to the ui-buttons\n",
       "    $( \".ui-button\" ).hover(\n",
       "        function() { $(this).addClass(\"ui-state-hover\");},\n",
       "        function() { $(this).removeClass(\"ui-state-hover\");}\n",
       "    );\n",
       "\n",
       "    var status_bar = $('<span class=\"mpl-message\"/>');\n",
       "    nav_element.append(status_bar);\n",
       "    this.message = status_bar[0];\n",
       "}\n",
       "\n",
       "mpl.figure.prototype.request_resize = function(x_pixels, y_pixels) {\n",
       "    // Request matplotlib to resize the figure. Matplotlib will then trigger a resize in the client,\n",
       "    // which will in turn request a refresh of the image.\n",
       "    this.send_message('resize', {'width': x_pixels, 'height': y_pixels});\n",
       "}\n",
       "\n",
       "mpl.figure.prototype.send_message = function(type, properties) {\n",
       "    properties['type'] = type;\n",
       "    properties['figure_id'] = this.id;\n",
       "    this.ws.send(JSON.stringify(properties));\n",
       "}\n",
       "\n",
       "mpl.figure.prototype.send_draw_message = function() {\n",
       "    if (!this.waiting) {\n",
       "        this.waiting = true;\n",
       "        this.ws.send(JSON.stringify({type: \"draw\", figure_id: this.id}));\n",
       "    }\n",
       "}\n",
       "\n",
       "\n",
       "mpl.figure.prototype.handle_save = function(fig, msg) {\n",
       "    var format_dropdown = fig.format_dropdown;\n",
       "    var format = format_dropdown.options[format_dropdown.selectedIndex].value;\n",
       "    fig.ondownload(fig, format);\n",
       "}\n",
       "\n",
       "\n",
       "mpl.figure.prototype.handle_resize = function(fig, msg) {\n",
       "    var size = msg['size'];\n",
       "    if (size[0] != fig.canvas.width || size[1] != fig.canvas.height) {\n",
       "        fig._resize_canvas(size[0], size[1]);\n",
       "        fig.send_message(\"refresh\", {});\n",
       "    };\n",
       "}\n",
       "\n",
       "mpl.figure.prototype.handle_rubberband = function(fig, msg) {\n",
       "    var x0 = msg['x0'] / mpl.ratio;\n",
       "    var y0 = (fig.canvas.height - msg['y0']) / mpl.ratio;\n",
       "    var x1 = msg['x1'] / mpl.ratio;\n",
       "    var y1 = (fig.canvas.height - msg['y1']) / mpl.ratio;\n",
       "    x0 = Math.floor(x0) + 0.5;\n",
       "    y0 = Math.floor(y0) + 0.5;\n",
       "    x1 = Math.floor(x1) + 0.5;\n",
       "    y1 = Math.floor(y1) + 0.5;\n",
       "    var min_x = Math.min(x0, x1);\n",
       "    var min_y = Math.min(y0, y1);\n",
       "    var width = Math.abs(x1 - x0);\n",
       "    var height = Math.abs(y1 - y0);\n",
       "\n",
       "    fig.rubberband_context.clearRect(\n",
       "        0, 0, fig.canvas.width, fig.canvas.height);\n",
       "\n",
       "    fig.rubberband_context.strokeRect(min_x, min_y, width, height);\n",
       "}\n",
       "\n",
       "mpl.figure.prototype.handle_figure_label = function(fig, msg) {\n",
       "    // Updates the figure title.\n",
       "    fig.header.textContent = msg['label'];\n",
       "}\n",
       "\n",
       "mpl.figure.prototype.handle_cursor = function(fig, msg) {\n",
       "    var cursor = msg['cursor'];\n",
       "    switch(cursor)\n",
       "    {\n",
       "    case 0:\n",
       "        cursor = 'pointer';\n",
       "        break;\n",
       "    case 1:\n",
       "        cursor = 'default';\n",
       "        break;\n",
       "    case 2:\n",
       "        cursor = 'crosshair';\n",
       "        break;\n",
       "    case 3:\n",
       "        cursor = 'move';\n",
       "        break;\n",
       "    }\n",
       "    fig.rubberband_canvas.style.cursor = cursor;\n",
       "}\n",
       "\n",
       "mpl.figure.prototype.handle_message = function(fig, msg) {\n",
       "    fig.message.textContent = msg['message'];\n",
       "}\n",
       "\n",
       "mpl.figure.prototype.handle_draw = function(fig, msg) {\n",
       "    // Request the server to send over a new figure.\n",
       "    fig.send_draw_message();\n",
       "}\n",
       "\n",
       "mpl.figure.prototype.handle_image_mode = function(fig, msg) {\n",
       "    fig.image_mode = msg['mode'];\n",
       "}\n",
       "\n",
       "mpl.figure.prototype.updated_canvas_event = function() {\n",
       "    // Called whenever the canvas gets updated.\n",
       "    this.send_message(\"ack\", {});\n",
       "}\n",
       "\n",
       "// A function to construct a web socket function for onmessage handling.\n",
       "// Called in the figure constructor.\n",
       "mpl.figure.prototype._make_on_message_function = function(fig) {\n",
       "    return function socket_on_message(evt) {\n",
       "        if (evt.data instanceof Blob) {\n",
       "            /* FIXME: We get \"Resource interpreted as Image but\n",
       "             * transferred with MIME type text/plain:\" errors on\n",
       "             * Chrome.  But how to set the MIME type?  It doesn't seem\n",
       "             * to be part of the websocket stream */\n",
       "            evt.data.type = \"image/png\";\n",
       "\n",
       "            /* Free the memory for the previous frames */\n",
       "            if (fig.imageObj.src) {\n",
       "                (window.URL || window.webkitURL).revokeObjectURL(\n",
       "                    fig.imageObj.src);\n",
       "            }\n",
       "\n",
       "            fig.imageObj.src = (window.URL || window.webkitURL).createObjectURL(\n",
       "                evt.data);\n",
       "            fig.updated_canvas_event();\n",
       "            fig.waiting = false;\n",
       "            return;\n",
       "        }\n",
       "        else if (typeof evt.data === 'string' && evt.data.slice(0, 21) == \"data:image/png;base64\") {\n",
       "            fig.imageObj.src = evt.data;\n",
       "            fig.updated_canvas_event();\n",
       "            fig.waiting = false;\n",
       "            return;\n",
       "        }\n",
       "\n",
       "        var msg = JSON.parse(evt.data);\n",
       "        var msg_type = msg['type'];\n",
       "\n",
       "        // Call the  \"handle_{type}\" callback, which takes\n",
       "        // the figure and JSON message as its only arguments.\n",
       "        try {\n",
       "            var callback = fig[\"handle_\" + msg_type];\n",
       "        } catch (e) {\n",
       "            console.log(\"No handler for the '\" + msg_type + \"' message type: \", msg);\n",
       "            return;\n",
       "        }\n",
       "\n",
       "        if (callback) {\n",
       "            try {\n",
       "                // console.log(\"Handling '\" + msg_type + \"' message: \", msg);\n",
       "                callback(fig, msg);\n",
       "            } catch (e) {\n",
       "                console.log(\"Exception inside the 'handler_\" + msg_type + \"' callback:\", e, e.stack, msg);\n",
       "            }\n",
       "        }\n",
       "    };\n",
       "}\n",
       "\n",
       "// from http://stackoverflow.com/questions/1114465/getting-mouse-location-in-canvas\n",
       "mpl.findpos = function(e) {\n",
       "    //this section is from http://www.quirksmode.org/js/events_properties.html\n",
       "    var targ;\n",
       "    if (!e)\n",
       "        e = window.event;\n",
       "    if (e.target)\n",
       "        targ = e.target;\n",
       "    else if (e.srcElement)\n",
       "        targ = e.srcElement;\n",
       "    if (targ.nodeType == 3) // defeat Safari bug\n",
       "        targ = targ.parentNode;\n",
       "\n",
       "    // jQuery normalizes the pageX and pageY\n",
       "    // pageX,Y are the mouse positions relative to the document\n",
       "    // offset() returns the position of the element relative to the document\n",
       "    var x = e.pageX - $(targ).offset().left;\n",
       "    var y = e.pageY - $(targ).offset().top;\n",
       "\n",
       "    return {\"x\": x, \"y\": y};\n",
       "};\n",
       "\n",
       "/*\n",
       " * return a copy of an object with only non-object keys\n",
       " * we need this to avoid circular references\n",
       " * http://stackoverflow.com/a/24161582/3208463\n",
       " */\n",
       "function simpleKeys (original) {\n",
       "  return Object.keys(original).reduce(function (obj, key) {\n",
       "    if (typeof original[key] !== 'object')\n",
       "        obj[key] = original[key]\n",
       "    return obj;\n",
       "  }, {});\n",
       "}\n",
       "\n",
       "mpl.figure.prototype.mouse_event = function(event, name) {\n",
       "    var canvas_pos = mpl.findpos(event)\n",
       "\n",
       "    if (name === 'button_press')\n",
       "    {\n",
       "        this.canvas.focus();\n",
       "        this.canvas_div.focus();\n",
       "    }\n",
       "\n",
       "    var x = canvas_pos.x * mpl.ratio;\n",
       "    var y = canvas_pos.y * mpl.ratio;\n",
       "\n",
       "    this.send_message(name, {x: x, y: y, button: event.button,\n",
       "                             step: event.step,\n",
       "                             guiEvent: simpleKeys(event)});\n",
       "\n",
       "    /* This prevents the web browser from automatically changing to\n",
       "     * the text insertion cursor when the button is pressed.  We want\n",
       "     * to control all of the cursor setting manually through the\n",
       "     * 'cursor' event from matplotlib */\n",
       "    event.preventDefault();\n",
       "    return false;\n",
       "}\n",
       "\n",
       "mpl.figure.prototype._key_event_extra = function(event, name) {\n",
       "    // Handle any extra behaviour associated with a key event\n",
       "}\n",
       "\n",
       "mpl.figure.prototype.key_event = function(event, name) {\n",
       "\n",
       "    // Prevent repeat events\n",
       "    if (name == 'key_press')\n",
       "    {\n",
       "        if (event.which === this._key)\n",
       "            return;\n",
       "        else\n",
       "            this._key = event.which;\n",
       "    }\n",
       "    if (name == 'key_release')\n",
       "        this._key = null;\n",
       "\n",
       "    var value = '';\n",
       "    if (event.ctrlKey && event.which != 17)\n",
       "        value += \"ctrl+\";\n",
       "    if (event.altKey && event.which != 18)\n",
       "        value += \"alt+\";\n",
       "    if (event.shiftKey && event.which != 16)\n",
       "        value += \"shift+\";\n",
       "\n",
       "    value += 'k';\n",
       "    value += event.which.toString();\n",
       "\n",
       "    this._key_event_extra(event, name);\n",
       "\n",
       "    this.send_message(name, {key: value,\n",
       "                             guiEvent: simpleKeys(event)});\n",
       "    return false;\n",
       "}\n",
       "\n",
       "mpl.figure.prototype.toolbar_button_onclick = function(name) {\n",
       "    if (name == 'download') {\n",
       "        this.handle_save(this, null);\n",
       "    } else {\n",
       "        this.send_message(\"toolbar_button\", {name: name});\n",
       "    }\n",
       "};\n",
       "\n",
       "mpl.figure.prototype.toolbar_button_onmouseover = function(tooltip) {\n",
       "    this.message.textContent = tooltip;\n",
       "};\n",
       "mpl.toolbar_items = [[\"Home\", \"Reset original view\", \"fa fa-home icon-home\", \"home\"], [\"Back\", \"Back to  previous view\", \"fa fa-arrow-left icon-arrow-left\", \"back\"], [\"Forward\", \"Forward to next view\", \"fa fa-arrow-right icon-arrow-right\", \"forward\"], [\"\", \"\", \"\", \"\"], [\"Pan\", \"Pan axes with left mouse, zoom with right\", \"fa fa-arrows icon-move\", \"pan\"], [\"Zoom\", \"Zoom to rectangle\", \"fa fa-square-o icon-check-empty\", \"zoom\"], [\"\", \"\", \"\", \"\"], [\"Download\", \"Download plot\", \"fa fa-floppy-o icon-save\", \"download\"]];\n",
       "\n",
       "mpl.extensions = [\"eps\", \"jpeg\", \"pdf\", \"png\", \"ps\", \"raw\", \"svg\", \"tif\"];\n",
       "\n",
       "mpl.default_extension = \"png\";var comm_websocket_adapter = function(comm) {\n",
       "    // Create a \"websocket\"-like object which calls the given IPython comm\n",
       "    // object with the appropriate methods. Currently this is a non binary\n",
       "    // socket, so there is still some room for performance tuning.\n",
       "    var ws = {};\n",
       "\n",
       "    ws.close = function() {\n",
       "        comm.close()\n",
       "    };\n",
       "    ws.send = function(m) {\n",
       "        //console.log('sending', m);\n",
       "        comm.send(m);\n",
       "    };\n",
       "    // Register the callback with on_msg.\n",
       "    comm.on_msg(function(msg) {\n",
       "        //console.log('receiving', msg['content']['data'], msg);\n",
       "        // Pass the mpl event to the overridden (by mpl) onmessage function.\n",
       "        ws.onmessage(msg['content']['data'])\n",
       "    });\n",
       "    return ws;\n",
       "}\n",
       "\n",
       "mpl.mpl_figure_comm = function(comm, msg) {\n",
       "    // This is the function which gets called when the mpl process\n",
       "    // starts-up an IPython Comm through the \"matplotlib\" channel.\n",
       "\n",
       "    var id = msg.content.data.id;\n",
       "    // Get hold of the div created by the display call when the Comm\n",
       "    // socket was opened in Python.\n",
       "    var element = $(\"#\" + id);\n",
       "    var ws_proxy = comm_websocket_adapter(comm)\n",
       "\n",
       "    function ondownload(figure, format) {\n",
       "        window.open(figure.imageObj.src);\n",
       "    }\n",
       "\n",
       "    var fig = new mpl.figure(id, ws_proxy,\n",
       "                           ondownload,\n",
       "                           element.get(0));\n",
       "\n",
       "    // Call onopen now - mpl needs it, as it is assuming we've passed it a real\n",
       "    // web socket which is closed, not our websocket->open comm proxy.\n",
       "    ws_proxy.onopen();\n",
       "\n",
       "    fig.parent_element = element.get(0);\n",
       "    fig.cell_info = mpl.find_output_cell(\"<div id='\" + id + \"'></div>\");\n",
       "    if (!fig.cell_info) {\n",
       "        console.error(\"Failed to find cell for figure\", id, fig);\n",
       "        return;\n",
       "    }\n",
       "\n",
       "    var output_index = fig.cell_info[2]\n",
       "    var cell = fig.cell_info[0];\n",
       "\n",
       "};\n",
       "\n",
       "mpl.figure.prototype.handle_close = function(fig, msg) {\n",
       "    var width = fig.canvas.width/mpl.ratio\n",
       "    fig.root.unbind('remove')\n",
       "\n",
       "    // Update the output cell to use the data from the current canvas.\n",
       "    fig.push_to_output();\n",
       "    var dataURL = fig.canvas.toDataURL();\n",
       "    // Re-enable the keyboard manager in IPython - without this line, in FF,\n",
       "    // the notebook keyboard shortcuts fail.\n",
       "    IPython.keyboard_manager.enable()\n",
       "    $(fig.parent_element).html('<img src=\"' + dataURL + '\" width=\"' + width + '\">');\n",
       "    fig.close_ws(fig, msg);\n",
       "}\n",
       "\n",
       "mpl.figure.prototype.close_ws = function(fig, msg){\n",
       "    fig.send_message('closing', msg);\n",
       "    // fig.ws.close()\n",
       "}\n",
       "\n",
       "mpl.figure.prototype.push_to_output = function(remove_interactive) {\n",
       "    // Turn the data on the canvas into data in the output cell.\n",
       "    var width = this.canvas.width/mpl.ratio\n",
       "    var dataURL = this.canvas.toDataURL();\n",
       "    this.cell_info[1]['text/html'] = '<img src=\"' + dataURL + '\" width=\"' + width + '\">';\n",
       "}\n",
       "\n",
       "mpl.figure.prototype.updated_canvas_event = function() {\n",
       "    // Tell IPython that the notebook contents must change.\n",
       "    IPython.notebook.set_dirty(true);\n",
       "    this.send_message(\"ack\", {});\n",
       "    var fig = this;\n",
       "    // Wait a second, then push the new image to the DOM so\n",
       "    // that it is saved nicely (might be nice to debounce this).\n",
       "    setTimeout(function () { fig.push_to_output() }, 1000);\n",
       "}\n",
       "\n",
       "mpl.figure.prototype._init_toolbar = function() {\n",
       "    var fig = this;\n",
       "\n",
       "    var nav_element = $('<div/>')\n",
       "    nav_element.attr('style', 'width: 100%');\n",
       "    this.root.append(nav_element);\n",
       "\n",
       "    // Define a callback function for later on.\n",
       "    function toolbar_event(event) {\n",
       "        return fig.toolbar_button_onclick(event['data']);\n",
       "    }\n",
       "    function toolbar_mouse_event(event) {\n",
       "        return fig.toolbar_button_onmouseover(event['data']);\n",
       "    }\n",
       "\n",
       "    for(var toolbar_ind in mpl.toolbar_items){\n",
       "        var name = mpl.toolbar_items[toolbar_ind][0];\n",
       "        var tooltip = mpl.toolbar_items[toolbar_ind][1];\n",
       "        var image = mpl.toolbar_items[toolbar_ind][2];\n",
       "        var method_name = mpl.toolbar_items[toolbar_ind][3];\n",
       "\n",
       "        if (!name) { continue; };\n",
       "\n",
       "        var button = $('<button class=\"btn btn-default\" href=\"#\" title=\"' + name + '\"><i class=\"fa ' + image + ' fa-lg\"></i></button>');\n",
       "        button.click(method_name, toolbar_event);\n",
       "        button.mouseover(tooltip, toolbar_mouse_event);\n",
       "        nav_element.append(button);\n",
       "    }\n",
       "\n",
       "    // Add the status bar.\n",
       "    var status_bar = $('<span class=\"mpl-message\" style=\"text-align:right; float: right;\"/>');\n",
       "    nav_element.append(status_bar);\n",
       "    this.message = status_bar[0];\n",
       "\n",
       "    // Add the close button to the window.\n",
       "    var buttongrp = $('<div class=\"btn-group inline pull-right\"></div>');\n",
       "    var button = $('<button class=\"btn btn-mini btn-primary\" href=\"#\" title=\"Stop Interaction\"><i class=\"fa fa-power-off icon-remove icon-large\"></i></button>');\n",
       "    button.click(function (evt) { fig.handle_close(fig, {}); } );\n",
       "    button.mouseover('Stop Interaction', toolbar_mouse_event);\n",
       "    buttongrp.append(button);\n",
       "    var titlebar = this.root.find($('.ui-dialog-titlebar'));\n",
       "    titlebar.prepend(buttongrp);\n",
       "}\n",
       "\n",
       "mpl.figure.prototype._root_extra_style = function(el){\n",
       "    var fig = this\n",
       "    el.on(\"remove\", function(){\n",
       "\tfig.close_ws(fig, {});\n",
       "    });\n",
       "}\n",
       "\n",
       "mpl.figure.prototype._canvas_extra_style = function(el){\n",
       "    // this is important to make the div 'focusable\n",
       "    el.attr('tabindex', 0)\n",
       "    // reach out to IPython and tell the keyboard manager to turn it's self\n",
       "    // off when our div gets focus\n",
       "\n",
       "    // location in version 3\n",
       "    if (IPython.notebook.keyboard_manager) {\n",
       "        IPython.notebook.keyboard_manager.register_events(el);\n",
       "    }\n",
       "    else {\n",
       "        // location in version 2\n",
       "        IPython.keyboard_manager.register_events(el);\n",
       "    }\n",
       "\n",
       "}\n",
       "\n",
       "mpl.figure.prototype._key_event_extra = function(event, name) {\n",
       "    var manager = IPython.notebook.keyboard_manager;\n",
       "    if (!manager)\n",
       "        manager = IPython.keyboard_manager;\n",
       "\n",
       "    // Check for shift+enter\n",
       "    if (event.shiftKey && event.which == 13) {\n",
       "        this.canvas_div.blur();\n",
       "        event.shiftKey = false;\n",
       "        // Send a \"J\" for go to next cell\n",
       "        event.which = 74;\n",
       "        event.keyCode = 74;\n",
       "        manager.command_mode();\n",
       "        manager.handle_keydown(event);\n",
       "    }\n",
       "}\n",
       "\n",
       "mpl.figure.prototype.handle_save = function(fig, msg) {\n",
       "    fig.ondownload(fig, null);\n",
       "}\n",
       "\n",
       "\n",
       "mpl.find_output_cell = function(html_output) {\n",
       "    // Return the cell and output element which can be found *uniquely* in the notebook.\n",
       "    // Note - this is a bit hacky, but it is done because the \"notebook_saving.Notebook\"\n",
       "    // IPython event is triggered only after the cells have been serialised, which for\n",
       "    // our purposes (turning an active figure into a static one), is too late.\n",
       "    var cells = IPython.notebook.get_cells();\n",
       "    var ncells = cells.length;\n",
       "    for (var i=0; i<ncells; i++) {\n",
       "        var cell = cells[i];\n",
       "        if (cell.cell_type === 'code'){\n",
       "            for (var j=0; j<cell.output_area.outputs.length; j++) {\n",
       "                var data = cell.output_area.outputs[j];\n",
       "                if (data.data) {\n",
       "                    // IPython >= 3 moved mimebundle to data attribute of output\n",
       "                    data = data.data;\n",
       "                }\n",
       "                if (data['text/html'] == html_output) {\n",
       "                    return [cell, data, j];\n",
       "                }\n",
       "            }\n",
       "        }\n",
       "    }\n",
       "}\n",
       "\n",
       "// Register the function which deals with the matplotlib target/channel.\n",
       "// The kernel may be null if the page has been refreshed.\n",
       "if (IPython.notebook.kernel != null) {\n",
       "    IPython.notebook.kernel.comm_manager.register_target('matplotlib', mpl.mpl_figure_comm);\n",
       "}\n"
      ],
      "text/plain": [
       "<IPython.core.display.Javascript object>"
      ]
     },
     "metadata": {},
     "output_type": "display_data"
    },
    {
     "data": {
      "text/html": [
       "<img src=\"data:image/png;base64,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\" width=\"639.7499809339648\">"
      ],
      "text/plain": [
       "<IPython.core.display.HTML object>"
      ]
     },
     "metadata": {},
     "output_type": "display_data"
    }
   ],
   "source": [
    "fig = plt.figure()\n",
    "plt.plot(rho,label=r'$\\rho$')\n",
    "plt.plot(u,label='u')\n",
    "plt.plot(h1,label='h')\n",
    "plt.plot(T,label='T')\n",
    "plt.ylim(-.1,2)\n",
    "plt.legend()\n",
    "plt.show()"
   ]
  },
  {
   "cell_type": "code",
   "execution_count": 73,
   "metadata": {},
   "outputs": [
    {
     "name": "stderr",
     "output_type": "stream",
     "text": [
      "\n",
      "  0%|          | 0/220 [00:00<?, ?it/s]\u001b[A"
     ]
    },
    {
     "name": "stdout",
     "output_type": "stream",
     "text": [
      "20\n"
     ]
    },
    {
     "name": "stderr",
     "output_type": "stream",
     "text": [
      "\n",
      "  0%|          | 1/220 [00:01<04:05,  1.12s/it]\u001b[A"
     ]
    },
    {
     "name": "stdout",
     "output_type": "stream",
     "text": [
      "False\n"
     ]
    },
    {
     "name": "stderr",
     "output_type": "stream",
     "text": [
      "\n",
      "  1%|          | 2/220 [00:02<04:08,  1.14s/it]\u001b[A"
     ]
    },
    {
     "name": "stdout",
     "output_type": "stream",
     "text": [
      "False\n"
     ]
    },
    {
     "name": "stderr",
     "output_type": "stream",
     "text": [
      "\n",
      "  1%|▏         | 3/220 [00:03<04:02,  1.12s/it]\u001b[A"
     ]
    },
    {
     "name": "stdout",
     "output_type": "stream",
     "text": [
      "False\n"
     ]
    },
    {
     "name": "stderr",
     "output_type": "stream",
     "text": [
      "\n",
      "  2%|▏         | 4/220 [00:04<03:58,  1.10s/it]\u001b[A"
     ]
    },
    {
     "name": "stdout",
     "output_type": "stream",
     "text": [
      "False\n"
     ]
    },
    {
     "name": "stderr",
     "output_type": "stream",
     "text": [
      "\n",
      "  2%|▏         | 5/220 [00:05<03:53,  1.08s/it]\u001b[A"
     ]
    },
    {
     "name": "stdout",
     "output_type": "stream",
     "text": [
      "False\n"
     ]
    },
    {
     "name": "stderr",
     "output_type": "stream",
     "text": [
      "\n",
      "  3%|▎         | 6/220 [00:06<03:49,  1.07s/it]\u001b[A"
     ]
    },
    {
     "name": "stdout",
     "output_type": "stream",
     "text": [
      "False\n"
     ]
    },
    {
     "name": "stderr",
     "output_type": "stream",
     "text": [
      "\n",
      "  3%|▎         | 7/220 [00:07<03:50,  1.08s/it]\u001b[A"
     ]
    },
    {
     "name": "stdout",
     "output_type": "stream",
     "text": [
      "False\n"
     ]
    },
    {
     "name": "stderr",
     "output_type": "stream",
     "text": [
      "\n",
      "  4%|▎         | 8/220 [00:08<03:52,  1.10s/it]\u001b[A"
     ]
    },
    {
     "name": "stdout",
     "output_type": "stream",
     "text": [
      "False\n"
     ]
    },
    {
     "name": "stderr",
     "output_type": "stream",
     "text": [
      "\n",
      "  4%|▍         | 9/220 [00:09<03:52,  1.10s/it]\u001b[A"
     ]
    },
    {
     "name": "stdout",
     "output_type": "stream",
     "text": [
      "False\n"
     ]
    },
    {
     "name": "stderr",
     "output_type": "stream",
     "text": [
      "\n",
      "  5%|▍         | 10/220 [00:10<03:51,  1.10s/it]\u001b[A"
     ]
    },
    {
     "name": "stdout",
     "output_type": "stream",
     "text": [
      "False\n"
     ]
    },
    {
     "name": "stderr",
     "output_type": "stream",
     "text": [
      "\n",
      "  5%|▌         | 11/220 [00:12<04:01,  1.15s/it]\u001b[A"
     ]
    },
    {
     "name": "stdout",
     "output_type": "stream",
     "text": [
      "False\n"
     ]
    },
    {
     "name": "stderr",
     "output_type": "stream",
     "text": [
      "\n",
      "  5%|▌         | 12/220 [00:13<04:05,  1.18s/it]\u001b[A"
     ]
    },
    {
     "name": "stdout",
     "output_type": "stream",
     "text": [
      "False\n"
     ]
    },
    {
     "name": "stderr",
     "output_type": "stream",
     "text": [
      "\n",
      "  6%|▌         | 13/220 [00:14<03:56,  1.14s/it]\u001b[A"
     ]
    },
    {
     "name": "stdout",
     "output_type": "stream",
     "text": [
      "False\n"
     ]
    },
    {
     "name": "stderr",
     "output_type": "stream",
     "text": [
      "\n",
      "  6%|▋         | 14/220 [00:15<03:49,  1.11s/it]\u001b[A"
     ]
    },
    {
     "name": "stdout",
     "output_type": "stream",
     "text": [
      "False\n"
     ]
    },
    {
     "name": "stderr",
     "output_type": "stream",
     "text": [
      "\n",
      "  7%|▋         | 15/220 [00:16<03:45,  1.10s/it]\u001b[A"
     ]
    },
    {
     "name": "stdout",
     "output_type": "stream",
     "text": [
      "False\n"
     ]
    },
    {
     "name": "stderr",
     "output_type": "stream",
     "text": [
      "\n",
      "  7%|▋         | 16/220 [00:17<03:41,  1.08s/it]\u001b[A"
     ]
    },
    {
     "name": "stdout",
     "output_type": "stream",
     "text": [
      "False\n"
     ]
    },
    {
     "name": "stderr",
     "output_type": "stream",
     "text": [
      "\n",
      "  8%|▊         | 17/220 [00:18<03:36,  1.07s/it]\u001b[A"
     ]
    },
    {
     "name": "stdout",
     "output_type": "stream",
     "text": [
      "False\n"
     ]
    },
    {
     "name": "stderr",
     "output_type": "stream",
     "text": [
      "\n",
      "  8%|▊         | 18/220 [00:19<03:39,  1.08s/it]\u001b[A"
     ]
    },
    {
     "name": "stdout",
     "output_type": "stream",
     "text": [
      "False\n"
     ]
    },
    {
     "name": "stderr",
     "output_type": "stream",
     "text": [
      "\n",
      "  9%|▊         | 19/220 [00:20<03:36,  1.08s/it]\u001b[A"
     ]
    },
    {
     "name": "stdout",
     "output_type": "stream",
     "text": [
      "False\n"
     ]
    },
    {
     "name": "stderr",
     "output_type": "stream",
     "text": [
      "\n",
      "  9%|▉         | 20/220 [00:22<03:38,  1.09s/it]\u001b[A"
     ]
    },
    {
     "name": "stdout",
     "output_type": "stream",
     "text": [
      "False\n"
     ]
    },
    {
     "name": "stderr",
     "output_type": "stream",
     "text": [
      "\n",
      " 10%|▉         | 21/220 [00:23<03:39,  1.10s/it]\u001b[A"
     ]
    },
    {
     "name": "stdout",
     "output_type": "stream",
     "text": [
      "False\n"
     ]
    },
    {
     "name": "stderr",
     "output_type": "stream",
     "text": [
      "\n",
      " 10%|█         | 22/220 [00:24<03:40,  1.11s/it]\u001b[A"
     ]
    },
    {
     "name": "stdout",
     "output_type": "stream",
     "text": [
      "False\n"
     ]
    },
    {
     "name": "stderr",
     "output_type": "stream",
     "text": [
      "\n",
      " 10%|█         | 23/220 [00:25<03:46,  1.15s/it]\u001b[A"
     ]
    },
    {
     "name": "stdout",
     "output_type": "stream",
     "text": [
      "False\n"
     ]
    },
    {
     "name": "stderr",
     "output_type": "stream",
     "text": [
      "\n",
      " 11%|█         | 24/220 [00:26<03:39,  1.12s/it]\u001b[A"
     ]
    },
    {
     "name": "stdout",
     "output_type": "stream",
     "text": [
      "False\n"
     ]
    },
    {
     "name": "stderr",
     "output_type": "stream",
     "text": [
      "\n",
      " 11%|█▏        | 25/220 [00:27<03:34,  1.10s/it]\u001b[A"
     ]
    },
    {
     "name": "stdout",
     "output_type": "stream",
     "text": [
      "False\n"
     ]
    },
    {
     "name": "stderr",
     "output_type": "stream",
     "text": [
      "\n",
      " 12%|█▏        | 26/220 [00:28<03:34,  1.11s/it]\u001b[A"
     ]
    },
    {
     "name": "stdout",
     "output_type": "stream",
     "text": [
      "False\n"
     ]
    },
    {
     "name": "stderr",
     "output_type": "stream",
     "text": [
      "\n",
      " 12%|█▏        | 27/220 [00:29<03:35,  1.11s/it]\u001b[A"
     ]
    },
    {
     "name": "stdout",
     "output_type": "stream",
     "text": [
      "False\n"
     ]
    },
    {
     "name": "stderr",
     "output_type": "stream",
     "text": [
      "\n",
      " 13%|█▎        | 28/220 [00:31<03:32,  1.10s/it]\u001b[A"
     ]
    },
    {
     "name": "stdout",
     "output_type": "stream",
     "text": [
      "False\n"
     ]
    },
    {
     "name": "stderr",
     "output_type": "stream",
     "text": [
      "\n",
      " 13%|█▎        | 29/220 [00:32<03:32,  1.11s/it]\u001b[A"
     ]
    },
    {
     "name": "stdout",
     "output_type": "stream",
     "text": [
      "False\n"
     ]
    },
    {
     "name": "stderr",
     "output_type": "stream",
     "text": [
      "\n",
      " 14%|█▎        | 30/220 [00:33<03:39,  1.16s/it]\u001b[A"
     ]
    },
    {
     "name": "stdout",
     "output_type": "stream",
     "text": [
      "False\n"
     ]
    },
    {
     "name": "stderr",
     "output_type": "stream",
     "text": [
      "\n",
      " 14%|█▍        | 31/220 [00:34<03:45,  1.19s/it]\u001b[A"
     ]
    },
    {
     "name": "stdout",
     "output_type": "stream",
     "text": [
      "False\n"
     ]
    },
    {
     "name": "stderr",
     "output_type": "stream",
     "text": [
      "\n",
      " 15%|█▍        | 32/220 [00:35<03:41,  1.18s/it]\u001b[A"
     ]
    },
    {
     "name": "stdout",
     "output_type": "stream",
     "text": [
      "False\n"
     ]
    },
    {
     "name": "stderr",
     "output_type": "stream",
     "text": [
      "\n",
      " 15%|█▌        | 33/220 [00:36<03:37,  1.16s/it]\u001b[A"
     ]
    },
    {
     "name": "stdout",
     "output_type": "stream",
     "text": [
      "False\n"
     ]
    },
    {
     "name": "stderr",
     "output_type": "stream",
     "text": [
      "\n",
      " 15%|█▌        | 34/220 [00:38<03:32,  1.14s/it]\u001b[A"
     ]
    },
    {
     "name": "stdout",
     "output_type": "stream",
     "text": [
      "False\n"
     ]
    },
    {
     "name": "stderr",
     "output_type": "stream",
     "text": [
      "\n",
      " 16%|█▌        | 35/220 [00:39<03:32,  1.15s/it]\u001b[A"
     ]
    },
    {
     "name": "stdout",
     "output_type": "stream",
     "text": [
      "False\n"
     ]
    },
    {
     "name": "stderr",
     "output_type": "stream",
     "text": [
      "\n",
      " 16%|█▋        | 36/220 [00:40<03:29,  1.14s/it]\u001b[A"
     ]
    },
    {
     "name": "stdout",
     "output_type": "stream",
     "text": [
      "False\n"
     ]
    },
    {
     "name": "stderr",
     "output_type": "stream",
     "text": [
      "\n",
      " 17%|█▋        | 37/220 [00:41<03:34,  1.17s/it]\u001b[A"
     ]
    },
    {
     "name": "stdout",
     "output_type": "stream",
     "text": [
      "False\n"
     ]
    },
    {
     "name": "stderr",
     "output_type": "stream",
     "text": [
      "\n",
      " 17%|█▋        | 38/220 [00:42<03:32,  1.16s/it]\u001b[A"
     ]
    },
    {
     "name": "stdout",
     "output_type": "stream",
     "text": [
      "False\n"
     ]
    },
    {
     "name": "stderr",
     "output_type": "stream",
     "text": [
      "\n",
      " 18%|█▊        | 39/220 [00:43<03:32,  1.18s/it]\u001b[A"
     ]
    },
    {
     "name": "stdout",
     "output_type": "stream",
     "text": [
      "False\n"
     ]
    },
    {
     "name": "stderr",
     "output_type": "stream",
     "text": [
      "\n",
      " 18%|█▊        | 40/220 [00:45<03:37,  1.21s/it]\u001b[A"
     ]
    },
    {
     "name": "stdout",
     "output_type": "stream",
     "text": [
      "False\n"
     ]
    },
    {
     "name": "stderr",
     "output_type": "stream",
     "text": [
      "\n",
      " 19%|█▊        | 41/220 [00:46<03:30,  1.18s/it]\u001b[A"
     ]
    },
    {
     "name": "stdout",
     "output_type": "stream",
     "text": [
      "False\n"
     ]
    },
    {
     "name": "stderr",
     "output_type": "stream",
     "text": [
      "\n",
      " 19%|█▉        | 42/220 [00:47<03:27,  1.16s/it]\u001b[A"
     ]
    },
    {
     "name": "stdout",
     "output_type": "stream",
     "text": [
      "False\n"
     ]
    },
    {
     "name": "stderr",
     "output_type": "stream",
     "text": [
      "\n",
      " 20%|█▉        | 43/220 [00:48<03:24,  1.15s/it]\u001b[A"
     ]
    },
    {
     "name": "stdout",
     "output_type": "stream",
     "text": [
      "False\n"
     ]
    },
    {
     "name": "stderr",
     "output_type": "stream",
     "text": [
      "\n",
      " 20%|██        | 44/220 [00:49<03:19,  1.14s/it]\u001b[A"
     ]
    },
    {
     "name": "stdout",
     "output_type": "stream",
     "text": [
      "False\n"
     ]
    },
    {
     "name": "stderr",
     "output_type": "stream",
     "text": [
      "\n",
      " 20%|██        | 45/220 [00:50<03:15,  1.11s/it]\u001b[A"
     ]
    },
    {
     "name": "stdout",
     "output_type": "stream",
     "text": [
      "False\n"
     ]
    },
    {
     "name": "stderr",
     "output_type": "stream",
     "text": [
      "\n",
      " 21%|██        | 46/220 [00:52<03:56,  1.36s/it]\u001b[A"
     ]
    },
    {
     "name": "stdout",
     "output_type": "stream",
     "text": [
      "False\n"
     ]
    },
    {
     "name": "stderr",
     "output_type": "stream",
     "text": [
      "\n",
      " 21%|██▏       | 47/220 [00:53<03:46,  1.31s/it]\u001b[A"
     ]
    },
    {
     "name": "stdout",
     "output_type": "stream",
     "text": [
      "False\n"
     ]
    },
    {
     "name": "stderr",
     "output_type": "stream",
     "text": [
      "\n",
      " 22%|██▏       | 48/220 [00:55<03:53,  1.36s/it]\u001b[A"
     ]
    },
    {
     "name": "stdout",
     "output_type": "stream",
     "text": [
      "False\n"
     ]
    },
    {
     "name": "stderr",
     "output_type": "stream",
     "text": [
      "\n",
      " 22%|██▏       | 49/220 [00:56<04:01,  1.41s/it]\u001b[A"
     ]
    },
    {
     "name": "stdout",
     "output_type": "stream",
     "text": [
      "False\n"
     ]
    },
    {
     "name": "stderr",
     "output_type": "stream",
     "text": [
      "\n",
      " 23%|██▎       | 50/220 [00:57<03:45,  1.33s/it]\u001b[A"
     ]
    },
    {
     "name": "stdout",
     "output_type": "stream",
     "text": [
      "False\n"
     ]
    },
    {
     "name": "stderr",
     "output_type": "stream",
     "text": [
      "\n",
      " 23%|██▎       | 51/220 [00:59<03:33,  1.26s/it]\u001b[A"
     ]
    },
    {
     "name": "stdout",
     "output_type": "stream",
     "text": [
      "False\n"
     ]
    },
    {
     "name": "stderr",
     "output_type": "stream",
     "text": [
      "\n",
      " 24%|██▎       | 52/220 [01:00<03:23,  1.21s/it]\u001b[A"
     ]
    },
    {
     "name": "stdout",
     "output_type": "stream",
     "text": [
      "False\n"
     ]
    },
    {
     "name": "stderr",
     "output_type": "stream",
     "text": [
      "\n",
      " 24%|██▍       | 53/220 [01:01<03:15,  1.17s/it]\u001b[A"
     ]
    },
    {
     "name": "stdout",
     "output_type": "stream",
     "text": [
      "False\n"
     ]
    },
    {
     "name": "stderr",
     "output_type": "stream",
     "text": [
      "\n",
      " 25%|██▍       | 54/220 [01:02<03:11,  1.15s/it]\u001b[A"
     ]
    },
    {
     "name": "stdout",
     "output_type": "stream",
     "text": [
      "False\n"
     ]
    },
    {
     "name": "stderr",
     "output_type": "stream",
     "text": [
      "\n",
      " 25%|██▌       | 55/220 [01:03<03:07,  1.14s/it]\u001b[A"
     ]
    },
    {
     "name": "stdout",
     "output_type": "stream",
     "text": [
      "False\n"
     ]
    },
    {
     "name": "stderr",
     "output_type": "stream",
     "text": [
      "\n",
      " 25%|██▌       | 56/220 [01:04<03:04,  1.12s/it]\u001b[A"
     ]
    },
    {
     "name": "stdout",
     "output_type": "stream",
     "text": [
      "False\n"
     ]
    },
    {
     "name": "stderr",
     "output_type": "stream",
     "text": [
      "\n",
      " 26%|██▌       | 57/220 [01:05<03:12,  1.18s/it]\u001b[A"
     ]
    },
    {
     "name": "stdout",
     "output_type": "stream",
     "text": [
      "False\n"
     ]
    },
    {
     "name": "stderr",
     "output_type": "stream",
     "text": [
      "\n",
      " 26%|██▋       | 58/220 [01:07<03:08,  1.16s/it]\u001b[A"
     ]
    },
    {
     "name": "stdout",
     "output_type": "stream",
     "text": [
      "False\n"
     ]
    },
    {
     "name": "stderr",
     "output_type": "stream",
     "text": [
      "\n",
      " 27%|██▋       | 59/220 [01:08<03:03,  1.14s/it]\u001b[A"
     ]
    },
    {
     "name": "stdout",
     "output_type": "stream",
     "text": [
      "False\n"
     ]
    },
    {
     "name": "stderr",
     "output_type": "stream",
     "text": [
      "\n",
      " 27%|██▋       | 60/220 [01:09<02:58,  1.11s/it]\u001b[A"
     ]
    },
    {
     "name": "stdout",
     "output_type": "stream",
     "text": [
      "False\n"
     ]
    },
    {
     "name": "stderr",
     "output_type": "stream",
     "text": [
      "\n",
      " 28%|██▊       | 61/220 [01:10<02:55,  1.10s/it]\u001b[A"
     ]
    },
    {
     "name": "stdout",
     "output_type": "stream",
     "text": [
      "False\n"
     ]
    },
    {
     "name": "stderr",
     "output_type": "stream",
     "text": [
      "\n",
      " 28%|██▊       | 62/220 [01:11<02:51,  1.09s/it]\u001b[A"
     ]
    },
    {
     "name": "stdout",
     "output_type": "stream",
     "text": [
      "False\n"
     ]
    },
    {
     "name": "stderr",
     "output_type": "stream",
     "text": [
      "\n",
      " 29%|██▊       | 63/220 [01:12<02:52,  1.10s/it]\u001b[A"
     ]
    },
    {
     "name": "stdout",
     "output_type": "stream",
     "text": [
      "False\n"
     ]
    },
    {
     "name": "stderr",
     "output_type": "stream",
     "text": [
      "\n",
      " 29%|██▉       | 64/220 [01:13<03:00,  1.16s/it]\u001b[A"
     ]
    },
    {
     "name": "stdout",
     "output_type": "stream",
     "text": [
      "False\n"
     ]
    },
    {
     "name": "stderr",
     "output_type": "stream",
     "text": [
      "\n",
      " 30%|██▉       | 65/220 [01:14<02:56,  1.14s/it]\u001b[A"
     ]
    },
    {
     "name": "stdout",
     "output_type": "stream",
     "text": [
      "False\n"
     ]
    },
    {
     "name": "stderr",
     "output_type": "stream",
     "text": [
      "\n",
      " 30%|███       | 66/220 [01:15<02:52,  1.12s/it]\u001b[A"
     ]
    },
    {
     "name": "stdout",
     "output_type": "stream",
     "text": [
      "False\n"
     ]
    },
    {
     "name": "stderr",
     "output_type": "stream",
     "text": [
      "\n",
      " 30%|███       | 67/220 [01:16<02:49,  1.11s/it]\u001b[A"
     ]
    },
    {
     "name": "stdout",
     "output_type": "stream",
     "text": [
      "False\n"
     ]
    },
    {
     "name": "stderr",
     "output_type": "stream",
     "text": [
      "\n",
      " 31%|███       | 68/220 [01:18<02:46,  1.10s/it]\u001b[A"
     ]
    },
    {
     "name": "stdout",
     "output_type": "stream",
     "text": [
      "False\n"
     ]
    },
    {
     "name": "stderr",
     "output_type": "stream",
     "text": [
      "\n",
      " 31%|███▏      | 69/220 [01:19<02:44,  1.09s/it]\u001b[A"
     ]
    },
    {
     "name": "stdout",
     "output_type": "stream",
     "text": [
      "False\n"
     ]
    },
    {
     "name": "stderr",
     "output_type": "stream",
     "text": [
      "\n",
      " 32%|███▏      | 70/220 [01:20<02:42,  1.08s/it]\u001b[A"
     ]
    },
    {
     "name": "stdout",
     "output_type": "stream",
     "text": [
      "False\n"
     ]
    },
    {
     "name": "stderr",
     "output_type": "stream",
     "text": [
      "\n",
      " 32%|███▏      | 71/220 [01:21<02:41,  1.08s/it]\u001b[A"
     ]
    },
    {
     "name": "stdout",
     "output_type": "stream",
     "text": [
      "False\n"
     ]
    },
    {
     "name": "stderr",
     "output_type": "stream",
     "text": [
      "\n",
      " 33%|███▎      | 72/220 [01:22<02:43,  1.11s/it]\u001b[A"
     ]
    },
    {
     "name": "stdout",
     "output_type": "stream",
     "text": [
      "False\n"
     ]
    },
    {
     "name": "stderr",
     "output_type": "stream",
     "text": [
      "\n",
      " 33%|███▎      | 73/220 [01:23<02:41,  1.10s/it]\u001b[A"
     ]
    },
    {
     "name": "stdout",
     "output_type": "stream",
     "text": [
      "False\n"
     ]
    },
    {
     "name": "stderr",
     "output_type": "stream",
     "text": [
      "\n",
      " 34%|███▎      | 74/220 [01:24<02:40,  1.10s/it]\u001b[A"
     ]
    },
    {
     "name": "stdout",
     "output_type": "stream",
     "text": [
      "False\n"
     ]
    },
    {
     "name": "stderr",
     "output_type": "stream",
     "text": [
      "\n",
      " 34%|███▍      | 75/220 [01:25<02:40,  1.11s/it]\u001b[A"
     ]
    },
    {
     "name": "stdout",
     "output_type": "stream",
     "text": [
      "False\n"
     ]
    },
    {
     "name": "stderr",
     "output_type": "stream",
     "text": [
      "\n",
      " 35%|███▍      | 76/220 [01:26<02:38,  1.10s/it]\u001b[A"
     ]
    },
    {
     "name": "stdout",
     "output_type": "stream",
     "text": [
      "False\n"
     ]
    },
    {
     "name": "stderr",
     "output_type": "stream",
     "text": [
      "\n",
      " 35%|███▌      | 77/220 [01:27<02:37,  1.10s/it]\u001b[A"
     ]
    },
    {
     "name": "stdout",
     "output_type": "stream",
     "text": [
      "False\n"
     ]
    },
    {
     "name": "stderr",
     "output_type": "stream",
     "text": [
      "\n",
      " 35%|███▌      | 78/220 [01:28<02:32,  1.07s/it]\u001b[A"
     ]
    },
    {
     "name": "stdout",
     "output_type": "stream",
     "text": [
      "False\n"
     ]
    },
    {
     "name": "stderr",
     "output_type": "stream",
     "text": [
      "\n",
      " 36%|███▌      | 79/220 [01:29<02:29,  1.06s/it]\u001b[A"
     ]
    },
    {
     "name": "stdout",
     "output_type": "stream",
     "text": [
      "False\n"
     ]
    },
    {
     "name": "stderr",
     "output_type": "stream",
     "text": [
      "\n",
      " 36%|███▋      | 80/220 [01:30<02:27,  1.05s/it]\u001b[A"
     ]
    },
    {
     "name": "stdout",
     "output_type": "stream",
     "text": [
      "False\n"
     ]
    },
    {
     "name": "stderr",
     "output_type": "stream",
     "text": [
      "\n",
      " 37%|███▋      | 81/220 [01:32<02:26,  1.06s/it]\u001b[A"
     ]
    },
    {
     "name": "stdout",
     "output_type": "stream",
     "text": [
      "False\n"
     ]
    },
    {
     "name": "stderr",
     "output_type": "stream",
     "text": [
      "\n",
      " 37%|███▋      | 82/220 [01:33<02:24,  1.05s/it]\u001b[A"
     ]
    },
    {
     "name": "stdout",
     "output_type": "stream",
     "text": [
      "False\n"
     ]
    },
    {
     "name": "stderr",
     "output_type": "stream",
     "text": [
      "\n",
      " 38%|███▊      | 83/220 [01:34<02:23,  1.05s/it]\u001b[A"
     ]
    },
    {
     "name": "stdout",
     "output_type": "stream",
     "text": [
      "False\n"
     ]
    },
    {
     "name": "stderr",
     "output_type": "stream",
     "text": [
      "\n",
      " 38%|███▊      | 84/220 [01:35<02:20,  1.03s/it]\u001b[A"
     ]
    },
    {
     "name": "stdout",
     "output_type": "stream",
     "text": [
      "False\n"
     ]
    },
    {
     "name": "stderr",
     "output_type": "stream",
     "text": [
      "\n",
      " 39%|███▊      | 85/220 [01:36<02:20,  1.04s/it]\u001b[A"
     ]
    },
    {
     "name": "stdout",
     "output_type": "stream",
     "text": [
      "False\n"
     ]
    },
    {
     "name": "stderr",
     "output_type": "stream",
     "text": [
      "\n",
      " 39%|███▉      | 86/220 [01:37<02:19,  1.04s/it]\u001b[A"
     ]
    },
    {
     "name": "stdout",
     "output_type": "stream",
     "text": [
      "False\n"
     ]
    },
    {
     "name": "stderr",
     "output_type": "stream",
     "text": [
      "\n",
      " 40%|███▉      | 87/220 [01:38<02:25,  1.09s/it]\u001b[A"
     ]
    },
    {
     "name": "stdout",
     "output_type": "stream",
     "text": [
      "False\n"
     ]
    },
    {
     "name": "stderr",
     "output_type": "stream",
     "text": [
      "\n",
      " 40%|████      | 88/220 [01:39<02:34,  1.17s/it]\u001b[A"
     ]
    },
    {
     "name": "stdout",
     "output_type": "stream",
     "text": [
      "False\n"
     ]
    },
    {
     "name": "stderr",
     "output_type": "stream",
     "text": [
      "\n",
      " 40%|████      | 89/220 [01:40<02:31,  1.16s/it]\u001b[A"
     ]
    },
    {
     "name": "stdout",
     "output_type": "stream",
     "text": [
      "False\n"
     ]
    },
    {
     "name": "stderr",
     "output_type": "stream",
     "text": [
      "\n",
      " 41%|████      | 90/220 [01:41<02:25,  1.12s/it]\u001b[A"
     ]
    },
    {
     "name": "stdout",
     "output_type": "stream",
     "text": [
      "False\n"
     ]
    },
    {
     "name": "stderr",
     "output_type": "stream",
     "text": [
      "\n",
      " 41%|████▏     | 91/220 [01:42<02:19,  1.08s/it]\u001b[A"
     ]
    },
    {
     "name": "stdout",
     "output_type": "stream",
     "text": [
      "False\n"
     ]
    },
    {
     "name": "stderr",
     "output_type": "stream",
     "text": [
      "\n",
      " 42%|████▏     | 92/220 [01:43<02:16,  1.07s/it]\u001b[A"
     ]
    },
    {
     "name": "stdout",
     "output_type": "stream",
     "text": [
      "False\n"
     ]
    },
    {
     "name": "stderr",
     "output_type": "stream",
     "text": [
      "\n",
      " 42%|████▏     | 93/220 [01:44<02:13,  1.05s/it]\u001b[A"
     ]
    },
    {
     "name": "stdout",
     "output_type": "stream",
     "text": [
      "False\n"
     ]
    },
    {
     "name": "stderr",
     "output_type": "stream",
     "text": [
      "\n",
      " 43%|████▎     | 94/220 [01:46<02:12,  1.05s/it]\u001b[A"
     ]
    },
    {
     "name": "stdout",
     "output_type": "stream",
     "text": [
      "False\n"
     ]
    },
    {
     "name": "stderr",
     "output_type": "stream",
     "text": [
      "\n",
      " 43%|████▎     | 95/220 [01:47<02:10,  1.05s/it]\u001b[A"
     ]
    },
    {
     "name": "stdout",
     "output_type": "stream",
     "text": [
      "False\n"
     ]
    },
    {
     "name": "stderr",
     "output_type": "stream",
     "text": [
      "\n",
      " 44%|████▎     | 96/220 [01:48<02:09,  1.05s/it]\u001b[A"
     ]
    },
    {
     "name": "stdout",
     "output_type": "stream",
     "text": [
      "False\n"
     ]
    },
    {
     "name": "stderr",
     "output_type": "stream",
     "text": [
      "\n",
      " 44%|████▍     | 97/220 [01:49<02:08,  1.05s/it]\u001b[A"
     ]
    },
    {
     "name": "stdout",
     "output_type": "stream",
     "text": [
      "False\n"
     ]
    },
    {
     "name": "stderr",
     "output_type": "stream",
     "text": [
      "\n",
      " 45%|████▍     | 98/220 [01:50<02:06,  1.04s/it]\u001b[A"
     ]
    },
    {
     "name": "stdout",
     "output_type": "stream",
     "text": [
      "False\n"
     ]
    },
    {
     "name": "stderr",
     "output_type": "stream",
     "text": [
      "\n",
      " 45%|████▌     | 99/220 [01:51<02:04,  1.03s/it]\u001b[A"
     ]
    },
    {
     "name": "stdout",
     "output_type": "stream",
     "text": [
      "False\n"
     ]
    },
    {
     "name": "stderr",
     "output_type": "stream",
     "text": [
      "\n",
      " 45%|████▌     | 100/220 [01:52<02:04,  1.04s/it]\u001b[A"
     ]
    },
    {
     "name": "stdout",
     "output_type": "stream",
     "text": [
      "False\n"
     ]
    },
    {
     "name": "stderr",
     "output_type": "stream",
     "text": [
      "\n",
      " 46%|████▌     | 101/220 [01:53<02:02,  1.03s/it]\u001b[A"
     ]
    },
    {
     "name": "stdout",
     "output_type": "stream",
     "text": [
      "False\n"
     ]
    },
    {
     "name": "stderr",
     "output_type": "stream",
     "text": [
      "\n",
      " 46%|████▋     | 102/220 [01:54<02:01,  1.03s/it]\u001b[A"
     ]
    },
    {
     "name": "stdout",
     "output_type": "stream",
     "text": [
      "False\n"
     ]
    },
    {
     "name": "stderr",
     "output_type": "stream",
     "text": [
      "\n",
      " 47%|████▋     | 103/220 [01:55<01:59,  1.02s/it]\u001b[A"
     ]
    },
    {
     "name": "stdout",
     "output_type": "stream",
     "text": [
      "False\n"
     ]
    },
    {
     "name": "stderr",
     "output_type": "stream",
     "text": [
      "\n",
      " 47%|████▋     | 104/220 [01:56<01:59,  1.03s/it]\u001b[A"
     ]
    },
    {
     "name": "stdout",
     "output_type": "stream",
     "text": [
      "False\n"
     ]
    },
    {
     "name": "stderr",
     "output_type": "stream",
     "text": [
      "\n",
      " 48%|████▊     | 105/220 [01:57<01:57,  1.02s/it]\u001b[A"
     ]
    },
    {
     "name": "stdout",
     "output_type": "stream",
     "text": [
      "False\n"
     ]
    },
    {
     "name": "stderr",
     "output_type": "stream",
     "text": [
      "\n",
      " 48%|████▊     | 106/220 [01:58<01:57,  1.03s/it]\u001b[A"
     ]
    },
    {
     "name": "stdout",
     "output_type": "stream",
     "text": [
      "False\n"
     ]
    },
    {
     "name": "stderr",
     "output_type": "stream",
     "text": [
      "\n",
      " 49%|████▊     | 107/220 [01:59<02:02,  1.08s/it]\u001b[A"
     ]
    },
    {
     "name": "stdout",
     "output_type": "stream",
     "text": [
      "False\n"
     ]
    },
    {
     "name": "stderr",
     "output_type": "stream",
     "text": [
      "\n",
      " 49%|████▉     | 108/220 [02:00<02:04,  1.11s/it]\u001b[A"
     ]
    },
    {
     "name": "stdout",
     "output_type": "stream",
     "text": [
      "False\n"
     ]
    },
    {
     "name": "stderr",
     "output_type": "stream",
     "text": [
      "\n",
      " 50%|████▉     | 109/220 [02:02<02:08,  1.16s/it]\u001b[A"
     ]
    },
    {
     "name": "stdout",
     "output_type": "stream",
     "text": [
      "False\n"
     ]
    },
    {
     "name": "stderr",
     "output_type": "stream",
     "text": [
      "\n",
      " 50%|█████     | 110/220 [02:03<02:13,  1.21s/it]\u001b[A"
     ]
    },
    {
     "name": "stdout",
     "output_type": "stream",
     "text": [
      "False\n"
     ]
    },
    {
     "name": "stderr",
     "output_type": "stream",
     "text": [
      "\n",
      " 50%|█████     | 111/220 [02:04<02:13,  1.22s/it]\u001b[A"
     ]
    },
    {
     "name": "stdout",
     "output_type": "stream",
     "text": [
      "False\n"
     ]
    },
    {
     "name": "stderr",
     "output_type": "stream",
     "text": [
      "\n",
      " 51%|█████     | 112/220 [02:05<02:11,  1.22s/it]\u001b[A"
     ]
    },
    {
     "name": "stdout",
     "output_type": "stream",
     "text": [
      "False\n"
     ]
    },
    {
     "name": "stderr",
     "output_type": "stream",
     "text": [
      "\n",
      " 51%|█████▏    | 113/220 [02:06<02:08,  1.20s/it]\u001b[A"
     ]
    },
    {
     "name": "stdout",
     "output_type": "stream",
     "text": [
      "False\n"
     ]
    },
    {
     "name": "stderr",
     "output_type": "stream",
     "text": [
      "\n",
      " 52%|█████▏    | 114/220 [02:08<02:03,  1.16s/it]\u001b[A"
     ]
    },
    {
     "name": "stdout",
     "output_type": "stream",
     "text": [
      "False\n"
     ]
    },
    {
     "name": "stderr",
     "output_type": "stream",
     "text": [
      "\n",
      " 52%|█████▏    | 115/220 [02:09<01:59,  1.13s/it]\u001b[A"
     ]
    },
    {
     "name": "stdout",
     "output_type": "stream",
     "text": [
      "False\n"
     ]
    },
    {
     "name": "stderr",
     "output_type": "stream",
     "text": [
      "\n",
      " 53%|█████▎    | 116/220 [02:10<01:55,  1.11s/it]\u001b[A"
     ]
    },
    {
     "name": "stdout",
     "output_type": "stream",
     "text": [
      "False\n"
     ]
    },
    {
     "name": "stderr",
     "output_type": "stream",
     "text": [
      "\n",
      " 53%|█████▎    | 117/220 [02:11<01:53,  1.10s/it]\u001b[A"
     ]
    },
    {
     "name": "stdout",
     "output_type": "stream",
     "text": [
      "False\n"
     ]
    },
    {
     "name": "stderr",
     "output_type": "stream",
     "text": [
      "\n",
      " 54%|█████▎    | 118/220 [02:12<01:49,  1.07s/it]\u001b[A"
     ]
    },
    {
     "name": "stdout",
     "output_type": "stream",
     "text": [
      "False\n"
     ]
    },
    {
     "name": "stderr",
     "output_type": "stream",
     "text": [
      "\n",
      " 54%|█████▍    | 119/220 [02:13<01:47,  1.07s/it]\u001b[A"
     ]
    },
    {
     "name": "stdout",
     "output_type": "stream",
     "text": [
      "False\n"
     ]
    },
    {
     "name": "stderr",
     "output_type": "stream",
     "text": [
      "\n",
      " 55%|█████▍    | 120/220 [02:14<01:48,  1.08s/it]\u001b[A"
     ]
    },
    {
     "name": "stdout",
     "output_type": "stream",
     "text": [
      "False\n"
     ]
    },
    {
     "name": "stderr",
     "output_type": "stream",
     "text": [
      "\n",
      " 55%|█████▌    | 121/220 [02:15<01:47,  1.09s/it]\u001b[A"
     ]
    },
    {
     "name": "stdout",
     "output_type": "stream",
     "text": [
      "False\n"
     ]
    },
    {
     "name": "stderr",
     "output_type": "stream",
     "text": [
      "\n",
      " 55%|█████▌    | 122/220 [02:16<01:49,  1.12s/it]\u001b[A"
     ]
    },
    {
     "name": "stdout",
     "output_type": "stream",
     "text": [
      "False\n"
     ]
    },
    {
     "name": "stderr",
     "output_type": "stream",
     "text": [
      "\n",
      " 56%|█████▌    | 123/220 [02:17<01:51,  1.15s/it]\u001b[A"
     ]
    },
    {
     "name": "stdout",
     "output_type": "stream",
     "text": [
      "False\n"
     ]
    },
    {
     "name": "stderr",
     "output_type": "stream",
     "text": [
      "\n",
      " 56%|█████▋    | 124/220 [02:19<01:50,  1.16s/it]\u001b[A"
     ]
    },
    {
     "name": "stdout",
     "output_type": "stream",
     "text": [
      "False\n"
     ]
    },
    {
     "name": "stderr",
     "output_type": "stream",
     "text": [
      "\n",
      " 57%|█████▋    | 125/220 [02:20<01:51,  1.18s/it]\u001b[A"
     ]
    },
    {
     "name": "stdout",
     "output_type": "stream",
     "text": [
      "False\n"
     ]
    },
    {
     "name": "stderr",
     "output_type": "stream",
     "text": [
      "\n",
      " 57%|█████▋    | 126/220 [02:21<01:50,  1.18s/it]\u001b[A"
     ]
    },
    {
     "name": "stdout",
     "output_type": "stream",
     "text": [
      "False\n"
     ]
    },
    {
     "name": "stderr",
     "output_type": "stream",
     "text": [
      "\n",
      " 58%|█████▊    | 127/220 [02:22<01:45,  1.14s/it]\u001b[A"
     ]
    },
    {
     "name": "stdout",
     "output_type": "stream",
     "text": [
      "False\n"
     ]
    },
    {
     "name": "stderr",
     "output_type": "stream",
     "text": [
      "\n",
      " 58%|█████▊    | 128/220 [02:23<01:41,  1.10s/it]\u001b[A"
     ]
    },
    {
     "name": "stdout",
     "output_type": "stream",
     "text": [
      "False\n"
     ]
    },
    {
     "name": "stderr",
     "output_type": "stream",
     "text": [
      "\n",
      " 59%|█████▊    | 129/220 [02:24<01:37,  1.07s/it]\u001b[A"
     ]
    },
    {
     "name": "stdout",
     "output_type": "stream",
     "text": [
      "False\n"
     ]
    },
    {
     "name": "stderr",
     "output_type": "stream",
     "text": [
      "\n",
      " 59%|█████▉    | 130/220 [02:25<01:35,  1.06s/it]\u001b[A"
     ]
    },
    {
     "name": "stdout",
     "output_type": "stream",
     "text": [
      "False\n"
     ]
    },
    {
     "name": "stderr",
     "output_type": "stream",
     "text": [
      "\n",
      " 60%|█████▉    | 131/220 [02:26<01:33,  1.05s/it]\u001b[A"
     ]
    },
    {
     "name": "stdout",
     "output_type": "stream",
     "text": [
      "False\n"
     ]
    },
    {
     "name": "stderr",
     "output_type": "stream",
     "text": [
      "\n",
      " 60%|██████    | 132/220 [02:27<01:31,  1.04s/it]\u001b[A"
     ]
    },
    {
     "name": "stdout",
     "output_type": "stream",
     "text": [
      "False\n"
     ]
    },
    {
     "name": "stderr",
     "output_type": "stream",
     "text": [
      "\n",
      " 60%|██████    | 133/220 [02:28<01:30,  1.04s/it]\u001b[A"
     ]
    },
    {
     "name": "stdout",
     "output_type": "stream",
     "text": [
      "False\n"
     ]
    },
    {
     "name": "stderr",
     "output_type": "stream",
     "text": [
      "\n",
      " 61%|██████    | 134/220 [02:29<01:28,  1.03s/it]\u001b[A"
     ]
    },
    {
     "name": "stdout",
     "output_type": "stream",
     "text": [
      "False\n"
     ]
    },
    {
     "name": "stderr",
     "output_type": "stream",
     "text": [
      "\n",
      " 61%|██████▏   | 135/220 [02:30<01:27,  1.02s/it]\u001b[A"
     ]
    },
    {
     "name": "stdout",
     "output_type": "stream",
     "text": [
      "False\n"
     ]
    },
    {
     "name": "stderr",
     "output_type": "stream",
     "text": [
      "\n",
      " 62%|██████▏   | 136/220 [02:31<01:25,  1.02s/it]\u001b[A"
     ]
    },
    {
     "name": "stdout",
     "output_type": "stream",
     "text": [
      "False\n"
     ]
    },
    {
     "name": "stderr",
     "output_type": "stream",
     "text": [
      "\n",
      " 62%|██████▏   | 137/220 [02:32<01:24,  1.02s/it]\u001b[A"
     ]
    },
    {
     "name": "stdout",
     "output_type": "stream",
     "text": [
      "False\n"
     ]
    },
    {
     "name": "stderr",
     "output_type": "stream",
     "text": [
      "\n",
      " 63%|██████▎   | 138/220 [02:33<01:23,  1.02s/it]\u001b[A"
     ]
    },
    {
     "name": "stdout",
     "output_type": "stream",
     "text": [
      "False\n"
     ]
    },
    {
     "name": "stderr",
     "output_type": "stream",
     "text": [
      "\n",
      " 63%|██████▎   | 139/220 [02:34<01:22,  1.02s/it]\u001b[A"
     ]
    },
    {
     "name": "stdout",
     "output_type": "stream",
     "text": [
      "False\n"
     ]
    },
    {
     "name": "stderr",
     "output_type": "stream",
     "text": [
      "\n",
      " 64%|██████▎   | 140/220 [02:35<01:21,  1.02s/it]\u001b[A"
     ]
    },
    {
     "name": "stdout",
     "output_type": "stream",
     "text": [
      "False\n"
     ]
    },
    {
     "name": "stderr",
     "output_type": "stream",
     "text": [
      "\n",
      " 64%|██████▍   | 141/220 [02:36<01:20,  1.02s/it]\u001b[A"
     ]
    },
    {
     "name": "stdout",
     "output_type": "stream",
     "text": [
      "False\n"
     ]
    },
    {
     "name": "stderr",
     "output_type": "stream",
     "text": [
      "\n",
      " 65%|██████▍   | 142/220 [02:37<01:19,  1.02s/it]\u001b[A"
     ]
    },
    {
     "name": "stdout",
     "output_type": "stream",
     "text": [
      "False\n"
     ]
    },
    {
     "name": "stderr",
     "output_type": "stream",
     "text": [
      "\n",
      " 65%|██████▌   | 143/220 [02:38<01:18,  1.02s/it]\u001b[A"
     ]
    },
    {
     "name": "stdout",
     "output_type": "stream",
     "text": [
      "False\n"
     ]
    },
    {
     "name": "stderr",
     "output_type": "stream",
     "text": [
      "\n",
      " 65%|██████▌   | 144/220 [02:39<01:18,  1.03s/it]\u001b[A"
     ]
    },
    {
     "name": "stdout",
     "output_type": "stream",
     "text": [
      "False\n"
     ]
    },
    {
     "name": "stderr",
     "output_type": "stream",
     "text": [
      "\n",
      " 66%|██████▌   | 145/220 [02:41<01:21,  1.08s/it]\u001b[A"
     ]
    },
    {
     "name": "stdout",
     "output_type": "stream",
     "text": [
      "False\n"
     ]
    },
    {
     "name": "stderr",
     "output_type": "stream",
     "text": [
      "\n",
      " 66%|██████▋   | 146/220 [02:42<01:21,  1.10s/it]\u001b[A"
     ]
    },
    {
     "name": "stdout",
     "output_type": "stream",
     "text": [
      "False\n"
     ]
    },
    {
     "name": "stderr",
     "output_type": "stream",
     "text": [
      "\n",
      " 67%|██████▋   | 147/220 [02:43<01:20,  1.10s/it]\u001b[A"
     ]
    },
    {
     "name": "stdout",
     "output_type": "stream",
     "text": [
      "False\n"
     ]
    },
    {
     "name": "stderr",
     "output_type": "stream",
     "text": [
      "\n",
      " 67%|██████▋   | 148/220 [02:44<01:21,  1.13s/it]\u001b[A"
     ]
    },
    {
     "name": "stdout",
     "output_type": "stream",
     "text": [
      "False\n"
     ]
    },
    {
     "name": "stderr",
     "output_type": "stream",
     "text": [
      "\n",
      " 68%|██████▊   | 149/220 [02:45<01:21,  1.15s/it]\u001b[A"
     ]
    },
    {
     "name": "stdout",
     "output_type": "stream",
     "text": [
      "False\n"
     ]
    },
    {
     "name": "stderr",
     "output_type": "stream",
     "text": [
      "\n",
      " 68%|██████▊   | 150/220 [02:46<01:20,  1.15s/it]\u001b[A"
     ]
    },
    {
     "name": "stdout",
     "output_type": "stream",
     "text": [
      "False\n"
     ]
    },
    {
     "name": "stderr",
     "output_type": "stream",
     "text": [
      "\n",
      " 69%|██████▊   | 151/220 [02:48<01:23,  1.20s/it]\u001b[A"
     ]
    },
    {
     "name": "stdout",
     "output_type": "stream",
     "text": [
      "False\n"
     ]
    },
    {
     "name": "stderr",
     "output_type": "stream",
     "text": [
      "\n",
      " 69%|██████▉   | 152/220 [02:49<01:24,  1.25s/it]\u001b[A"
     ]
    },
    {
     "name": "stdout",
     "output_type": "stream",
     "text": [
      "False\n"
     ]
    },
    {
     "name": "stderr",
     "output_type": "stream",
     "text": [
      "\n",
      " 70%|██████▉   | 153/220 [02:50<01:21,  1.22s/it]\u001b[A"
     ]
    },
    {
     "name": "stdout",
     "output_type": "stream",
     "text": [
      "False\n"
     ]
    },
    {
     "name": "stderr",
     "output_type": "stream",
     "text": [
      "\n",
      " 70%|███████   | 154/220 [02:51<01:18,  1.19s/it]\u001b[A"
     ]
    },
    {
     "name": "stdout",
     "output_type": "stream",
     "text": [
      "False\n"
     ]
    },
    {
     "name": "stderr",
     "output_type": "stream",
     "text": [
      "\n",
      " 70%|███████   | 155/220 [02:52<01:15,  1.16s/it]\u001b[A"
     ]
    },
    {
     "name": "stdout",
     "output_type": "stream",
     "text": [
      "False\n"
     ]
    },
    {
     "name": "stderr",
     "output_type": "stream",
     "text": [
      "\n",
      " 71%|███████   | 156/220 [02:54<01:16,  1.19s/it]\u001b[A"
     ]
    },
    {
     "name": "stdout",
     "output_type": "stream",
     "text": [
      "False\n"
     ]
    },
    {
     "name": "stderr",
     "output_type": "stream",
     "text": [
      "\n",
      " 71%|███████▏  | 157/220 [02:55<01:14,  1.19s/it]\u001b[A"
     ]
    },
    {
     "name": "stdout",
     "output_type": "stream",
     "text": [
      "False\n"
     ]
    },
    {
     "name": "stderr",
     "output_type": "stream",
     "text": [
      "\n",
      " 72%|███████▏  | 158/220 [02:56<01:12,  1.18s/it]\u001b[A"
     ]
    },
    {
     "name": "stdout",
     "output_type": "stream",
     "text": [
      "False\n"
     ]
    },
    {
     "name": "stderr",
     "output_type": "stream",
     "text": [
      "\n",
      " 72%|███████▏  | 159/220 [02:57<01:10,  1.16s/it]\u001b[A"
     ]
    },
    {
     "name": "stdout",
     "output_type": "stream",
     "text": [
      "False\n"
     ]
    },
    {
     "name": "stderr",
     "output_type": "stream",
     "text": [
      "\n",
      " 73%|███████▎  | 160/220 [02:58<01:10,  1.17s/it]\u001b[A"
     ]
    },
    {
     "name": "stdout",
     "output_type": "stream",
     "text": [
      "False\n"
     ]
    },
    {
     "name": "stderr",
     "output_type": "stream",
     "text": [
      "\n",
      " 73%|███████▎  | 161/220 [03:00<01:09,  1.18s/it]\u001b[A"
     ]
    },
    {
     "name": "stdout",
     "output_type": "stream",
     "text": [
      "False\n"
     ]
    },
    {
     "name": "stderr",
     "output_type": "stream",
     "text": [
      "\n",
      " 74%|███████▎  | 162/220 [03:01<01:06,  1.14s/it]\u001b[A"
     ]
    },
    {
     "name": "stdout",
     "output_type": "stream",
     "text": [
      "False\n"
     ]
    },
    {
     "name": "stderr",
     "output_type": "stream",
     "text": [
      "\n",
      " 74%|███████▍  | 163/220 [03:02<01:03,  1.11s/it]\u001b[A"
     ]
    },
    {
     "name": "stdout",
     "output_type": "stream",
     "text": [
      "False\n"
     ]
    },
    {
     "name": "stderr",
     "output_type": "stream",
     "text": [
      "\n",
      " 75%|███████▍  | 164/220 [03:03<01:00,  1.08s/it]\u001b[A"
     ]
    },
    {
     "name": "stdout",
     "output_type": "stream",
     "text": [
      "False\n"
     ]
    },
    {
     "name": "stderr",
     "output_type": "stream",
     "text": [
      "\n",
      " 75%|███████▌  | 165/220 [03:04<00:58,  1.07s/it]\u001b[A"
     ]
    },
    {
     "name": "stdout",
     "output_type": "stream",
     "text": [
      "False\n"
     ]
    },
    {
     "name": "stderr",
     "output_type": "stream",
     "text": [
      "\n",
      " 75%|███████▌  | 166/220 [03:05<00:57,  1.06s/it]\u001b[A"
     ]
    },
    {
     "name": "stdout",
     "output_type": "stream",
     "text": [
      "False\n"
     ]
    },
    {
     "name": "stderr",
     "output_type": "stream",
     "text": [
      "\n",
      " 76%|███████▌  | 167/220 [03:06<00:55,  1.05s/it]\u001b[A"
     ]
    },
    {
     "name": "stdout",
     "output_type": "stream",
     "text": [
      "False\n"
     ]
    },
    {
     "name": "stderr",
     "output_type": "stream",
     "text": [
      "\n",
      " 76%|███████▋  | 168/220 [03:07<00:56,  1.09s/it]\u001b[A"
     ]
    },
    {
     "name": "stdout",
     "output_type": "stream",
     "text": [
      "False\n"
     ]
    },
    {
     "name": "stderr",
     "output_type": "stream",
     "text": [
      "\n",
      " 77%|███████▋  | 169/220 [03:08<00:56,  1.11s/it]\u001b[A"
     ]
    },
    {
     "name": "stdout",
     "output_type": "stream",
     "text": [
      "False\n"
     ]
    },
    {
     "name": "stderr",
     "output_type": "stream",
     "text": [
      "\n",
      " 77%|███████▋  | 170/220 [03:09<00:54,  1.09s/it]\u001b[A"
     ]
    },
    {
     "name": "stdout",
     "output_type": "stream",
     "text": [
      "False\n"
     ]
    },
    {
     "name": "stderr",
     "output_type": "stream",
     "text": [
      "\n",
      " 78%|███████▊  | 171/220 [03:10<00:53,  1.08s/it]\u001b[A"
     ]
    },
    {
     "name": "stdout",
     "output_type": "stream",
     "text": [
      "False\n"
     ]
    },
    {
     "name": "stderr",
     "output_type": "stream",
     "text": [
      "\n",
      " 78%|███████▊  | 172/220 [03:11<00:51,  1.06s/it]\u001b[A"
     ]
    },
    {
     "name": "stdout",
     "output_type": "stream",
     "text": [
      "False\n"
     ]
    },
    {
     "name": "stderr",
     "output_type": "stream",
     "text": [
      "\n",
      " 79%|███████▊  | 173/220 [03:12<00:49,  1.05s/it]\u001b[A"
     ]
    },
    {
     "name": "stdout",
     "output_type": "stream",
     "text": [
      "False\n"
     ]
    },
    {
     "name": "stderr",
     "output_type": "stream",
     "text": [
      "\n",
      " 79%|███████▉  | 174/220 [03:13<00:47,  1.04s/it]\u001b[A"
     ]
    },
    {
     "name": "stdout",
     "output_type": "stream",
     "text": [
      "False\n"
     ]
    },
    {
     "name": "stderr",
     "output_type": "stream",
     "text": [
      "\n",
      " 80%|███████▉  | 175/220 [03:14<00:46,  1.04s/it]\u001b[A"
     ]
    },
    {
     "name": "stdout",
     "output_type": "stream",
     "text": [
      "False\n"
     ]
    },
    {
     "name": "stderr",
     "output_type": "stream",
     "text": [
      "\n",
      " 80%|████████  | 176/220 [03:15<00:45,  1.04s/it]\u001b[A"
     ]
    },
    {
     "name": "stdout",
     "output_type": "stream",
     "text": [
      "False\n"
     ]
    },
    {
     "name": "stderr",
     "output_type": "stream",
     "text": [
      "\n",
      " 80%|████████  | 177/220 [03:16<00:44,  1.03s/it]\u001b[A"
     ]
    },
    {
     "name": "stdout",
     "output_type": "stream",
     "text": [
      "False\n"
     ]
    },
    {
     "name": "stderr",
     "output_type": "stream",
     "text": [
      "\n",
      " 81%|████████  | 178/220 [03:17<00:43,  1.03s/it]\u001b[A"
     ]
    },
    {
     "name": "stdout",
     "output_type": "stream",
     "text": [
      "False\n"
     ]
    },
    {
     "name": "stderr",
     "output_type": "stream",
     "text": [
      "\n",
      " 81%|████████▏ | 179/220 [03:18<00:42,  1.03s/it]\u001b[A"
     ]
    },
    {
     "name": "stdout",
     "output_type": "stream",
     "text": [
      "False\n"
     ]
    },
    {
     "name": "stderr",
     "output_type": "stream",
     "text": [
      "\n",
      " 82%|████████▏ | 180/220 [03:19<00:41,  1.03s/it]\u001b[A"
     ]
    },
    {
     "name": "stdout",
     "output_type": "stream",
     "text": [
      "False\n"
     ]
    },
    {
     "name": "stderr",
     "output_type": "stream",
     "text": [
      "\n",
      " 82%|████████▏ | 181/220 [03:20<00:40,  1.03s/it]\u001b[A"
     ]
    },
    {
     "name": "stdout",
     "output_type": "stream",
     "text": [
      "False\n"
     ]
    },
    {
     "name": "stderr",
     "output_type": "stream",
     "text": [
      "\n",
      " 83%|████████▎ | 182/220 [03:22<00:39,  1.04s/it]\u001b[A"
     ]
    },
    {
     "name": "stdout",
     "output_type": "stream",
     "text": [
      "False\n"
     ]
    },
    {
     "name": "stderr",
     "output_type": "stream",
     "text": [
      "\n",
      " 83%|████████▎ | 183/220 [03:23<00:38,  1.04s/it]\u001b[A"
     ]
    },
    {
     "name": "stdout",
     "output_type": "stream",
     "text": [
      "False\n"
     ]
    },
    {
     "name": "stderr",
     "output_type": "stream",
     "text": [
      "\n",
      " 84%|████████▎ | 184/220 [03:24<00:37,  1.04s/it]\u001b[A"
     ]
    },
    {
     "name": "stdout",
     "output_type": "stream",
     "text": [
      "False\n"
     ]
    },
    {
     "name": "stderr",
     "output_type": "stream",
     "text": [
      "\n",
      " 84%|████████▍ | 185/220 [03:25<00:36,  1.04s/it]\u001b[A"
     ]
    },
    {
     "name": "stdout",
     "output_type": "stream",
     "text": [
      "False\n"
     ]
    },
    {
     "name": "stderr",
     "output_type": "stream",
     "text": [
      "\n",
      " 85%|████████▍ | 186/220 [03:26<00:35,  1.04s/it]\u001b[A"
     ]
    },
    {
     "name": "stdout",
     "output_type": "stream",
     "text": [
      "False\n"
     ]
    },
    {
     "name": "stderr",
     "output_type": "stream",
     "text": [
      "\n",
      " 85%|████████▌ | 187/220 [03:27<00:34,  1.04s/it]\u001b[A"
     ]
    },
    {
     "name": "stdout",
     "output_type": "stream",
     "text": [
      "False\n"
     ]
    },
    {
     "name": "stderr",
     "output_type": "stream",
     "text": [
      "\n",
      " 85%|████████▌ | 188/220 [03:28<00:32,  1.03s/it]\u001b[A"
     ]
    },
    {
     "name": "stdout",
     "output_type": "stream",
     "text": [
      "False\n"
     ]
    },
    {
     "name": "stderr",
     "output_type": "stream",
     "text": [
      "\n",
      " 86%|████████▌ | 189/220 [03:29<00:31,  1.03s/it]\u001b[A"
     ]
    },
    {
     "name": "stdout",
     "output_type": "stream",
     "text": [
      "False\n"
     ]
    },
    {
     "name": "stderr",
     "output_type": "stream",
     "text": [
      "\n",
      " 86%|████████▋ | 190/220 [03:30<00:31,  1.03s/it]\u001b[A"
     ]
    },
    {
     "name": "stdout",
     "output_type": "stream",
     "text": [
      "False\n"
     ]
    },
    {
     "name": "stderr",
     "output_type": "stream",
     "text": [
      "\n",
      " 87%|████████▋ | 191/220 [03:31<00:30,  1.06s/it]\u001b[A"
     ]
    },
    {
     "name": "stdout",
     "output_type": "stream",
     "text": [
      "False\n"
     ]
    },
    {
     "name": "stderr",
     "output_type": "stream",
     "text": [
      "\n",
      " 87%|████████▋ | 192/220 [03:32<00:30,  1.08s/it]\u001b[A"
     ]
    },
    {
     "name": "stdout",
     "output_type": "stream",
     "text": [
      "False\n"
     ]
    },
    {
     "name": "stderr",
     "output_type": "stream",
     "text": [
      "\n",
      " 88%|████████▊ | 193/220 [03:33<00:29,  1.08s/it]\u001b[A"
     ]
    },
    {
     "name": "stdout",
     "output_type": "stream",
     "text": [
      "False\n"
     ]
    },
    {
     "name": "stderr",
     "output_type": "stream",
     "text": [
      "\n",
      " 88%|████████▊ | 194/220 [03:34<00:29,  1.12s/it]\u001b[A"
     ]
    },
    {
     "name": "stdout",
     "output_type": "stream",
     "text": [
      "False\n"
     ]
    },
    {
     "name": "stderr",
     "output_type": "stream",
     "text": [
      "\n",
      " 89%|████████▊ | 195/220 [03:36<00:29,  1.17s/it]\u001b[A"
     ]
    },
    {
     "name": "stdout",
     "output_type": "stream",
     "text": [
      "False\n"
     ]
    },
    {
     "name": "stderr",
     "output_type": "stream",
     "text": [
      "\n",
      " 89%|████████▉ | 196/220 [03:37<00:28,  1.17s/it]\u001b[A"
     ]
    },
    {
     "name": "stdout",
     "output_type": "stream",
     "text": [
      "False\n"
     ]
    },
    {
     "name": "stderr",
     "output_type": "stream",
     "text": [
      "\n",
      " 90%|████████▉ | 197/220 [03:38<00:27,  1.18s/it]\u001b[A"
     ]
    },
    {
     "name": "stdout",
     "output_type": "stream",
     "text": [
      "False\n"
     ]
    },
    {
     "name": "stderr",
     "output_type": "stream",
     "text": [
      "\n",
      " 90%|█████████ | 198/220 [03:39<00:25,  1.18s/it]\u001b[A"
     ]
    },
    {
     "name": "stdout",
     "output_type": "stream",
     "text": [
      "False\n"
     ]
    },
    {
     "name": "stderr",
     "output_type": "stream",
     "text": [
      "\n",
      " 90%|█████████ | 199/220 [03:40<00:24,  1.16s/it]\u001b[A"
     ]
    },
    {
     "name": "stdout",
     "output_type": "stream",
     "text": [
      "False\n"
     ]
    },
    {
     "name": "stderr",
     "output_type": "stream",
     "text": [
      "\n",
      " 91%|█████████ | 200/220 [03:42<00:24,  1.20s/it]\u001b[A"
     ]
    },
    {
     "name": "stdout",
     "output_type": "stream",
     "text": [
      "False\n"
     ]
    },
    {
     "name": "stderr",
     "output_type": "stream",
     "text": [
      "\n",
      " 91%|█████████▏| 201/220 [03:43<00:22,  1.19s/it]\u001b[A"
     ]
    },
    {
     "name": "stdout",
     "output_type": "stream",
     "text": [
      "False\n"
     ]
    },
    {
     "name": "stderr",
     "output_type": "stream",
     "text": [
      "\n",
      " 92%|█████████▏| 202/220 [03:44<00:21,  1.17s/it]\u001b[A"
     ]
    },
    {
     "name": "stdout",
     "output_type": "stream",
     "text": [
      "False\n"
     ]
    },
    {
     "name": "stderr",
     "output_type": "stream",
     "text": [
      "\n",
      " 92%|█████████▏| 203/220 [03:45<00:19,  1.13s/it]\u001b[A"
     ]
    },
    {
     "name": "stdout",
     "output_type": "stream",
     "text": [
      "False\n"
     ]
    },
    {
     "name": "stderr",
     "output_type": "stream",
     "text": [
      "\n",
      " 93%|█████████▎| 204/220 [03:46<00:17,  1.11s/it]\u001b[A"
     ]
    },
    {
     "name": "stdout",
     "output_type": "stream",
     "text": [
      "False\n"
     ]
    },
    {
     "name": "stderr",
     "output_type": "stream",
     "text": [
      "\n",
      " 93%|█████████▎| 205/220 [03:47<00:17,  1.19s/it]\u001b[A"
     ]
    },
    {
     "name": "stdout",
     "output_type": "stream",
     "text": [
      "False\n"
     ]
    },
    {
     "name": "stderr",
     "output_type": "stream",
     "text": [
      "\n",
      " 94%|█████████▎| 206/220 [03:49<00:16,  1.19s/it]\u001b[A"
     ]
    },
    {
     "name": "stdout",
     "output_type": "stream",
     "text": [
      "False\n"
     ]
    },
    {
     "name": "stderr",
     "output_type": "stream",
     "text": [
      "\n",
      " 94%|█████████▍| 207/220 [03:50<00:15,  1.20s/it]\u001b[A"
     ]
    },
    {
     "name": "stdout",
     "output_type": "stream",
     "text": [
      "False\n"
     ]
    },
    {
     "name": "stderr",
     "output_type": "stream",
     "text": [
      "\n",
      " 95%|█████████▍| 208/220 [03:51<00:14,  1.18s/it]\u001b[A"
     ]
    },
    {
     "name": "stdout",
     "output_type": "stream",
     "text": [
      "False\n"
     ]
    },
    {
     "name": "stderr",
     "output_type": "stream",
     "text": [
      "\n",
      " 95%|█████████▌| 209/220 [03:52<00:12,  1.14s/it]\u001b[A"
     ]
    },
    {
     "name": "stdout",
     "output_type": "stream",
     "text": [
      "False\n"
     ]
    },
    {
     "name": "stderr",
     "output_type": "stream",
     "text": [
      "\n",
      " 95%|█████████▌| 210/220 [03:53<00:11,  1.14s/it]\u001b[A"
     ]
    },
    {
     "name": "stdout",
     "output_type": "stream",
     "text": [
      "False\n"
     ]
    },
    {
     "name": "stderr",
     "output_type": "stream",
     "text": [
      "\n",
      " 96%|█████████▌| 211/220 [03:54<00:10,  1.13s/it]\u001b[A"
     ]
    },
    {
     "name": "stdout",
     "output_type": "stream",
     "text": [
      "False\n"
     ]
    },
    {
     "name": "stderr",
     "output_type": "stream",
     "text": [
      "\n",
      " 96%|█████████▋| 212/220 [03:55<00:08,  1.10s/it]\u001b[A"
     ]
    },
    {
     "name": "stdout",
     "output_type": "stream",
     "text": [
      "False\n"
     ]
    },
    {
     "name": "stderr",
     "output_type": "stream",
     "text": [
      "\n",
      " 97%|█████████▋| 213/220 [03:56<00:07,  1.11s/it]\u001b[A"
     ]
    },
    {
     "name": "stdout",
     "output_type": "stream",
     "text": [
      "False\n"
     ]
    },
    {
     "name": "stderr",
     "output_type": "stream",
     "text": [
      "\n",
      " 97%|█████████▋| 214/220 [03:57<00:06,  1.09s/it]\u001b[A"
     ]
    },
    {
     "name": "stdout",
     "output_type": "stream",
     "text": [
      "False\n"
     ]
    },
    {
     "name": "stderr",
     "output_type": "stream",
     "text": [
      "\n",
      " 98%|█████████▊| 215/220 [03:59<00:05,  1.14s/it]\u001b[A"
     ]
    },
    {
     "name": "stdout",
     "output_type": "stream",
     "text": [
      "False\n"
     ]
    },
    {
     "name": "stderr",
     "output_type": "stream",
     "text": [
      "\n",
      " 98%|█████████▊| 216/220 [04:00<00:04,  1.16s/it]\u001b[A"
     ]
    },
    {
     "name": "stdout",
     "output_type": "stream",
     "text": [
      "False\n"
     ]
    },
    {
     "name": "stderr",
     "output_type": "stream",
     "text": [
      "\n",
      " 99%|█████████▊| 217/220 [04:01<00:03,  1.16s/it]\u001b[A"
     ]
    },
    {
     "name": "stdout",
     "output_type": "stream",
     "text": [
      "False\n"
     ]
    },
    {
     "name": "stderr",
     "output_type": "stream",
     "text": [
      "\n",
      " 99%|█████████▉| 218/220 [04:02<00:02,  1.12s/it]\u001b[A"
     ]
    },
    {
     "name": "stdout",
     "output_type": "stream",
     "text": [
      "False\n"
     ]
    },
    {
     "name": "stderr",
     "output_type": "stream",
     "text": [
      "\n",
      "100%|█████████▉| 219/220 [04:03<00:01,  1.11s/it]\u001b[A"
     ]
    },
    {
     "name": "stdout",
     "output_type": "stream",
     "text": [
      "False\n"
     ]
    },
    {
     "name": "stderr",
     "output_type": "stream",
     "text": [
      "\n",
      "100%|██████████| 220/220 [04:04<00:00,  1.12s/it]\u001b[A\n",
      "\u001b[A"
     ]
    },
    {
     "name": "stdout",
     "output_type": "stream",
     "text": [
      "False\n",
      "[1.0, 1.0, 0, 1.51285930408472] [1.25, 0.8, 0, 1.3003901170351104]\n",
      "[[1.         1.         1.         1.00010001 1.00020004 1.00060036\n",
      "  1.00200401 1.00623868 1.0188487  1.0511931  1.11111111 1.17730162\n",
      "  1.22010737 1.23915737 1.24626122 1.24875125 1.24953143 1.24984377\n",
      "  1.25       1.25       1.25      ]\n",
      " [1.         1.         1.         0.9999     0.9998     0.9994\n",
      "  0.998      0.9938     0.9815     0.9513     0.9        0.8494\n",
      "  0.8196     0.807      0.8024     0.8008     0.8003     0.8001\n",
      "  0.8        0.8        0.8       ]\n",
      " [0.         0.         0.         0.         0.         0.\n",
      "  0.         0.         0.         0.         0.         0.\n",
      "  0.         0.         0.         0.         0.         0.\n",
      "  0.         0.         0.        ]\n",
      " [1.5128593  1.5128593  1.5128593  1.5128593  1.51263046 1.51217299\n",
      "  1.51057402 1.50534397 1.4907573  1.45581598 1.39918847 1.34716422\n",
      "  1.3185654  1.30667712 1.30259216 1.30106687 1.30055924 1.30039012\n",
      "  1.30039012 1.30039012 1.30039012]]\n"
     ]
    }
   ],
   "source": [
    "#nu, mu, cnu, kap, R, alpha = 4.186, 0.6089, 8.314, 1\n",
    "\n",
    "R = Gamma*cnu\n",
    "alpha = 1\n",
    "\n",
    "# function for initial condition\n",
    "def initial(x):\n",
    "    assert len(x) == len(y1)\n",
    "    \n",
    "    sol = np.zeros((4,len(y1)))\n",
    "    sol[0] = rho\n",
    "    sol[1] = u\n",
    "    sol[2] = h1\n",
    "    sol[3] = T\n",
    "    return sol.flatten()\n",
    "    \n",
    "# \n",
    "def f0(u):\n",
    "    res = np.copy(u)\n",
    "    res[0] = u[0]\n",
    "    res[1] = u[0]*u[1]\n",
    "    res[2] = u[2]\n",
    "    res[3] = u[2]**2/2+u[0]*(cnu*u[3]+u[1]**2/2)\n",
    "    return res\n",
    "\n",
    "def f1(u):\n",
    "    res = np.copy(u)\n",
    "    res[0] = u[0]*u[1]\n",
    "    res[1] = R*u[0]*u[3]-u[2]**2/2+u[0]*u[1]**2\n",
    "    res[2] = alpha*u[2]\n",
    "    res[3] = (R+cnu)*u[3]+u[1]**2/2\n",
    "    return res\n",
    "\n",
    "\n",
    "def b(u):\n",
    "    B = np.array([[0,0,0,0],\n",
    "                 [0,nu+2*mu,0,0],\n",
    "                 [0,0,nu,0],\n",
    "                 [0,u[1]*(nu+2*mu),0,kap]])\n",
    "    return B\n",
    "\n",
    "\n",
    "nt = int(len(y1)**2/2)\n",
    "nx = len(y1) - 1\n",
    "print(nx)\n",
    "\n",
    "\n",
    "left = [rho[0],u[0],h1[0],T[0]]\n",
    "right = [rho[-1],u[-1],h1[-1],T[-1]]\n",
    "\n",
    "sol = solve(initial,f0,f1,b,nt,nx,left,right)\n",
    "\n",
    "U = sol.U.reshape((sol.nt+1,sol.numeq,sol.nx+1))\n",
    "print(sol.left,sol.right)\n",
    "print(U[0])"
   ]
  },
  {
   "cell_type": "code",
   "execution_count": 74,
   "metadata": {
    "scrolled": false
   },
   "outputs": [
    {
     "data": {
      "application/javascript": [
       "/* Put everything inside the global mpl namespace */\n",
       "window.mpl = {};\n",
       "\n",
       "\n",
       "mpl.get_websocket_type = function() {\n",
       "    if (typeof(WebSocket) !== 'undefined') {\n",
       "        return WebSocket;\n",
       "    } else if (typeof(MozWebSocket) !== 'undefined') {\n",
       "        return MozWebSocket;\n",
       "    } else {\n",
       "        alert('Your browser does not have WebSocket support.' +\n",
       "              'Please try Chrome, Safari or Firefox ≥ 6. ' +\n",
       "              'Firefox 4 and 5 are also supported but you ' +\n",
       "              'have to enable WebSockets in about:config.');\n",
       "    };\n",
       "}\n",
       "\n",
       "mpl.figure = function(figure_id, websocket, ondownload, parent_element) {\n",
       "    this.id = figure_id;\n",
       "\n",
       "    this.ws = websocket;\n",
       "\n",
       "    this.supports_binary = (this.ws.binaryType != undefined);\n",
       "\n",
       "    if (!this.supports_binary) {\n",
       "        var warnings = document.getElementById(\"mpl-warnings\");\n",
       "        if (warnings) {\n",
       "            warnings.style.display = 'block';\n",
       "            warnings.textContent = (\n",
       "                \"This browser does not support binary websocket messages. \" +\n",
       "                    \"Performance may be slow.\");\n",
       "        }\n",
       "    }\n",
       "\n",
       "    this.imageObj = new Image();\n",
       "\n",
       "    this.context = undefined;\n",
       "    this.message = undefined;\n",
       "    this.canvas = undefined;\n",
       "    this.rubberband_canvas = undefined;\n",
       "    this.rubberband_context = undefined;\n",
       "    this.format_dropdown = undefined;\n",
       "\n",
       "    this.image_mode = 'full';\n",
       "\n",
       "    this.root = $('<div/>');\n",
       "    this._root_extra_style(this.root)\n",
       "    this.root.attr('style', 'display: inline-block');\n",
       "\n",
       "    $(parent_element).append(this.root);\n",
       "\n",
       "    this._init_header(this);\n",
       "    this._init_canvas(this);\n",
       "    this._init_toolbar(this);\n",
       "\n",
       "    var fig = this;\n",
       "\n",
       "    this.waiting = false;\n",
       "\n",
       "    this.ws.onopen =  function () {\n",
       "            fig.send_message(\"supports_binary\", {value: fig.supports_binary});\n",
       "            fig.send_message(\"send_image_mode\", {});\n",
       "            if (mpl.ratio != 1) {\n",
       "                fig.send_message(\"set_dpi_ratio\", {'dpi_ratio': mpl.ratio});\n",
       "            }\n",
       "            fig.send_message(\"refresh\", {});\n",
       "        }\n",
       "\n",
       "    this.imageObj.onload = function() {\n",
       "            if (fig.image_mode == 'full') {\n",
       "                // Full images could contain transparency (where diff images\n",
       "                // almost always do), so we need to clear the canvas so that\n",
       "                // there is no ghosting.\n",
       "                fig.context.clearRect(0, 0, fig.canvas.width, fig.canvas.height);\n",
       "            }\n",
       "            fig.context.drawImage(fig.imageObj, 0, 0);\n",
       "        };\n",
       "\n",
       "    this.imageObj.onunload = function() {\n",
       "        fig.ws.close();\n",
       "    }\n",
       "\n",
       "    this.ws.onmessage = this._make_on_message_function(this);\n",
       "\n",
       "    this.ondownload = ondownload;\n",
       "}\n",
       "\n",
       "mpl.figure.prototype._init_header = function() {\n",
       "    var titlebar = $(\n",
       "        '<div class=\"ui-dialog-titlebar ui-widget-header ui-corner-all ' +\n",
       "        'ui-helper-clearfix\"/>');\n",
       "    var titletext = $(\n",
       "        '<div class=\"ui-dialog-title\" style=\"width: 100%; ' +\n",
       "        'text-align: center; padding: 3px;\"/>');\n",
       "    titlebar.append(titletext)\n",
       "    this.root.append(titlebar);\n",
       "    this.header = titletext[0];\n",
       "}\n",
       "\n",
       "\n",
       "\n",
       "mpl.figure.prototype._canvas_extra_style = function(canvas_div) {\n",
       "\n",
       "}\n",
       "\n",
       "\n",
       "mpl.figure.prototype._root_extra_style = function(canvas_div) {\n",
       "\n",
       "}\n",
       "\n",
       "mpl.figure.prototype._init_canvas = function() {\n",
       "    var fig = this;\n",
       "\n",
       "    var canvas_div = $('<div/>');\n",
       "\n",
       "    canvas_div.attr('style', 'position: relative; clear: both; outline: 0');\n",
       "\n",
       "    function canvas_keyboard_event(event) {\n",
       "        return fig.key_event(event, event['data']);\n",
       "    }\n",
       "\n",
       "    canvas_div.keydown('key_press', canvas_keyboard_event);\n",
       "    canvas_div.keyup('key_release', canvas_keyboard_event);\n",
       "    this.canvas_div = canvas_div\n",
       "    this._canvas_extra_style(canvas_div)\n",
       "    this.root.append(canvas_div);\n",
       "\n",
       "    var canvas = $('<canvas/>');\n",
       "    canvas.addClass('mpl-canvas');\n",
       "    canvas.attr('style', \"left: 0; top: 0; z-index: 0; outline: 0\")\n",
       "\n",
       "    this.canvas = canvas[0];\n",
       "    this.context = canvas[0].getContext(\"2d\");\n",
       "\n",
       "    var backingStore = this.context.backingStorePixelRatio ||\n",
       "\tthis.context.webkitBackingStorePixelRatio ||\n",
       "\tthis.context.mozBackingStorePixelRatio ||\n",
       "\tthis.context.msBackingStorePixelRatio ||\n",
       "\tthis.context.oBackingStorePixelRatio ||\n",
       "\tthis.context.backingStorePixelRatio || 1;\n",
       "\n",
       "    mpl.ratio = (window.devicePixelRatio || 1) / backingStore;\n",
       "\n",
       "    var rubberband = $('<canvas/>');\n",
       "    rubberband.attr('style', \"position: absolute; left: 0; top: 0; z-index: 1;\")\n",
       "\n",
       "    var pass_mouse_events = true;\n",
       "\n",
       "    canvas_div.resizable({\n",
       "        start: function(event, ui) {\n",
       "            pass_mouse_events = false;\n",
       "        },\n",
       "        resize: function(event, ui) {\n",
       "            fig.request_resize(ui.size.width, ui.size.height);\n",
       "        },\n",
       "        stop: function(event, ui) {\n",
       "            pass_mouse_events = true;\n",
       "            fig.request_resize(ui.size.width, ui.size.height);\n",
       "        },\n",
       "    });\n",
       "\n",
       "    function mouse_event_fn(event) {\n",
       "        if (pass_mouse_events)\n",
       "            return fig.mouse_event(event, event['data']);\n",
       "    }\n",
       "\n",
       "    rubberband.mousedown('button_press', mouse_event_fn);\n",
       "    rubberband.mouseup('button_release', mouse_event_fn);\n",
       "    // Throttle sequential mouse events to 1 every 20ms.\n",
       "    rubberband.mousemove('motion_notify', mouse_event_fn);\n",
       "\n",
       "    rubberband.mouseenter('figure_enter', mouse_event_fn);\n",
       "    rubberband.mouseleave('figure_leave', mouse_event_fn);\n",
       "\n",
       "    canvas_div.on(\"wheel\", function (event) {\n",
       "        event = event.originalEvent;\n",
       "        event['data'] = 'scroll'\n",
       "        if (event.deltaY < 0) {\n",
       "            event.step = 1;\n",
       "        } else {\n",
       "            event.step = -1;\n",
       "        }\n",
       "        mouse_event_fn(event);\n",
       "    });\n",
       "\n",
       "    canvas_div.append(canvas);\n",
       "    canvas_div.append(rubberband);\n",
       "\n",
       "    this.rubberband = rubberband;\n",
       "    this.rubberband_canvas = rubberband[0];\n",
       "    this.rubberband_context = rubberband[0].getContext(\"2d\");\n",
       "    this.rubberband_context.strokeStyle = \"#000000\";\n",
       "\n",
       "    this._resize_canvas = function(width, height) {\n",
       "        // Keep the size of the canvas, canvas container, and rubber band\n",
       "        // canvas in synch.\n",
       "        canvas_div.css('width', width)\n",
       "        canvas_div.css('height', height)\n",
       "\n",
       "        canvas.attr('width', width * mpl.ratio);\n",
       "        canvas.attr('height', height * mpl.ratio);\n",
       "        canvas.attr('style', 'width: ' + width + 'px; height: ' + height + 'px;');\n",
       "\n",
       "        rubberband.attr('width', width);\n",
       "        rubberband.attr('height', height);\n",
       "    }\n",
       "\n",
       "    // Set the figure to an initial 600x600px, this will subsequently be updated\n",
       "    // upon first draw.\n",
       "    this._resize_canvas(600, 600);\n",
       "\n",
       "    // Disable right mouse context menu.\n",
       "    $(this.rubberband_canvas).bind(\"contextmenu\",function(e){\n",
       "        return false;\n",
       "    });\n",
       "\n",
       "    function set_focus () {\n",
       "        canvas.focus();\n",
       "        canvas_div.focus();\n",
       "    }\n",
       "\n",
       "    window.setTimeout(set_focus, 100);\n",
       "}\n",
       "\n",
       "mpl.figure.prototype._init_toolbar = function() {\n",
       "    var fig = this;\n",
       "\n",
       "    var nav_element = $('<div/>')\n",
       "    nav_element.attr('style', 'width: 100%');\n",
       "    this.root.append(nav_element);\n",
       "\n",
       "    // Define a callback function for later on.\n",
       "    function toolbar_event(event) {\n",
       "        return fig.toolbar_button_onclick(event['data']);\n",
       "    }\n",
       "    function toolbar_mouse_event(event) {\n",
       "        return fig.toolbar_button_onmouseover(event['data']);\n",
       "    }\n",
       "\n",
       "    for(var toolbar_ind in mpl.toolbar_items) {\n",
       "        var name = mpl.toolbar_items[toolbar_ind][0];\n",
       "        var tooltip = mpl.toolbar_items[toolbar_ind][1];\n",
       "        var image = mpl.toolbar_items[toolbar_ind][2];\n",
       "        var method_name = mpl.toolbar_items[toolbar_ind][3];\n",
       "\n",
       "        if (!name) {\n",
       "            // put a spacer in here.\n",
       "            continue;\n",
       "        }\n",
       "        var button = $('<button/>');\n",
       "        button.addClass('ui-button ui-widget ui-state-default ui-corner-all ' +\n",
       "                        'ui-button-icon-only');\n",
       "        button.attr('role', 'button');\n",
       "        button.attr('aria-disabled', 'false');\n",
       "        button.click(method_name, toolbar_event);\n",
       "        button.mouseover(tooltip, toolbar_mouse_event);\n",
       "\n",
       "        var icon_img = $('<span/>');\n",
       "        icon_img.addClass('ui-button-icon-primary ui-icon');\n",
       "        icon_img.addClass(image);\n",
       "        icon_img.addClass('ui-corner-all');\n",
       "\n",
       "        var tooltip_span = $('<span/>');\n",
       "        tooltip_span.addClass('ui-button-text');\n",
       "        tooltip_span.html(tooltip);\n",
       "\n",
       "        button.append(icon_img);\n",
       "        button.append(tooltip_span);\n",
       "\n",
       "        nav_element.append(button);\n",
       "    }\n",
       "\n",
       "    var fmt_picker_span = $('<span/>');\n",
       "\n",
       "    var fmt_picker = $('<select/>');\n",
       "    fmt_picker.addClass('mpl-toolbar-option ui-widget ui-widget-content');\n",
       "    fmt_picker_span.append(fmt_picker);\n",
       "    nav_element.append(fmt_picker_span);\n",
       "    this.format_dropdown = fmt_picker[0];\n",
       "\n",
       "    for (var ind in mpl.extensions) {\n",
       "        var fmt = mpl.extensions[ind];\n",
       "        var option = $(\n",
       "            '<option/>', {selected: fmt === mpl.default_extension}).html(fmt);\n",
       "        fmt_picker.append(option)\n",
       "    }\n",
       "\n",
       "    // Add hover states to the ui-buttons\n",
       "    $( \".ui-button\" ).hover(\n",
       "        function() { $(this).addClass(\"ui-state-hover\");},\n",
       "        function() { $(this).removeClass(\"ui-state-hover\");}\n",
       "    );\n",
       "\n",
       "    var status_bar = $('<span class=\"mpl-message\"/>');\n",
       "    nav_element.append(status_bar);\n",
       "    this.message = status_bar[0];\n",
       "}\n",
       "\n",
       "mpl.figure.prototype.request_resize = function(x_pixels, y_pixels) {\n",
       "    // Request matplotlib to resize the figure. Matplotlib will then trigger a resize in the client,\n",
       "    // which will in turn request a refresh of the image.\n",
       "    this.send_message('resize', {'width': x_pixels, 'height': y_pixels});\n",
       "}\n",
       "\n",
       "mpl.figure.prototype.send_message = function(type, properties) {\n",
       "    properties['type'] = type;\n",
       "    properties['figure_id'] = this.id;\n",
       "    this.ws.send(JSON.stringify(properties));\n",
       "}\n",
       "\n",
       "mpl.figure.prototype.send_draw_message = function() {\n",
       "    if (!this.waiting) {\n",
       "        this.waiting = true;\n",
       "        this.ws.send(JSON.stringify({type: \"draw\", figure_id: this.id}));\n",
       "    }\n",
       "}\n",
       "\n",
       "\n",
       "mpl.figure.prototype.handle_save = function(fig, msg) {\n",
       "    var format_dropdown = fig.format_dropdown;\n",
       "    var format = format_dropdown.options[format_dropdown.selectedIndex].value;\n",
       "    fig.ondownload(fig, format);\n",
       "}\n",
       "\n",
       "\n",
       "mpl.figure.prototype.handle_resize = function(fig, msg) {\n",
       "    var size = msg['size'];\n",
       "    if (size[0] != fig.canvas.width || size[1] != fig.canvas.height) {\n",
       "        fig._resize_canvas(size[0], size[1]);\n",
       "        fig.send_message(\"refresh\", {});\n",
       "    };\n",
       "}\n",
       "\n",
       "mpl.figure.prototype.handle_rubberband = function(fig, msg) {\n",
       "    var x0 = msg['x0'] / mpl.ratio;\n",
       "    var y0 = (fig.canvas.height - msg['y0']) / mpl.ratio;\n",
       "    var x1 = msg['x1'] / mpl.ratio;\n",
       "    var y1 = (fig.canvas.height - msg['y1']) / mpl.ratio;\n",
       "    x0 = Math.floor(x0) + 0.5;\n",
       "    y0 = Math.floor(y0) + 0.5;\n",
       "    x1 = Math.floor(x1) + 0.5;\n",
       "    y1 = Math.floor(y1) + 0.5;\n",
       "    var min_x = Math.min(x0, x1);\n",
       "    var min_y = Math.min(y0, y1);\n",
       "    var width = Math.abs(x1 - x0);\n",
       "    var height = Math.abs(y1 - y0);\n",
       "\n",
       "    fig.rubberband_context.clearRect(\n",
       "        0, 0, fig.canvas.width, fig.canvas.height);\n",
       "\n",
       "    fig.rubberband_context.strokeRect(min_x, min_y, width, height);\n",
       "}\n",
       "\n",
       "mpl.figure.prototype.handle_figure_label = function(fig, msg) {\n",
       "    // Updates the figure title.\n",
       "    fig.header.textContent = msg['label'];\n",
       "}\n",
       "\n",
       "mpl.figure.prototype.handle_cursor = function(fig, msg) {\n",
       "    var cursor = msg['cursor'];\n",
       "    switch(cursor)\n",
       "    {\n",
       "    case 0:\n",
       "        cursor = 'pointer';\n",
       "        break;\n",
       "    case 1:\n",
       "        cursor = 'default';\n",
       "        break;\n",
       "    case 2:\n",
       "        cursor = 'crosshair';\n",
       "        break;\n",
       "    case 3:\n",
       "        cursor = 'move';\n",
       "        break;\n",
       "    }\n",
       "    fig.rubberband_canvas.style.cursor = cursor;\n",
       "}\n",
       "\n",
       "mpl.figure.prototype.handle_message = function(fig, msg) {\n",
       "    fig.message.textContent = msg['message'];\n",
       "}\n",
       "\n",
       "mpl.figure.prototype.handle_draw = function(fig, msg) {\n",
       "    // Request the server to send over a new figure.\n",
       "    fig.send_draw_message();\n",
       "}\n",
       "\n",
       "mpl.figure.prototype.handle_image_mode = function(fig, msg) {\n",
       "    fig.image_mode = msg['mode'];\n",
       "}\n",
       "\n",
       "mpl.figure.prototype.updated_canvas_event = function() {\n",
       "    // Called whenever the canvas gets updated.\n",
       "    this.send_message(\"ack\", {});\n",
       "}\n",
       "\n",
       "// A function to construct a web socket function for onmessage handling.\n",
       "// Called in the figure constructor.\n",
       "mpl.figure.prototype._make_on_message_function = function(fig) {\n",
       "    return function socket_on_message(evt) {\n",
       "        if (evt.data instanceof Blob) {\n",
       "            /* FIXME: We get \"Resource interpreted as Image but\n",
       "             * transferred with MIME type text/plain:\" errors on\n",
       "             * Chrome.  But how to set the MIME type?  It doesn't seem\n",
       "             * to be part of the websocket stream */\n",
       "            evt.data.type = \"image/png\";\n",
       "\n",
       "            /* Free the memory for the previous frames */\n",
       "            if (fig.imageObj.src) {\n",
       "                (window.URL || window.webkitURL).revokeObjectURL(\n",
       "                    fig.imageObj.src);\n",
       "            }\n",
       "\n",
       "            fig.imageObj.src = (window.URL || window.webkitURL).createObjectURL(\n",
       "                evt.data);\n",
       "            fig.updated_canvas_event();\n",
       "            fig.waiting = false;\n",
       "            return;\n",
       "        }\n",
       "        else if (typeof evt.data === 'string' && evt.data.slice(0, 21) == \"data:image/png;base64\") {\n",
       "            fig.imageObj.src = evt.data;\n",
       "            fig.updated_canvas_event();\n",
       "            fig.waiting = false;\n",
       "            return;\n",
       "        }\n",
       "\n",
       "        var msg = JSON.parse(evt.data);\n",
       "        var msg_type = msg['type'];\n",
       "\n",
       "        // Call the  \"handle_{type}\" callback, which takes\n",
       "        // the figure and JSON message as its only arguments.\n",
       "        try {\n",
       "            var callback = fig[\"handle_\" + msg_type];\n",
       "        } catch (e) {\n",
       "            console.log(\"No handler for the '\" + msg_type + \"' message type: \", msg);\n",
       "            return;\n",
       "        }\n",
       "\n",
       "        if (callback) {\n",
       "            try {\n",
       "                // console.log(\"Handling '\" + msg_type + \"' message: \", msg);\n",
       "                callback(fig, msg);\n",
       "            } catch (e) {\n",
       "                console.log(\"Exception inside the 'handler_\" + msg_type + \"' callback:\", e, e.stack, msg);\n",
       "            }\n",
       "        }\n",
       "    };\n",
       "}\n",
       "\n",
       "// from http://stackoverflow.com/questions/1114465/getting-mouse-location-in-canvas\n",
       "mpl.findpos = function(e) {\n",
       "    //this section is from http://www.quirksmode.org/js/events_properties.html\n",
       "    var targ;\n",
       "    if (!e)\n",
       "        e = window.event;\n",
       "    if (e.target)\n",
       "        targ = e.target;\n",
       "    else if (e.srcElement)\n",
       "        targ = e.srcElement;\n",
       "    if (targ.nodeType == 3) // defeat Safari bug\n",
       "        targ = targ.parentNode;\n",
       "\n",
       "    // jQuery normalizes the pageX and pageY\n",
       "    // pageX,Y are the mouse positions relative to the document\n",
       "    // offset() returns the position of the element relative to the document\n",
       "    var x = e.pageX - $(targ).offset().left;\n",
       "    var y = e.pageY - $(targ).offset().top;\n",
       "\n",
       "    return {\"x\": x, \"y\": y};\n",
       "};\n",
       "\n",
       "/*\n",
       " * return a copy of an object with only non-object keys\n",
       " * we need this to avoid circular references\n",
       " * http://stackoverflow.com/a/24161582/3208463\n",
       " */\n",
       "function simpleKeys (original) {\n",
       "  return Object.keys(original).reduce(function (obj, key) {\n",
       "    if (typeof original[key] !== 'object')\n",
       "        obj[key] = original[key]\n",
       "    return obj;\n",
       "  }, {});\n",
       "}\n",
       "\n",
       "mpl.figure.prototype.mouse_event = function(event, name) {\n",
       "    var canvas_pos = mpl.findpos(event)\n",
       "\n",
       "    if (name === 'button_press')\n",
       "    {\n",
       "        this.canvas.focus();\n",
       "        this.canvas_div.focus();\n",
       "    }\n",
       "\n",
       "    var x = canvas_pos.x * mpl.ratio;\n",
       "    var y = canvas_pos.y * mpl.ratio;\n",
       "\n",
       "    this.send_message(name, {x: x, y: y, button: event.button,\n",
       "                             step: event.step,\n",
       "                             guiEvent: simpleKeys(event)});\n",
       "\n",
       "    /* This prevents the web browser from automatically changing to\n",
       "     * the text insertion cursor when the button is pressed.  We want\n",
       "     * to control all of the cursor setting manually through the\n",
       "     * 'cursor' event from matplotlib */\n",
       "    event.preventDefault();\n",
       "    return false;\n",
       "}\n",
       "\n",
       "mpl.figure.prototype._key_event_extra = function(event, name) {\n",
       "    // Handle any extra behaviour associated with a key event\n",
       "}\n",
       "\n",
       "mpl.figure.prototype.key_event = function(event, name) {\n",
       "\n",
       "    // Prevent repeat events\n",
       "    if (name == 'key_press')\n",
       "    {\n",
       "        if (event.which === this._key)\n",
       "            return;\n",
       "        else\n",
       "            this._key = event.which;\n",
       "    }\n",
       "    if (name == 'key_release')\n",
       "        this._key = null;\n",
       "\n",
       "    var value = '';\n",
       "    if (event.ctrlKey && event.which != 17)\n",
       "        value += \"ctrl+\";\n",
       "    if (event.altKey && event.which != 18)\n",
       "        value += \"alt+\";\n",
       "    if (event.shiftKey && event.which != 16)\n",
       "        value += \"shift+\";\n",
       "\n",
       "    value += 'k';\n",
       "    value += event.which.toString();\n",
       "\n",
       "    this._key_event_extra(event, name);\n",
       "\n",
       "    this.send_message(name, {key: value,\n",
       "                             guiEvent: simpleKeys(event)});\n",
       "    return false;\n",
       "}\n",
       "\n",
       "mpl.figure.prototype.toolbar_button_onclick = function(name) {\n",
       "    if (name == 'download') {\n",
       "        this.handle_save(this, null);\n",
       "    } else {\n",
       "        this.send_message(\"toolbar_button\", {name: name});\n",
       "    }\n",
       "};\n",
       "\n",
       "mpl.figure.prototype.toolbar_button_onmouseover = function(tooltip) {\n",
       "    this.message.textContent = tooltip;\n",
       "};\n",
       "mpl.toolbar_items = [[\"Home\", \"Reset original view\", \"fa fa-home icon-home\", \"home\"], [\"Back\", \"Back to  previous view\", \"fa fa-arrow-left icon-arrow-left\", \"back\"], [\"Forward\", \"Forward to next view\", \"fa fa-arrow-right icon-arrow-right\", \"forward\"], [\"\", \"\", \"\", \"\"], [\"Pan\", \"Pan axes with left mouse, zoom with right\", \"fa fa-arrows icon-move\", \"pan\"], [\"Zoom\", \"Zoom to rectangle\", \"fa fa-square-o icon-check-empty\", \"zoom\"], [\"\", \"\", \"\", \"\"], [\"Download\", \"Download plot\", \"fa fa-floppy-o icon-save\", \"download\"]];\n",
       "\n",
       "mpl.extensions = [\"eps\", \"jpeg\", \"pdf\", \"png\", \"ps\", \"raw\", \"svg\", \"tif\"];\n",
       "\n",
       "mpl.default_extension = \"png\";var comm_websocket_adapter = function(comm) {\n",
       "    // Create a \"websocket\"-like object which calls the given IPython comm\n",
       "    // object with the appropriate methods. Currently this is a non binary\n",
       "    // socket, so there is still some room for performance tuning.\n",
       "    var ws = {};\n",
       "\n",
       "    ws.close = function() {\n",
       "        comm.close()\n",
       "    };\n",
       "    ws.send = function(m) {\n",
       "        //console.log('sending', m);\n",
       "        comm.send(m);\n",
       "    };\n",
       "    // Register the callback with on_msg.\n",
       "    comm.on_msg(function(msg) {\n",
       "        //console.log('receiving', msg['content']['data'], msg);\n",
       "        // Pass the mpl event to the overridden (by mpl) onmessage function.\n",
       "        ws.onmessage(msg['content']['data'])\n",
       "    });\n",
       "    return ws;\n",
       "}\n",
       "\n",
       "mpl.mpl_figure_comm = function(comm, msg) {\n",
       "    // This is the function which gets called when the mpl process\n",
       "    // starts-up an IPython Comm through the \"matplotlib\" channel.\n",
       "\n",
       "    var id = msg.content.data.id;\n",
       "    // Get hold of the div created by the display call when the Comm\n",
       "    // socket was opened in Python.\n",
       "    var element = $(\"#\" + id);\n",
       "    var ws_proxy = comm_websocket_adapter(comm)\n",
       "\n",
       "    function ondownload(figure, format) {\n",
       "        window.open(figure.imageObj.src);\n",
       "    }\n",
       "\n",
       "    var fig = new mpl.figure(id, ws_proxy,\n",
       "                           ondownload,\n",
       "                           element.get(0));\n",
       "\n",
       "    // Call onopen now - mpl needs it, as it is assuming we've passed it a real\n",
       "    // web socket which is closed, not our websocket->open comm proxy.\n",
       "    ws_proxy.onopen();\n",
       "\n",
       "    fig.parent_element = element.get(0);\n",
       "    fig.cell_info = mpl.find_output_cell(\"<div id='\" + id + \"'></div>\");\n",
       "    if (!fig.cell_info) {\n",
       "        console.error(\"Failed to find cell for figure\", id, fig);\n",
       "        return;\n",
       "    }\n",
       "\n",
       "    var output_index = fig.cell_info[2]\n",
       "    var cell = fig.cell_info[0];\n",
       "\n",
       "};\n",
       "\n",
       "mpl.figure.prototype.handle_close = function(fig, msg) {\n",
       "    var width = fig.canvas.width/mpl.ratio\n",
       "    fig.root.unbind('remove')\n",
       "\n",
       "    // Update the output cell to use the data from the current canvas.\n",
       "    fig.push_to_output();\n",
       "    var dataURL = fig.canvas.toDataURL();\n",
       "    // Re-enable the keyboard manager in IPython - without this line, in FF,\n",
       "    // the notebook keyboard shortcuts fail.\n",
       "    IPython.keyboard_manager.enable()\n",
       "    $(fig.parent_element).html('<img src=\"' + dataURL + '\" width=\"' + width + '\">');\n",
       "    fig.close_ws(fig, msg);\n",
       "}\n",
       "\n",
       "mpl.figure.prototype.close_ws = function(fig, msg){\n",
       "    fig.send_message('closing', msg);\n",
       "    // fig.ws.close()\n",
       "}\n",
       "\n",
       "mpl.figure.prototype.push_to_output = function(remove_interactive) {\n",
       "    // Turn the data on the canvas into data in the output cell.\n",
       "    var width = this.canvas.width/mpl.ratio\n",
       "    var dataURL = this.canvas.toDataURL();\n",
       "    this.cell_info[1]['text/html'] = '<img src=\"' + dataURL + '\" width=\"' + width + '\">';\n",
       "}\n",
       "\n",
       "mpl.figure.prototype.updated_canvas_event = function() {\n",
       "    // Tell IPython that the notebook contents must change.\n",
       "    IPython.notebook.set_dirty(true);\n",
       "    this.send_message(\"ack\", {});\n",
       "    var fig = this;\n",
       "    // Wait a second, then push the new image to the DOM so\n",
       "    // that it is saved nicely (might be nice to debounce this).\n",
       "    setTimeout(function () { fig.push_to_output() }, 1000);\n",
       "}\n",
       "\n",
       "mpl.figure.prototype._init_toolbar = function() {\n",
       "    var fig = this;\n",
       "\n",
       "    var nav_element = $('<div/>')\n",
       "    nav_element.attr('style', 'width: 100%');\n",
       "    this.root.append(nav_element);\n",
       "\n",
       "    // Define a callback function for later on.\n",
       "    function toolbar_event(event) {\n",
       "        return fig.toolbar_button_onclick(event['data']);\n",
       "    }\n",
       "    function toolbar_mouse_event(event) {\n",
       "        return fig.toolbar_button_onmouseover(event['data']);\n",
       "    }\n",
       "\n",
       "    for(var toolbar_ind in mpl.toolbar_items){\n",
       "        var name = mpl.toolbar_items[toolbar_ind][0];\n",
       "        var tooltip = mpl.toolbar_items[toolbar_ind][1];\n",
       "        var image = mpl.toolbar_items[toolbar_ind][2];\n",
       "        var method_name = mpl.toolbar_items[toolbar_ind][3];\n",
       "\n",
       "        if (!name) { continue; };\n",
       "\n",
       "        var button = $('<button class=\"btn btn-default\" href=\"#\" title=\"' + name + '\"><i class=\"fa ' + image + ' fa-lg\"></i></button>');\n",
       "        button.click(method_name, toolbar_event);\n",
       "        button.mouseover(tooltip, toolbar_mouse_event);\n",
       "        nav_element.append(button);\n",
       "    }\n",
       "\n",
       "    // Add the status bar.\n",
       "    var status_bar = $('<span class=\"mpl-message\" style=\"text-align:right; float: right;\"/>');\n",
       "    nav_element.append(status_bar);\n",
       "    this.message = status_bar[0];\n",
       "\n",
       "    // Add the close button to the window.\n",
       "    var buttongrp = $('<div class=\"btn-group inline pull-right\"></div>');\n",
       "    var button = $('<button class=\"btn btn-mini btn-primary\" href=\"#\" title=\"Stop Interaction\"><i class=\"fa fa-power-off icon-remove icon-large\"></i></button>');\n",
       "    button.click(function (evt) { fig.handle_close(fig, {}); } );\n",
       "    button.mouseover('Stop Interaction', toolbar_mouse_event);\n",
       "    buttongrp.append(button);\n",
       "    var titlebar = this.root.find($('.ui-dialog-titlebar'));\n",
       "    titlebar.prepend(buttongrp);\n",
       "}\n",
       "\n",
       "mpl.figure.prototype._root_extra_style = function(el){\n",
       "    var fig = this\n",
       "    el.on(\"remove\", function(){\n",
       "\tfig.close_ws(fig, {});\n",
       "    });\n",
       "}\n",
       "\n",
       "mpl.figure.prototype._canvas_extra_style = function(el){\n",
       "    // this is important to make the div 'focusable\n",
       "    el.attr('tabindex', 0)\n",
       "    // reach out to IPython and tell the keyboard manager to turn it's self\n",
       "    // off when our div gets focus\n",
       "\n",
       "    // location in version 3\n",
       "    if (IPython.notebook.keyboard_manager) {\n",
       "        IPython.notebook.keyboard_manager.register_events(el);\n",
       "    }\n",
       "    else {\n",
       "        // location in version 2\n",
       "        IPython.keyboard_manager.register_events(el);\n",
       "    }\n",
       "\n",
       "}\n",
       "\n",
       "mpl.figure.prototype._key_event_extra = function(event, name) {\n",
       "    var manager = IPython.notebook.keyboard_manager;\n",
       "    if (!manager)\n",
       "        manager = IPython.keyboard_manager;\n",
       "\n",
       "    // Check for shift+enter\n",
       "    if (event.shiftKey && event.which == 13) {\n",
       "        this.canvas_div.blur();\n",
       "        event.shiftKey = false;\n",
       "        // Send a \"J\" for go to next cell\n",
       "        event.which = 74;\n",
       "        event.keyCode = 74;\n",
       "        manager.command_mode();\n",
       "        manager.handle_keydown(event);\n",
       "    }\n",
       "}\n",
       "\n",
       "mpl.figure.prototype.handle_save = function(fig, msg) {\n",
       "    fig.ondownload(fig, null);\n",
       "}\n",
       "\n",
       "\n",
       "mpl.find_output_cell = function(html_output) {\n",
       "    // Return the cell and output element which can be found *uniquely* in the notebook.\n",
       "    // Note - this is a bit hacky, but it is done because the \"notebook_saving.Notebook\"\n",
       "    // IPython event is triggered only after the cells have been serialised, which for\n",
       "    // our purposes (turning an active figure into a static one), is too late.\n",
       "    var cells = IPython.notebook.get_cells();\n",
       "    var ncells = cells.length;\n",
       "    for (var i=0; i<ncells; i++) {\n",
       "        var cell = cells[i];\n",
       "        if (cell.cell_type === 'code'){\n",
       "            for (var j=0; j<cell.output_area.outputs.length; j++) {\n",
       "                var data = cell.output_area.outputs[j];\n",
       "                if (data.data) {\n",
       "                    // IPython >= 3 moved mimebundle to data attribute of output\n",
       "                    data = data.data;\n",
       "                }\n",
       "                if (data['text/html'] == html_output) {\n",
       "                    return [cell, data, j];\n",
       "                }\n",
       "            }\n",
       "        }\n",
       "    }\n",
       "}\n",
       "\n",
       "// Register the function which deals with the matplotlib target/channel.\n",
       "// The kernel may be null if the page has been refreshed.\n",
       "if (IPython.notebook.kernel != null) {\n",
       "    IPython.notebook.kernel.comm_manager.register_target('matplotlib', mpl.mpl_figure_comm);\n",
       "}\n"
      ],
      "text/plain": [
       "<IPython.core.display.Javascript object>"
      ]
     },
     "metadata": {},
     "output_type": "display_data"
    },
    {
     "data": {
      "text/html": [
       "<img src=\"data:image/png;base64,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\" width=\"639.7499809339648\">"
      ],
      "text/plain": [
       "<IPython.core.display.HTML object>"
      ]
     },
     "metadata": {},
     "output_type": "display_data"
    },
    {
     "data": {
      "text/plain": [
       "array([ True,  True,  True,  True,  True,  True,  True,  True,  True,\n",
       "        True,  True,  True,  True,  True,  True,  True,  True,  True,\n",
       "        True,  True,  True])"
      ]
     },
     "execution_count": 74,
     "metadata": {},
     "output_type": "execute_result"
    }
   ],
   "source": [
    "colors = ['C0','C1','C2','C3']\n",
    "labels = [r'$\\rho$','u','h','T']\n",
    "\n",
    "# Static plot of solution\n",
    "fig = plt.figure()\n",
    "\n",
    "x = np.linspace(0,1,sol.nx+1)\n",
    "for i in range(0,sol.nt+1):\n",
    "    for j in range(4):\n",
    "        plt.plot(x,U[i,j],color=colors[j])\n",
    "    \n",
    "plt.legend(labels)\n",
    "# plt.ylim(.7,1.1)\n",
    "plt.show()\n",
    "\n",
    "U[0,1]==U[-1,1]"
   ]
  },
  {
   "cell_type": "code",
   "execution_count": 66,
   "metadata": {
    "scrolled": true
   },
   "outputs": [
    {
     "ename": "ValueError",
     "evalue": "shape mismatch: objects cannot be broadcast to a single shape",
     "output_type": "error",
     "traceback": [
      "\u001b[0;31m---------------------------------------------------------------------------\u001b[0m",
      "\u001b[0;31mValueError\u001b[0m                                Traceback (most recent call last)",
      "\u001b[0;32m<ipython-input-66-af369548ff4d>\u001b[0m in \u001b[0;36m<module>\u001b[0;34m\u001b[0m\n\u001b[1;32m     20\u001b[0m \u001b[0;34m\u001b[0m\u001b[0m\n\u001b[1;32m     21\u001b[0m \u001b[0mani\u001b[0m \u001b[0;34m=\u001b[0m \u001b[0manimation\u001b[0m\u001b[0;34m.\u001b[0m\u001b[0mFuncAnimation\u001b[0m\u001b[0;34m(\u001b[0m\u001b[0mfig\u001b[0m\u001b[0;34m,\u001b[0m\u001b[0mupdate\u001b[0m\u001b[0;34m,\u001b[0m\u001b[0mframes\u001b[0m\u001b[0;34m=\u001b[0m\u001b[0mnt\u001b[0m\u001b[0;34m+\u001b[0m\u001b[0;36m1\u001b[0m\u001b[0;34m,\u001b[0m\u001b[0minterval\u001b[0m\u001b[0;34m=\u001b[0m\u001b[0;36m100\u001b[0m\u001b[0;34m)\u001b[0m\u001b[0;34m\u001b[0m\u001b[0;34m\u001b[0m\u001b[0m\n\u001b[0;32m---> 22\u001b[0;31m \u001b[0mani\u001b[0m\u001b[0;34m.\u001b[0m\u001b[0msave\u001b[0m\u001b[0;34m(\u001b[0m\u001b[0mfilename\u001b[0m\u001b[0;34m)\u001b[0m\u001b[0;34m\u001b[0m\u001b[0;34m\u001b[0m\u001b[0m\n\u001b[0m\u001b[1;32m     23\u001b[0m \u001b[0mplt\u001b[0m\u001b[0;34m.\u001b[0m\u001b[0mclose\u001b[0m\u001b[0;34m(\u001b[0m\u001b[0mfig\u001b[0m\u001b[0;34m)\u001b[0m\u001b[0;34m\u001b[0m\u001b[0;34m\u001b[0m\u001b[0m\n",
      "\u001b[0;32m~/anaconda3/lib/python3.7/site-packages/matplotlib/animation.py\u001b[0m in \u001b[0;36msave\u001b[0;34m(self, filename, writer, fps, dpi, codec, bitrate, extra_args, metadata, extra_anim, savefig_kwargs)\u001b[0m\n\u001b[1;32m   1198\u001b[0m                         \u001b[0;31m# TODO: See if turning off blit is really necessary\u001b[0m\u001b[0;34m\u001b[0m\u001b[0;34m\u001b[0m\u001b[0;34m\u001b[0m\u001b[0m\n\u001b[1;32m   1199\u001b[0m                         \u001b[0manim\u001b[0m\u001b[0;34m.\u001b[0m\u001b[0m_draw_next_frame\u001b[0m\u001b[0;34m(\u001b[0m\u001b[0md\u001b[0m\u001b[0;34m,\u001b[0m \u001b[0mblit\u001b[0m\u001b[0;34m=\u001b[0m\u001b[0;32mFalse\u001b[0m\u001b[0;34m)\u001b[0m\u001b[0;34m\u001b[0m\u001b[0;34m\u001b[0m\u001b[0m\n\u001b[0;32m-> 1200\u001b[0;31m                     \u001b[0mwriter\u001b[0m\u001b[0;34m.\u001b[0m\u001b[0mgrab_frame\u001b[0m\u001b[0;34m(\u001b[0m\u001b[0;34m**\u001b[0m\u001b[0msavefig_kwargs\u001b[0m\u001b[0;34m)\u001b[0m\u001b[0;34m\u001b[0m\u001b[0;34m\u001b[0m\u001b[0m\n\u001b[0m\u001b[1;32m   1201\u001b[0m \u001b[0;34m\u001b[0m\u001b[0m\n\u001b[1;32m   1202\u001b[0m         \u001b[0;31m# Reconnect signal for first draw if necessary\u001b[0m\u001b[0;34m\u001b[0m\u001b[0;34m\u001b[0m\u001b[0;34m\u001b[0m\u001b[0m\n",
      "\u001b[0;32m~/anaconda3/lib/python3.7/site-packages/matplotlib/animation.py\u001b[0m in \u001b[0;36mgrab_frame\u001b[0;34m(self, **savefig_kwargs)\u001b[0m\n\u001b[1;32m    383\u001b[0m             \u001b[0;31m# frame format and dpi.\u001b[0m\u001b[0;34m\u001b[0m\u001b[0;34m\u001b[0m\u001b[0;34m\u001b[0m\u001b[0m\n\u001b[1;32m    384\u001b[0m             self.fig.savefig(self._frame_sink(), format=self.frame_format,\n\u001b[0;32m--> 385\u001b[0;31m                              dpi=self.dpi, **savefig_kwargs)\n\u001b[0m\u001b[1;32m    386\u001b[0m         \u001b[0;32mexcept\u001b[0m \u001b[0;34m(\u001b[0m\u001b[0mRuntimeError\u001b[0m\u001b[0;34m,\u001b[0m \u001b[0mIOError\u001b[0m\u001b[0;34m)\u001b[0m \u001b[0;32mas\u001b[0m \u001b[0me\u001b[0m\u001b[0;34m:\u001b[0m\u001b[0;34m\u001b[0m\u001b[0;34m\u001b[0m\u001b[0m\n\u001b[1;32m    387\u001b[0m             \u001b[0mout\u001b[0m\u001b[0;34m,\u001b[0m \u001b[0merr\u001b[0m \u001b[0;34m=\u001b[0m \u001b[0mself\u001b[0m\u001b[0;34m.\u001b[0m\u001b[0m_proc\u001b[0m\u001b[0;34m.\u001b[0m\u001b[0mcommunicate\u001b[0m\u001b[0;34m(\u001b[0m\u001b[0;34m)\u001b[0m\u001b[0;34m\u001b[0m\u001b[0;34m\u001b[0m\u001b[0m\n",
      "\u001b[0;32m~/anaconda3/lib/python3.7/site-packages/matplotlib/figure.py\u001b[0m in \u001b[0;36msavefig\u001b[0;34m(self, fname, **kwargs)\u001b[0m\n\u001b[1;32m   2060\u001b[0m             \u001b[0mself\u001b[0m\u001b[0;34m.\u001b[0m\u001b[0mset_frameon\u001b[0m\u001b[0;34m(\u001b[0m\u001b[0mframeon\u001b[0m\u001b[0;34m)\u001b[0m\u001b[0;34m\u001b[0m\u001b[0;34m\u001b[0m\u001b[0m\n\u001b[1;32m   2061\u001b[0m \u001b[0;34m\u001b[0m\u001b[0m\n\u001b[0;32m-> 2062\u001b[0;31m         \u001b[0mself\u001b[0m\u001b[0;34m.\u001b[0m\u001b[0mcanvas\u001b[0m\u001b[0;34m.\u001b[0m\u001b[0mprint_figure\u001b[0m\u001b[0;34m(\u001b[0m\u001b[0mfname\u001b[0m\u001b[0;34m,\u001b[0m \u001b[0;34m**\u001b[0m\u001b[0mkwargs\u001b[0m\u001b[0;34m)\u001b[0m\u001b[0;34m\u001b[0m\u001b[0;34m\u001b[0m\u001b[0m\n\u001b[0m\u001b[1;32m   2063\u001b[0m \u001b[0;34m\u001b[0m\u001b[0m\n\u001b[1;32m   2064\u001b[0m         \u001b[0;32mif\u001b[0m \u001b[0mframeon\u001b[0m\u001b[0;34m:\u001b[0m\u001b[0;34m\u001b[0m\u001b[0;34m\u001b[0m\u001b[0m\n",
      "\u001b[0;32m~/anaconda3/lib/python3.7/site-packages/matplotlib/backend_bases.py\u001b[0m in \u001b[0;36mprint_figure\u001b[0;34m(self, filename, dpi, facecolor, edgecolor, orientation, format, **kwargs)\u001b[0m\n\u001b[1;32m   2261\u001b[0m                 \u001b[0morientation\u001b[0m\u001b[0;34m=\u001b[0m\u001b[0morientation\u001b[0m\u001b[0;34m,\u001b[0m\u001b[0;34m\u001b[0m\u001b[0;34m\u001b[0m\u001b[0m\n\u001b[1;32m   2262\u001b[0m                 \u001b[0mbbox_inches_restore\u001b[0m\u001b[0;34m=\u001b[0m\u001b[0m_bbox_inches_restore\u001b[0m\u001b[0;34m,\u001b[0m\u001b[0;34m\u001b[0m\u001b[0;34m\u001b[0m\u001b[0m\n\u001b[0;32m-> 2263\u001b[0;31m                 **kwargs)\n\u001b[0m\u001b[1;32m   2264\u001b[0m         \u001b[0;32mfinally\u001b[0m\u001b[0;34m:\u001b[0m\u001b[0;34m\u001b[0m\u001b[0;34m\u001b[0m\u001b[0m\n\u001b[1;32m   2265\u001b[0m             \u001b[0;32mif\u001b[0m \u001b[0mbbox_inches\u001b[0m \u001b[0;32mand\u001b[0m \u001b[0mrestore_bbox\u001b[0m\u001b[0;34m:\u001b[0m\u001b[0;34m\u001b[0m\u001b[0;34m\u001b[0m\u001b[0m\n",
      "\u001b[0;32m~/anaconda3/lib/python3.7/site-packages/matplotlib/backends/backend_agg.py\u001b[0m in \u001b[0;36mprint_raw\u001b[0;34m(self, filename_or_obj, *args, **kwargs)\u001b[0m\n\u001b[1;32m    496\u001b[0m \u001b[0;34m\u001b[0m\u001b[0m\n\u001b[1;32m    497\u001b[0m     \u001b[0;32mdef\u001b[0m \u001b[0mprint_raw\u001b[0m\u001b[0;34m(\u001b[0m\u001b[0mself\u001b[0m\u001b[0;34m,\u001b[0m \u001b[0mfilename_or_obj\u001b[0m\u001b[0;34m,\u001b[0m \u001b[0;34m*\u001b[0m\u001b[0margs\u001b[0m\u001b[0;34m,\u001b[0m \u001b[0;34m**\u001b[0m\u001b[0mkwargs\u001b[0m\u001b[0;34m)\u001b[0m\u001b[0;34m:\u001b[0m\u001b[0;34m\u001b[0m\u001b[0;34m\u001b[0m\u001b[0m\n\u001b[0;32m--> 498\u001b[0;31m         \u001b[0mFigureCanvasAgg\u001b[0m\u001b[0;34m.\u001b[0m\u001b[0mdraw\u001b[0m\u001b[0;34m(\u001b[0m\u001b[0mself\u001b[0m\u001b[0;34m)\u001b[0m\u001b[0;34m\u001b[0m\u001b[0;34m\u001b[0m\u001b[0m\n\u001b[0m\u001b[1;32m    499\u001b[0m         \u001b[0mrenderer\u001b[0m \u001b[0;34m=\u001b[0m \u001b[0mself\u001b[0m\u001b[0;34m.\u001b[0m\u001b[0mget_renderer\u001b[0m\u001b[0;34m(\u001b[0m\u001b[0;34m)\u001b[0m\u001b[0;34m\u001b[0m\u001b[0;34m\u001b[0m\u001b[0m\n\u001b[1;32m    500\u001b[0m         \u001b[0moriginal_dpi\u001b[0m \u001b[0;34m=\u001b[0m \u001b[0mrenderer\u001b[0m\u001b[0;34m.\u001b[0m\u001b[0mdpi\u001b[0m\u001b[0;34m\u001b[0m\u001b[0;34m\u001b[0m\u001b[0m\n",
      "\u001b[0;32m~/anaconda3/lib/python3.7/site-packages/matplotlib/backends/backend_agg.py\u001b[0m in \u001b[0;36mdraw\u001b[0;34m(self)\u001b[0m\n\u001b[1;32m    435\u001b[0m             \u001b[0;31m# if toolbar:\u001b[0m\u001b[0;34m\u001b[0m\u001b[0;34m\u001b[0m\u001b[0;34m\u001b[0m\u001b[0m\n\u001b[1;32m    436\u001b[0m             \u001b[0;31m#     toolbar.set_cursor(cursors.WAIT)\u001b[0m\u001b[0;34m\u001b[0m\u001b[0;34m\u001b[0m\u001b[0;34m\u001b[0m\u001b[0m\n\u001b[0;32m--> 437\u001b[0;31m             \u001b[0mself\u001b[0m\u001b[0;34m.\u001b[0m\u001b[0mfigure\u001b[0m\u001b[0;34m.\u001b[0m\u001b[0mdraw\u001b[0m\u001b[0;34m(\u001b[0m\u001b[0mself\u001b[0m\u001b[0;34m.\u001b[0m\u001b[0mrenderer\u001b[0m\u001b[0;34m)\u001b[0m\u001b[0;34m\u001b[0m\u001b[0;34m\u001b[0m\u001b[0m\n\u001b[0m\u001b[1;32m    438\u001b[0m             \u001b[0;31m# A GUI class may be need to update a window using this draw, so\u001b[0m\u001b[0;34m\u001b[0m\u001b[0;34m\u001b[0m\u001b[0;34m\u001b[0m\u001b[0m\n\u001b[1;32m    439\u001b[0m             \u001b[0;31m# don't forget to call the superclass.\u001b[0m\u001b[0;34m\u001b[0m\u001b[0;34m\u001b[0m\u001b[0;34m\u001b[0m\u001b[0m\n",
      "\u001b[0;32m~/anaconda3/lib/python3.7/site-packages/matplotlib/artist.py\u001b[0m in \u001b[0;36mdraw_wrapper\u001b[0;34m(artist, renderer, *args, **kwargs)\u001b[0m\n\u001b[1;32m     53\u001b[0m                 \u001b[0mrenderer\u001b[0m\u001b[0;34m.\u001b[0m\u001b[0mstart_filter\u001b[0m\u001b[0;34m(\u001b[0m\u001b[0;34m)\u001b[0m\u001b[0;34m\u001b[0m\u001b[0;34m\u001b[0m\u001b[0m\n\u001b[1;32m     54\u001b[0m \u001b[0;34m\u001b[0m\u001b[0m\n\u001b[0;32m---> 55\u001b[0;31m             \u001b[0;32mreturn\u001b[0m \u001b[0mdraw\u001b[0m\u001b[0;34m(\u001b[0m\u001b[0martist\u001b[0m\u001b[0;34m,\u001b[0m \u001b[0mrenderer\u001b[0m\u001b[0;34m,\u001b[0m \u001b[0;34m*\u001b[0m\u001b[0margs\u001b[0m\u001b[0;34m,\u001b[0m \u001b[0;34m**\u001b[0m\u001b[0mkwargs\u001b[0m\u001b[0;34m)\u001b[0m\u001b[0;34m\u001b[0m\u001b[0;34m\u001b[0m\u001b[0m\n\u001b[0m\u001b[1;32m     56\u001b[0m         \u001b[0;32mfinally\u001b[0m\u001b[0;34m:\u001b[0m\u001b[0;34m\u001b[0m\u001b[0;34m\u001b[0m\u001b[0m\n\u001b[1;32m     57\u001b[0m             \u001b[0;32mif\u001b[0m \u001b[0martist\u001b[0m\u001b[0;34m.\u001b[0m\u001b[0mget_agg_filter\u001b[0m\u001b[0;34m(\u001b[0m\u001b[0;34m)\u001b[0m \u001b[0;32mis\u001b[0m \u001b[0;32mnot\u001b[0m \u001b[0;32mNone\u001b[0m\u001b[0;34m:\u001b[0m\u001b[0;34m\u001b[0m\u001b[0;34m\u001b[0m\u001b[0m\n",
      "\u001b[0;32m~/anaconda3/lib/python3.7/site-packages/matplotlib/figure.py\u001b[0m in \u001b[0;36mdraw\u001b[0;34m(self, renderer)\u001b[0m\n\u001b[1;32m   1491\u001b[0m \u001b[0;34m\u001b[0m\u001b[0m\n\u001b[1;32m   1492\u001b[0m             mimage._draw_list_compositing_images(\n\u001b[0;32m-> 1493\u001b[0;31m                 renderer, self, artists, self.suppressComposite)\n\u001b[0m\u001b[1;32m   1494\u001b[0m \u001b[0;34m\u001b[0m\u001b[0m\n\u001b[1;32m   1495\u001b[0m             \u001b[0mrenderer\u001b[0m\u001b[0;34m.\u001b[0m\u001b[0mclose_group\u001b[0m\u001b[0;34m(\u001b[0m\u001b[0;34m'figure'\u001b[0m\u001b[0;34m)\u001b[0m\u001b[0;34m\u001b[0m\u001b[0;34m\u001b[0m\u001b[0m\n",
      "\u001b[0;32m~/anaconda3/lib/python3.7/site-packages/matplotlib/image.py\u001b[0m in \u001b[0;36m_draw_list_compositing_images\u001b[0;34m(renderer, parent, artists, suppress_composite)\u001b[0m\n\u001b[1;32m    139\u001b[0m     \u001b[0;32mif\u001b[0m \u001b[0mnot_composite\u001b[0m \u001b[0;32mor\u001b[0m \u001b[0;32mnot\u001b[0m \u001b[0mhas_images\u001b[0m\u001b[0;34m:\u001b[0m\u001b[0;34m\u001b[0m\u001b[0;34m\u001b[0m\u001b[0m\n\u001b[1;32m    140\u001b[0m         \u001b[0;32mfor\u001b[0m \u001b[0ma\u001b[0m \u001b[0;32min\u001b[0m \u001b[0martists\u001b[0m\u001b[0;34m:\u001b[0m\u001b[0;34m\u001b[0m\u001b[0;34m\u001b[0m\u001b[0m\n\u001b[0;32m--> 141\u001b[0;31m             \u001b[0ma\u001b[0m\u001b[0;34m.\u001b[0m\u001b[0mdraw\u001b[0m\u001b[0;34m(\u001b[0m\u001b[0mrenderer\u001b[0m\u001b[0;34m)\u001b[0m\u001b[0;34m\u001b[0m\u001b[0;34m\u001b[0m\u001b[0m\n\u001b[0m\u001b[1;32m    142\u001b[0m     \u001b[0;32melse\u001b[0m\u001b[0;34m:\u001b[0m\u001b[0;34m\u001b[0m\u001b[0;34m\u001b[0m\u001b[0m\n\u001b[1;32m    143\u001b[0m         \u001b[0;31m# Composite any adjacent images together\u001b[0m\u001b[0;34m\u001b[0m\u001b[0;34m\u001b[0m\u001b[0;34m\u001b[0m\u001b[0m\n",
      "\u001b[0;32m~/anaconda3/lib/python3.7/site-packages/matplotlib/artist.py\u001b[0m in \u001b[0;36mdraw_wrapper\u001b[0;34m(artist, renderer, *args, **kwargs)\u001b[0m\n\u001b[1;32m     53\u001b[0m                 \u001b[0mrenderer\u001b[0m\u001b[0;34m.\u001b[0m\u001b[0mstart_filter\u001b[0m\u001b[0;34m(\u001b[0m\u001b[0;34m)\u001b[0m\u001b[0;34m\u001b[0m\u001b[0;34m\u001b[0m\u001b[0m\n\u001b[1;32m     54\u001b[0m \u001b[0;34m\u001b[0m\u001b[0m\n\u001b[0;32m---> 55\u001b[0;31m             \u001b[0;32mreturn\u001b[0m \u001b[0mdraw\u001b[0m\u001b[0;34m(\u001b[0m\u001b[0martist\u001b[0m\u001b[0;34m,\u001b[0m \u001b[0mrenderer\u001b[0m\u001b[0;34m,\u001b[0m \u001b[0;34m*\u001b[0m\u001b[0margs\u001b[0m\u001b[0;34m,\u001b[0m \u001b[0;34m**\u001b[0m\u001b[0mkwargs\u001b[0m\u001b[0;34m)\u001b[0m\u001b[0;34m\u001b[0m\u001b[0;34m\u001b[0m\u001b[0m\n\u001b[0m\u001b[1;32m     56\u001b[0m         \u001b[0;32mfinally\u001b[0m\u001b[0;34m:\u001b[0m\u001b[0;34m\u001b[0m\u001b[0;34m\u001b[0m\u001b[0m\n\u001b[1;32m     57\u001b[0m             \u001b[0;32mif\u001b[0m \u001b[0martist\u001b[0m\u001b[0;34m.\u001b[0m\u001b[0mget_agg_filter\u001b[0m\u001b[0;34m(\u001b[0m\u001b[0;34m)\u001b[0m \u001b[0;32mis\u001b[0m \u001b[0;32mnot\u001b[0m \u001b[0;32mNone\u001b[0m\u001b[0;34m:\u001b[0m\u001b[0;34m\u001b[0m\u001b[0;34m\u001b[0m\u001b[0m\n",
      "\u001b[0;32m~/anaconda3/lib/python3.7/site-packages/matplotlib/axes/_base.py\u001b[0m in \u001b[0;36mdraw\u001b[0;34m(self, renderer, inframe)\u001b[0m\n\u001b[1;32m   2633\u001b[0m             \u001b[0mrenderer\u001b[0m\u001b[0;34m.\u001b[0m\u001b[0mstop_rasterizing\u001b[0m\u001b[0;34m(\u001b[0m\u001b[0;34m)\u001b[0m\u001b[0;34m\u001b[0m\u001b[0;34m\u001b[0m\u001b[0m\n\u001b[1;32m   2634\u001b[0m \u001b[0;34m\u001b[0m\u001b[0m\n\u001b[0;32m-> 2635\u001b[0;31m         \u001b[0mmimage\u001b[0m\u001b[0;34m.\u001b[0m\u001b[0m_draw_list_compositing_images\u001b[0m\u001b[0;34m(\u001b[0m\u001b[0mrenderer\u001b[0m\u001b[0;34m,\u001b[0m \u001b[0mself\u001b[0m\u001b[0;34m,\u001b[0m \u001b[0martists\u001b[0m\u001b[0;34m)\u001b[0m\u001b[0;34m\u001b[0m\u001b[0;34m\u001b[0m\u001b[0m\n\u001b[0m\u001b[1;32m   2636\u001b[0m \u001b[0;34m\u001b[0m\u001b[0m\n\u001b[1;32m   2637\u001b[0m         \u001b[0mrenderer\u001b[0m\u001b[0;34m.\u001b[0m\u001b[0mclose_group\u001b[0m\u001b[0;34m(\u001b[0m\u001b[0;34m'axes'\u001b[0m\u001b[0;34m)\u001b[0m\u001b[0;34m\u001b[0m\u001b[0;34m\u001b[0m\u001b[0m\n",
      "\u001b[0;32m~/anaconda3/lib/python3.7/site-packages/matplotlib/image.py\u001b[0m in \u001b[0;36m_draw_list_compositing_images\u001b[0;34m(renderer, parent, artists, suppress_composite)\u001b[0m\n\u001b[1;32m    139\u001b[0m     \u001b[0;32mif\u001b[0m \u001b[0mnot_composite\u001b[0m \u001b[0;32mor\u001b[0m \u001b[0;32mnot\u001b[0m \u001b[0mhas_images\u001b[0m\u001b[0;34m:\u001b[0m\u001b[0;34m\u001b[0m\u001b[0;34m\u001b[0m\u001b[0m\n\u001b[1;32m    140\u001b[0m         \u001b[0;32mfor\u001b[0m \u001b[0ma\u001b[0m \u001b[0;32min\u001b[0m \u001b[0martists\u001b[0m\u001b[0;34m:\u001b[0m\u001b[0;34m\u001b[0m\u001b[0;34m\u001b[0m\u001b[0m\n\u001b[0;32m--> 141\u001b[0;31m             \u001b[0ma\u001b[0m\u001b[0;34m.\u001b[0m\u001b[0mdraw\u001b[0m\u001b[0;34m(\u001b[0m\u001b[0mrenderer\u001b[0m\u001b[0;34m)\u001b[0m\u001b[0;34m\u001b[0m\u001b[0;34m\u001b[0m\u001b[0m\n\u001b[0m\u001b[1;32m    142\u001b[0m     \u001b[0;32melse\u001b[0m\u001b[0;34m:\u001b[0m\u001b[0;34m\u001b[0m\u001b[0;34m\u001b[0m\u001b[0m\n\u001b[1;32m    143\u001b[0m         \u001b[0;31m# Composite any adjacent images together\u001b[0m\u001b[0;34m\u001b[0m\u001b[0;34m\u001b[0m\u001b[0;34m\u001b[0m\u001b[0m\n",
      "\u001b[0;32m~/anaconda3/lib/python3.7/site-packages/matplotlib/artist.py\u001b[0m in \u001b[0;36mdraw_wrapper\u001b[0;34m(artist, renderer, *args, **kwargs)\u001b[0m\n\u001b[1;32m     53\u001b[0m                 \u001b[0mrenderer\u001b[0m\u001b[0;34m.\u001b[0m\u001b[0mstart_filter\u001b[0m\u001b[0;34m(\u001b[0m\u001b[0;34m)\u001b[0m\u001b[0;34m\u001b[0m\u001b[0;34m\u001b[0m\u001b[0m\n\u001b[1;32m     54\u001b[0m \u001b[0;34m\u001b[0m\u001b[0m\n\u001b[0;32m---> 55\u001b[0;31m             \u001b[0;32mreturn\u001b[0m \u001b[0mdraw\u001b[0m\u001b[0;34m(\u001b[0m\u001b[0martist\u001b[0m\u001b[0;34m,\u001b[0m \u001b[0mrenderer\u001b[0m\u001b[0;34m,\u001b[0m \u001b[0;34m*\u001b[0m\u001b[0margs\u001b[0m\u001b[0;34m,\u001b[0m \u001b[0;34m**\u001b[0m\u001b[0mkwargs\u001b[0m\u001b[0;34m)\u001b[0m\u001b[0;34m\u001b[0m\u001b[0;34m\u001b[0m\u001b[0m\n\u001b[0m\u001b[1;32m     56\u001b[0m         \u001b[0;32mfinally\u001b[0m\u001b[0;34m:\u001b[0m\u001b[0;34m\u001b[0m\u001b[0;34m\u001b[0m\u001b[0m\n\u001b[1;32m     57\u001b[0m             \u001b[0;32mif\u001b[0m \u001b[0martist\u001b[0m\u001b[0;34m.\u001b[0m\u001b[0mget_agg_filter\u001b[0m\u001b[0;34m(\u001b[0m\u001b[0;34m)\u001b[0m \u001b[0;32mis\u001b[0m \u001b[0;32mnot\u001b[0m \u001b[0;32mNone\u001b[0m\u001b[0;34m:\u001b[0m\u001b[0;34m\u001b[0m\u001b[0;34m\u001b[0m\u001b[0m\n",
      "\u001b[0;32m~/anaconda3/lib/python3.7/site-packages/matplotlib/lines.py\u001b[0m in \u001b[0;36mdraw\u001b[0;34m(self, renderer)\u001b[0m\n\u001b[1;32m    736\u001b[0m \u001b[0;34m\u001b[0m\u001b[0m\n\u001b[1;32m    737\u001b[0m         \u001b[0;32mif\u001b[0m \u001b[0mself\u001b[0m\u001b[0;34m.\u001b[0m\u001b[0m_invalidy\u001b[0m \u001b[0;32mor\u001b[0m \u001b[0mself\u001b[0m\u001b[0;34m.\u001b[0m\u001b[0m_invalidx\u001b[0m\u001b[0;34m:\u001b[0m\u001b[0;34m\u001b[0m\u001b[0;34m\u001b[0m\u001b[0m\n\u001b[0;32m--> 738\u001b[0;31m             \u001b[0mself\u001b[0m\u001b[0;34m.\u001b[0m\u001b[0mrecache\u001b[0m\u001b[0;34m(\u001b[0m\u001b[0;34m)\u001b[0m\u001b[0;34m\u001b[0m\u001b[0;34m\u001b[0m\u001b[0m\n\u001b[0m\u001b[1;32m    739\u001b[0m         \u001b[0mself\u001b[0m\u001b[0;34m.\u001b[0m\u001b[0mind_offset\u001b[0m \u001b[0;34m=\u001b[0m \u001b[0;36m0\u001b[0m  \u001b[0;31m# Needed for contains() method.\u001b[0m\u001b[0;34m\u001b[0m\u001b[0;34m\u001b[0m\u001b[0m\n\u001b[1;32m    740\u001b[0m         \u001b[0;32mif\u001b[0m \u001b[0mself\u001b[0m\u001b[0;34m.\u001b[0m\u001b[0m_subslice\u001b[0m \u001b[0;32mand\u001b[0m \u001b[0mself\u001b[0m\u001b[0;34m.\u001b[0m\u001b[0maxes\u001b[0m\u001b[0;34m:\u001b[0m\u001b[0;34m\u001b[0m\u001b[0;34m\u001b[0m\u001b[0m\n",
      "\u001b[0;32m~/anaconda3/lib/python3.7/site-packages/matplotlib/lines.py\u001b[0m in \u001b[0;36mrecache\u001b[0;34m(self, always)\u001b[0m\n\u001b[1;32m    659\u001b[0m             \u001b[0my\u001b[0m \u001b[0;34m=\u001b[0m \u001b[0mself\u001b[0m\u001b[0;34m.\u001b[0m\u001b[0m_y\u001b[0m\u001b[0;34m\u001b[0m\u001b[0;34m\u001b[0m\u001b[0m\n\u001b[1;32m    660\u001b[0m \u001b[0;34m\u001b[0m\u001b[0m\n\u001b[0;32m--> 661\u001b[0;31m         \u001b[0mself\u001b[0m\u001b[0;34m.\u001b[0m\u001b[0m_xy\u001b[0m \u001b[0;34m=\u001b[0m \u001b[0mnp\u001b[0m\u001b[0;34m.\u001b[0m\u001b[0mcolumn_stack\u001b[0m\u001b[0;34m(\u001b[0m\u001b[0mnp\u001b[0m\u001b[0;34m.\u001b[0m\u001b[0mbroadcast_arrays\u001b[0m\u001b[0;34m(\u001b[0m\u001b[0mx\u001b[0m\u001b[0;34m,\u001b[0m \u001b[0my\u001b[0m\u001b[0;34m)\u001b[0m\u001b[0;34m)\u001b[0m\u001b[0;34m.\u001b[0m\u001b[0mastype\u001b[0m\u001b[0;34m(\u001b[0m\u001b[0mfloat\u001b[0m\u001b[0;34m)\u001b[0m\u001b[0;34m\u001b[0m\u001b[0;34m\u001b[0m\u001b[0m\n\u001b[0m\u001b[1;32m    662\u001b[0m         \u001b[0mself\u001b[0m\u001b[0;34m.\u001b[0m\u001b[0m_x\u001b[0m\u001b[0;34m,\u001b[0m \u001b[0mself\u001b[0m\u001b[0;34m.\u001b[0m\u001b[0m_y\u001b[0m \u001b[0;34m=\u001b[0m \u001b[0mself\u001b[0m\u001b[0;34m.\u001b[0m\u001b[0m_xy\u001b[0m\u001b[0;34m.\u001b[0m\u001b[0mT\u001b[0m  \u001b[0;31m# views\u001b[0m\u001b[0;34m\u001b[0m\u001b[0;34m\u001b[0m\u001b[0m\n\u001b[1;32m    663\u001b[0m \u001b[0;34m\u001b[0m\u001b[0m\n",
      "\u001b[0;32m~/anaconda3/lib/python3.7/site-packages/numpy/lib/stride_tricks.py\u001b[0m in \u001b[0;36mbroadcast_arrays\u001b[0;34m(*args, **kwargs)\u001b[0m\n\u001b[1;32m    250\u001b[0m     \u001b[0margs\u001b[0m \u001b[0;34m=\u001b[0m \u001b[0;34m[\u001b[0m\u001b[0mnp\u001b[0m\u001b[0;34m.\u001b[0m\u001b[0marray\u001b[0m\u001b[0;34m(\u001b[0m\u001b[0m_m\u001b[0m\u001b[0;34m,\u001b[0m \u001b[0mcopy\u001b[0m\u001b[0;34m=\u001b[0m\u001b[0;32mFalse\u001b[0m\u001b[0;34m,\u001b[0m \u001b[0msubok\u001b[0m\u001b[0;34m=\u001b[0m\u001b[0msubok\u001b[0m\u001b[0;34m)\u001b[0m \u001b[0;32mfor\u001b[0m \u001b[0m_m\u001b[0m \u001b[0;32min\u001b[0m \u001b[0margs\u001b[0m\u001b[0;34m]\u001b[0m\u001b[0;34m\u001b[0m\u001b[0;34m\u001b[0m\u001b[0m\n\u001b[1;32m    251\u001b[0m \u001b[0;34m\u001b[0m\u001b[0m\n\u001b[0;32m--> 252\u001b[0;31m     \u001b[0mshape\u001b[0m \u001b[0;34m=\u001b[0m \u001b[0m_broadcast_shape\u001b[0m\u001b[0;34m(\u001b[0m\u001b[0;34m*\u001b[0m\u001b[0margs\u001b[0m\u001b[0;34m)\u001b[0m\u001b[0;34m\u001b[0m\u001b[0;34m\u001b[0m\u001b[0m\n\u001b[0m\u001b[1;32m    253\u001b[0m \u001b[0;34m\u001b[0m\u001b[0m\n\u001b[1;32m    254\u001b[0m     \u001b[0;32mif\u001b[0m \u001b[0mall\u001b[0m\u001b[0;34m(\u001b[0m\u001b[0marray\u001b[0m\u001b[0;34m.\u001b[0m\u001b[0mshape\u001b[0m \u001b[0;34m==\u001b[0m \u001b[0mshape\u001b[0m \u001b[0;32mfor\u001b[0m \u001b[0marray\u001b[0m \u001b[0;32min\u001b[0m \u001b[0margs\u001b[0m\u001b[0;34m)\u001b[0m\u001b[0;34m:\u001b[0m\u001b[0;34m\u001b[0m\u001b[0;34m\u001b[0m\u001b[0m\n",
      "\u001b[0;32m~/anaconda3/lib/python3.7/site-packages/numpy/lib/stride_tricks.py\u001b[0m in \u001b[0;36m_broadcast_shape\u001b[0;34m(*args)\u001b[0m\n\u001b[1;32m    185\u001b[0m     \u001b[0;31m# use the old-iterator because np.nditer does not handle size 0 arrays\u001b[0m\u001b[0;34m\u001b[0m\u001b[0;34m\u001b[0m\u001b[0;34m\u001b[0m\u001b[0m\n\u001b[1;32m    186\u001b[0m     \u001b[0;31m# consistently\u001b[0m\u001b[0;34m\u001b[0m\u001b[0;34m\u001b[0m\u001b[0;34m\u001b[0m\u001b[0m\n\u001b[0;32m--> 187\u001b[0;31m     \u001b[0mb\u001b[0m \u001b[0;34m=\u001b[0m \u001b[0mnp\u001b[0m\u001b[0;34m.\u001b[0m\u001b[0mbroadcast\u001b[0m\u001b[0;34m(\u001b[0m\u001b[0;34m*\u001b[0m\u001b[0margs\u001b[0m\u001b[0;34m[\u001b[0m\u001b[0;34m:\u001b[0m\u001b[0;36m32\u001b[0m\u001b[0;34m]\u001b[0m\u001b[0;34m)\u001b[0m\u001b[0;34m\u001b[0m\u001b[0;34m\u001b[0m\u001b[0m\n\u001b[0m\u001b[1;32m    188\u001b[0m     \u001b[0;31m# unfortunately, it cannot handle 32 or more arguments directly\u001b[0m\u001b[0;34m\u001b[0m\u001b[0;34m\u001b[0m\u001b[0;34m\u001b[0m\u001b[0m\n\u001b[1;32m    189\u001b[0m     \u001b[0;32mfor\u001b[0m \u001b[0mpos\u001b[0m \u001b[0;32min\u001b[0m \u001b[0mrange\u001b[0m\u001b[0;34m(\u001b[0m\u001b[0;36m32\u001b[0m\u001b[0;34m,\u001b[0m \u001b[0mlen\u001b[0m\u001b[0;34m(\u001b[0m\u001b[0margs\u001b[0m\u001b[0;34m)\u001b[0m\u001b[0;34m,\u001b[0m \u001b[0;36m31\u001b[0m\u001b[0;34m)\u001b[0m\u001b[0;34m:\u001b[0m\u001b[0;34m\u001b[0m\u001b[0;34m\u001b[0m\u001b[0m\n",
      "\u001b[0;31mValueError\u001b[0m: shape mismatch: objects cannot be broadcast to a single shape"
     ]
    }
   ],
   "source": [
    "filename = 'mhd_fea.mp4'\n",
    "# Create our animation writer\n",
    "animation.writer = animation.writers['ffmpeg']\n",
    "\n",
    "# Define our update function that will get our solution at each time t and plot it against x\n",
    "def update(i):\n",
    "    curve.set_data(x,U[i]) \n",
    "    return curve\n",
    "\n",
    "# Create our animation base figure\n",
    "plt.ioff()\n",
    "fig = plt.figure()\n",
    "\n",
    "ax = fig.add_subplot(1,1,1)\n",
    "ax.set_ylim((-.2,.5))\n",
    "ax.set_xlim((0,1))\n",
    "curve, = plt.plot([],[], color='r')\n",
    "plt.xlabel(\"x\")\n",
    "plt.title('Finite Element Solution')\n",
    "\n",
    "ani = animation.FuncAnimation(fig,update,frames=nt+1,interval=100)\n",
    "ani.save(filename)\n",
    "plt.close(fig)"
   ]
  },
  {
   "cell_type": "markdown",
   "metadata": {},
   "source": [
    "<video src=\"heat_equation_fea.mp4\" controls>"
   ]
  },
  {
   "cell_type": "code",
   "execution_count": null,
   "metadata": {},
   "outputs": [],
   "source": [
    "# problem parameters\n",
    "f = lambda x: 2*np.maximum(.2-np.abs(x-.5),0)\n",
    "nu = .05\n",
    "\n",
    "# space and time grids\n",
    "m,n = 80,350\n",
    "x,dx = np.linspace(0,1,m+1,retstep=True)\n",
    "t,dt = np.linspace(0,1,n+1,retstep=True)\n",
    "\n",
    "# solution array\n",
    "U2 = np.zeros((n+1,m+1))\n",
    "U2[0] = f(x)\n",
    "\n",
    "lambda_ = nu*dt/(dx**2)\n",
    "# loop forward in time\n",
    "for i in range(n):\n",
    "    U2[i+1,1:-1] = U2[i,1:-1]+lambda_*(U2[i,2:]-2*U2[i,1:-1]+U2[i,:-2])\n",
    "    \n",
    "    \n",
    "# Create our animation writer\n",
    "animation.writer = animation.writers['ffmpeg']\n",
    "\n",
    "# Define our update function that will get our solution at each time t and plot it against x\n",
    "def update(i):\n",
    "    curve.set_data(x,U2[i]) \n",
    "#     ax.set_ylabel(f\"label\")\n",
    "#     ax.set_title(r\"title\")\n",
    "    return curve\n",
    "\n",
    "# Create our animation base figure\n",
    "plt.ioff()\n",
    "fig = plt.figure()\n",
    "\n",
    "ax = fig.add_subplot(1,1,1)\n",
    "ax.set_ylim((-.2,.5))\n",
    "ax.set_xlim((0,1))\n",
    "curve, = plt.plot([],[], color='r')\n",
    "plt.xlabel(\"x\")\n",
    "plt.title('Finite Difference Solution')\n",
    "\n",
    "ani = animation.FuncAnimation(fig,update,frames=n+1,interval=100)\n",
    "ani.save(\"heat_equation_fd.mp4\")\n",
    "plt.close(fig)"
   ]
  },
  {
   "cell_type": "markdown",
   "metadata": {},
   "source": [
    "<video src=\"heat_equation_fd.mp4\" controls>"
   ]
  },
  {
   "cell_type": "code",
   "execution_count": null,
   "metadata": {},
   "outputs": [],
   "source": [
    "print(la.norm(U-U2), sep='\\n')"
   ]
  },
  {
   "cell_type": "code",
   "execution_count": null,
   "metadata": {},
   "outputs": [],
   "source": [
    "# function that solves the same system but assuming linearity (used KU = F)\n",
    "def func2(D_):\n",
    "    \n",
    "    # initialize K and F\n",
    "    K = np.zeros((nx+1,nx+1))\n",
    "    F = np.zeros(nx+1)\n",
    "    \n",
    "    # Make sure D_ is correct shape\n",
    "    D_ = D_.reshape((num_eqs,nx+1))\n",
    "    \n",
    "    for e in _elements:\n",
    "        \n",
    "        # get gauss quad vals on the element\n",
    "        vals, derivs, globs = e.quad_vals()\n",
    "        \n",
    "        for j in range(2):\n",
    "            fapprox = 0\n",
    "            for i in range(2):\n",
    "                approx = 0\n",
    "                for k in range(3):\n",
    "                    # evaluate shape func at xi\n",
    "                    v = vals[j][k]\n",
    "                    dv = derivs[j][k]\n",
    "\n",
    "                    # evaluate U approx at xi\n",
    "                    U = vals[i][k]\n",
    "                    U_ = D_[:,e.id+i]*vals[i][k]\n",
    "                    dU = derivs[i][k]\n",
    "\n",
    "                    # compute the integral\n",
    "                    val = f0(U)*v/dt  - f1(U)*dv + nu*(b(U)*dU)*dv\n",
    "                    fval = f0(U_)*v/dt\n",
    "                    approx += val*w[k]\n",
    "                    fapprox += fval*w[k]\n",
    "                \n",
    "                # add to the appropriate equation in the system\n",
    "                K[e.id+j,e.id+i] += approx\n",
    "            F[e.id+j] += fapprox\n",
    "            \n",
    "    # incorporate boundary data\n",
    "    K[-1] *= 0\n",
    "    K[:,-1] *= 0\n",
    "    K[-1,-1] = 1\n",
    "    F[-1] = 0\n",
    "    \n",
    "    K[0] *= 0\n",
    "    K[:,0] *= 0\n",
    "    K[0,0] = 1\n",
    "    F[0] = 0\n",
    "    \n",
    "    # solve the system\n",
    "    d = la.solve(K,F)\n",
    "    return d"
   ]
  },
  {
   "cell_type": "code",
   "execution_count": null,
   "metadata": {},
   "outputs": [],
   "source": []
  }
 ],
 "metadata": {
  "kernelspec": {
   "display_name": "Python 3",
   "language": "python",
   "name": "python3"
  },
  "language_info": {
   "codemirror_mode": {
    "name": "ipython",
    "version": 3
   },
   "file_extension": ".py",
   "mimetype": "text/x-python",
   "name": "python",
   "nbconvert_exporter": "python",
   "pygments_lexer": "ipython3",
   "version": "3.7.3"
  }
 },
 "nbformat": 4,
 "nbformat_minor": 2
}
